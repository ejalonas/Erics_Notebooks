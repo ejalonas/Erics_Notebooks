{
 "cells": [
  {
   "cell_type": "code",
   "execution_count": 1,
   "metadata": {
    "collapsed": true
   },
   "outputs": [],
   "source": [
    "import simplejson\n",
    "import requests\n",
    "import time\n",
    "import numpy as np\n",
    "import pandas as pd\n",
    "import json"
   ]
  },
  {
   "cell_type": "code",
   "execution_count": 2,
   "metadata": {
    "collapsed": false,
    "scrolled": true
   },
   "outputs": [
    {
     "data": {
      "text/plain": [
       "[u'scheduled', u'status', u'home_team', u'away_team', u'id']"
      ]
     },
     "execution_count": 2,
     "metadata": {},
     "output_type": "execute_result"
    }
   ],
   "source": [
    "string = 'http://api.sportradar.us/nfl-t1/2015/REG/5/WAS/ATL/injuries.json?api_key=jdmq6nfne2a7ucg6g5jkvsz7'\n",
    "answer = requests.get(string)\n",
    "test  = answer.json()\n",
    "test.keys()\n",
    "\n",
    "test.keys()"
   ]
  },
  {
   "cell_type": "code",
   "execution_count": 3,
   "metadata": {
    "collapsed": false
   },
   "outputs": [],
   "source": [
    "\n",
    "def flatten_injuries(dict_in):\n",
    "    i=0\n",
    "    n=0\n",
    "    m=0\n",
    "    list_dicts = []\n",
    "    \n",
    "    for key1 in dict_in.keys():\n",
    "        if (type(dict_in[key1]) == dict):\n",
    "            for key2 in dict_in[key1].keys():\n",
    "                #print key2\n",
    "                if (type(dict_in[key1][key2]) == list):\n",
    "                    for i in range(0,len(dict_in[key1][key2])):\n",
    "                        #print dict_in[key1][key2][i]\n",
    "                        #df_out = pd.DataFrame(dict_in[key1][key2][i])\n",
    "                        if (type(dict_in[key1][key2][i]) == dict):\n",
    "                            for key3 in dict_in[key1][key2][i].keys():\n",
    "                                #print key3\n",
    "                                if (type(dict_in[key1][key2][i][key3]) == list):\n",
    "                                    #print dict_in[key1][key2][i][key3]\n",
    "                                    for n in range(0,len(dict_in[key1][key2][i][key3])):\n",
    "                                        if (type(dict_in[key1][key2][i][key3][n]) == dict):\n",
    "                                            #print type(dict_in[key1][key2][i][key3][n])\n",
    "                                            dict1 = dict_in[key1][key2][i][key3][n].copy()\n",
    "                                            #print 'dict 1 is', dict1\n",
    "                                            dict2 = dict_in[key1][key2][i].copy()\n",
    "                                            #print 'dict 2 is '\n",
    "                                            del dict2[key3]\n",
    "                                            row = dict(dict2, **dict1)\n",
    "                                            #print 'row is', row\n",
    "                                            dict3 = dict_in[key1].copy()\n",
    "                                            #print dict3\n",
    "                                            del dict3[key2]\n",
    "                                            list_dicts.append(dict(dict3, **row))\n",
    "                                            m += 1\n",
    "                                            \n",
    "    df_out = pd.DataFrame(list_dicts)\n",
    "    game_id = pd.Series([dict_in['id']]*len(df.index), name = 'game_id')\n",
    "    df_out = pd.concat([series,df], axis=1)\n",
    "    return df_out"
   ]
  },
  {
   "cell_type": "code",
   "execution_count": 4,
   "metadata": {
    "collapsed": false
   },
   "outputs": [
    {
     "ename": "NameError",
     "evalue": "name 'df' is not defined",
     "output_type": "error",
     "traceback": [
      "\u001b[0;31m---------------------------------------------------------------------------\u001b[0m",
      "\u001b[0;31mNameError\u001b[0m                                 Traceback (most recent call last)",
      "\u001b[0;32m<ipython-input-4-f1e312a977c7>\u001b[0m in \u001b[0;36m<module>\u001b[0;34m()\u001b[0m\n\u001b[0;32m----> 1\u001b[0;31m \u001b[0mseries\u001b[0m \u001b[0;34m=\u001b[0m \u001b[0mpd\u001b[0m\u001b[0;34m.\u001b[0m\u001b[0mSeries\u001b[0m\u001b[0;34m(\u001b[0m\u001b[0;34m[\u001b[0m\u001b[0mtest\u001b[0m\u001b[0;34m[\u001b[0m\u001b[0;34m'id'\u001b[0m\u001b[0;34m]\u001b[0m\u001b[0;34m]\u001b[0m\u001b[0;34m*\u001b[0m\u001b[0mlen\u001b[0m\u001b[0;34m(\u001b[0m\u001b[0mdf\u001b[0m\u001b[0;34m.\u001b[0m\u001b[0mindex\u001b[0m\u001b[0;34m)\u001b[0m\u001b[0;34m,\u001b[0m \u001b[0mname\u001b[0m \u001b[0;34m=\u001b[0m \u001b[0;34m'game_id'\u001b[0m\u001b[0;34m)\u001b[0m\u001b[0;34m\u001b[0m\u001b[0m\n\u001b[0m\u001b[1;32m      2\u001b[0m \u001b[0;34m\u001b[0m\u001b[0m\n\u001b[1;32m      3\u001b[0m \u001b[0mseries\u001b[0m\u001b[0;34m\u001b[0m\u001b[0m\n",
      "\u001b[0;31mNameError\u001b[0m: name 'df' is not defined"
     ]
    }
   ],
   "source": [
    "series = pd.Series([test['id']]*len(df.index), name = 'game_id')\n",
    "\n",
    "series"
   ]
  },
  {
   "cell_type": "code",
   "execution_count": null,
   "metadata": {
    "collapsed": false
   },
   "outputs": [],
   "source": [
    "pd.concat([series,df], axis=1)"
   ]
  },
  {
   "cell_type": "code",
   "execution_count": null,
   "metadata": {
    "collapsed": false
   },
   "outputs": [],
   "source": [
    "df = flatten_injuries(test)"
   ]
  },
  {
   "cell_type": "code",
   "execution_count": null,
   "metadata": {
    "collapsed": false
   },
   "outputs": [],
   "source": [
    "df"
   ]
  },
  {
   "cell_type": "code",
   "execution_count": null,
   "metadata": {
    "collapsed": true
   },
   "outputs": [],
   "source": [
    "b = dict1.copy()"
   ]
  },
  {
   "cell_type": "code",
   "execution_count": null,
   "metadata": {
    "collapsed": false
   },
   "outputs": [],
   "source": [
    "del b['b']"
   ]
  },
  {
   "cell_type": "code",
   "execution_count": null,
   "metadata": {
    "collapsed": false
   },
   "outputs": [],
   "source": [
    "type(b)"
   ]
  },
  {
   "cell_type": "code",
   "execution_count": null,
   "metadata": {
    "collapsed": false
   },
   "outputs": [],
   "source": [
    "dict1"
   ]
  },
  {
   "cell_type": "code",
   "execution_count": 5,
   "metadata": {
    "collapsed": false
   },
   "outputs": [
    {
     "ename": "NameError",
     "evalue": "name 'dict1' is not defined",
     "output_type": "error",
     "traceback": [
      "\u001b[0;31m---------------------------------------------------------------------------\u001b[0m",
      "\u001b[0;31mNameError\u001b[0m                                 Traceback (most recent call last)",
      "\u001b[0;32m<ipython-input-5-6bf32af44180>\u001b[0m in \u001b[0;36m<module>\u001b[0;34m()\u001b[0m\n\u001b[0;32m----> 1\u001b[0;31m \u001b[0mtype\u001b[0m\u001b[0;34m(\u001b[0m\u001b[0mdict1\u001b[0m\u001b[0;34m)\u001b[0m\u001b[0;34m\u001b[0m\u001b[0m\n\u001b[0m",
      "\u001b[0;31mNameError\u001b[0m: name 'dict1' is not defined"
     ]
    }
   ],
   "source": [
    "type(dict1)"
   ]
  },
  {
   "cell_type": "code",
   "execution_count": 6,
   "metadata": {
    "collapsed": false
   },
   "outputs": [
    {
     "ename": "NameError",
     "evalue": "name 'b' is not defined",
     "output_type": "error",
     "traceback": [
      "\u001b[0;31m---------------------------------------------------------------------------\u001b[0m",
      "\u001b[0;31mNameError\u001b[0m                                 Traceback (most recent call last)",
      "\u001b[0;32m<ipython-input-6-3b5d5c371295>\u001b[0m in \u001b[0;36m<module>\u001b[0;34m()\u001b[0m\n\u001b[0;32m----> 1\u001b[0;31m \u001b[0mb\u001b[0m\u001b[0;34m\u001b[0m\u001b[0m\n\u001b[0m",
      "\u001b[0;31mNameError\u001b[0m: name 'b' is not defined"
     ]
    }
   ],
   "source": [
    "b"
   ]
  },
  {
   "cell_type": "code",
   "execution_count": null,
   "metadata": {
    "collapsed": true
   },
   "outputs": [],
   "source": []
  },
  {
   "cell_type": "markdown",
   "metadata": {},
   "source": [
    "# Gathering game statistics"
   ]
  },
  {
   "cell_type": "code",
   "execution_count": 7,
   "metadata": {
    "collapsed": false
   },
   "outputs": [
    {
     "data": {
      "text/plain": [
       "[u'scheduled', u'status', u'home_team', u'away_team', u'id']"
      ]
     },
     "execution_count": 7,
     "metadata": {},
     "output_type": "execute_result"
    }
   ],
   "source": [
    "string = 'http://api.sportradar.us/nfl-t1/2015/REG/1/MIN/SF/statistics.json?api_key=jdmq6nfne2a7ucg6g5jkvsz7'\n",
    "answer = requests.get(string)\n",
    "test  = answer.json()\n",
    "test.keys()"
   ]
  },
  {
   "cell_type": "code",
   "execution_count": 8,
   "metadata": {
    "collapsed": false
   },
   "outputs": [
    {
     "data": {
      "text/plain": [
       "{u'players': [{u'avg': 46.667,\n",
       "   u'avg_ret': 4.5,\n",
       "   u'blk': 0,\n",
       "   u'id': u'9000be32-15ad-4c43-bf8d-79a9c7113cdd',\n",
       "   u'in20': 2,\n",
       "   u'in20_pct': 66.667,\n",
       "   u'jersey': 5,\n",
       "   u'lg': 52,\n",
       "   u'name': u'Bradley Pinion',\n",
       "   u'net_avg': 43.667,\n",
       "   u'net_yds': 131,\n",
       "   u'position': u'P',\n",
       "   u'punts': 3,\n",
       "   u'ret': 2,\n",
       "   u'ret_yds': 9,\n",
       "   u'sfty': 0,\n",
       "   u'tb': 0,\n",
       "   u'tb_pct': 0.0,\n",
       "   u'yds': 140}],\n",
       " u'team': {u'avg': 46.667,\n",
       "  u'avg_ret': 4.5,\n",
       "  u'blk': 0,\n",
       "  u'in20': 2,\n",
       "  u'in20_pct': 66.667,\n",
       "  u'lg': 52,\n",
       "  u'net_avg': 43.667,\n",
       "  u'net_yds': 131,\n",
       "  u'punts': 3,\n",
       "  u'ret': 2,\n",
       "  u'ret_yds': 9,\n",
       "  u'sfty': 0,\n",
       "  u'tb': 0,\n",
       "  u'tb_pct': 0.0,\n",
       "  u'yds': 140}}"
      ]
     },
     "execution_count": 8,
     "metadata": {},
     "output_type": "execute_result"
    }
   ],
   "source": [
    "test['home_team']['statistics']['punting']"
   ]
  },
  {
   "cell_type": "code",
   "execution_count": 52,
   "metadata": {
    "collapsed": false
   },
   "outputs": [],
   "source": [
    "def flatten_game_stats(dict_in, stat_key):\n",
    "    i=0\n",
    "    n=0\n",
    "    m=0\n",
    "    player_stats = []\n",
    "    team_stats = []\n",
    "    \n",
    "    for key1 in dict_in.keys():\n",
    "        if (type(dict_in[key1]) == dict):\n",
    "            for key2 in dict_in[key1].keys():\n",
    "                if (type(dict_in[key1][key2]) == dict):\n",
    "                    for key3 in dict_in[key1][key2][stat_key].keys():\n",
    "                        if (key3 == 'players'):\n",
    "                            for n in range(0,len(dict_in[key1][key2][stat_key][key3])):\n",
    "                                player_row = dict_in[key1][key2][stat_key][key3][n].copy()\n",
    "                                player_row['market'] = dict_in[key1]['market']\n",
    "                                player_row['name'] = dict_in[key1]['name']\n",
    "                                player_stats.append(player_row)\n",
    "                                n+=1\n",
    "                        elif (key3 == 'team'):\n",
    "                            team_row = dict_in[key1][key2][stat_key][key3]\n",
    "                            team_row['market'] = dict_in[key1]['market']\n",
    "                            team_row['name'] = dict_in[key1]['name']\n",
    "                            team_stats.append(team_row)\n",
    "                        \n",
    "    player_df_out = pd.DataFrame(player_stats)\n",
    "    team_df_out = pd.DataFrame(team_stats)\n",
    "    \n",
    "    game_id_players = pd.Series([dict_in['id']]*len(player_df_out.index), name = 'game_id')\n",
    "    game_id_team = pd.Series([dict_in['id']]*len(team_df_out.index), name = 'game_id')\n",
    "    \n",
    "    scheduled_players = pd.Series([dict_in['scheduled']]*len(player_df_out.index), name = 'scheduled')\n",
    "    scheduled_team = pd.Series([dict_in['scheduled']]*len(team_df_out.index), name = 'scheduled')\n",
    "    \n",
    "    player_df_out = pd.concat([game_id_players, scheduled_players, player_df_out], axis=1)\n",
    "    team_df_out = pd.concat([game_id_team, scheduled_team, team_df_out], axis = 1)\n",
    "    \n",
    "    return player_df_out,team_df_out"
   ]
  },
  {
   "cell_type": "code",
   "execution_count": 53,
   "metadata": {
    "collapsed": false
   },
   "outputs": [],
   "source": [
    "from pandas.io.json import json_normalize"
   ]
  },
  {
   "cell_type": "code",
   "execution_count": 54,
   "metadata": {
    "collapsed": false
   },
   "outputs": [
    {
     "data": {
      "text/plain": [
       "u'49ers'"
      ]
     },
     "execution_count": 54,
     "metadata": {},
     "output_type": "execute_result"
    }
   ],
   "source": [
    "test['home_team']['name']"
   ]
  },
  {
   "cell_type": "code",
   "execution_count": 55,
   "metadata": {
    "collapsed": false
   },
   "outputs": [],
   "source": [
    "x,y = flatten_game_stats(test, stat_key = 'punting')"
   ]
  },
  {
   "cell_type": "code",
   "execution_count": 56,
   "metadata": {
    "collapsed": false
   },
   "outputs": [
    {
     "data": {
      "text/plain": [
       "Index([  u'game_id', u'scheduled',       u'avg',   u'avg_ret',       u'blk',\n",
       "              u'id',      u'in20',  u'in20_pct',    u'jersey',        u'lg',\n",
       "          u'market',      u'name',   u'net_avg',   u'net_yds',  u'position',\n",
       "           u'punts',       u'ret',   u'ret_yds',      u'sfty',        u'tb',\n",
       "          u'tb_pct',       u'yds'],\n",
       "      dtype='object')"
      ]
     },
     "execution_count": 56,
     "metadata": {},
     "output_type": "execute_result"
    }
   ],
   "source": [
    "x.columns"
   ]
  },
  {
   "cell_type": "code",
   "execution_count": 60,
   "metadata": {
    "collapsed": false
   },
   "outputs": [
    {
     "data": {
      "text/plain": [
       "Index([  u'game_id', u'scheduled',       u'avg',   u'avg_ret',       u'blk',\n",
       "            u'in20',  u'in20_pct',        u'lg',    u'market',      u'name',\n",
       "         u'net_avg',   u'net_yds',     u'punts',       u'ret',   u'ret_yds',\n",
       "            u'sfty',        u'tb',    u'tb_pct',       u'yds'],\n",
       "      dtype='object')"
      ]
     },
     "execution_count": 60,
     "metadata": {},
     "output_type": "execute_result"
    }
   ],
   "source": [
    "y.columns"
   ]
  },
  {
   "cell_type": "code",
   "execution_count": 61,
   "metadata": {
    "collapsed": false
   },
   "outputs": [
    {
     "data": {
      "text/html": [
       "<div>\n",
       "<table border=\"1\" class=\"dataframe\">\n",
       "  <thead>\n",
       "    <tr style=\"text-align: right;\">\n",
       "      <th></th>\n",
       "      <th>game_id</th>\n",
       "      <th>scheduled</th>\n",
       "      <th>avg</th>\n",
       "      <th>avg_ret</th>\n",
       "      <th>blk</th>\n",
       "      <th>in20</th>\n",
       "      <th>in20_pct</th>\n",
       "      <th>lg</th>\n",
       "      <th>market</th>\n",
       "      <th>name</th>\n",
       "      <th>net_avg</th>\n",
       "      <th>net_yds</th>\n",
       "      <th>punts</th>\n",
       "      <th>ret</th>\n",
       "      <th>ret_yds</th>\n",
       "      <th>sfty</th>\n",
       "      <th>tb</th>\n",
       "      <th>tb_pct</th>\n",
       "      <th>yds</th>\n",
       "    </tr>\n",
       "  </thead>\n",
       "  <tbody>\n",
       "    <tr>\n",
       "      <th>0</th>\n",
       "      <td>718a4f52-c6af-4080-b955-95e8769b68a7</td>\n",
       "      <td>2015-09-15T02:20:00+00:00</td>\n",
       "      <td>46.667</td>\n",
       "      <td>4.5</td>\n",
       "      <td>0</td>\n",
       "      <td>2</td>\n",
       "      <td>66.667</td>\n",
       "      <td>52</td>\n",
       "      <td>San Francisco</td>\n",
       "      <td>49ers</td>\n",
       "      <td>43.667</td>\n",
       "      <td>131</td>\n",
       "      <td>3</td>\n",
       "      <td>2</td>\n",
       "      <td>9</td>\n",
       "      <td>0</td>\n",
       "      <td>0</td>\n",
       "      <td>0</td>\n",
       "      <td>140</td>\n",
       "    </tr>\n",
       "    <tr>\n",
       "      <th>1</th>\n",
       "      <td>718a4f52-c6af-4080-b955-95e8769b68a7</td>\n",
       "      <td>2015-09-15T02:20:00+00:00</td>\n",
       "      <td>37.500</td>\n",
       "      <td>0.0</td>\n",
       "      <td>0</td>\n",
       "      <td>2</td>\n",
       "      <td>50.000</td>\n",
       "      <td>44</td>\n",
       "      <td>Minnesota</td>\n",
       "      <td>Vikings</td>\n",
       "      <td>37.500</td>\n",
       "      <td>150</td>\n",
       "      <td>4</td>\n",
       "      <td>2</td>\n",
       "      <td>0</td>\n",
       "      <td>0</td>\n",
       "      <td>0</td>\n",
       "      <td>0</td>\n",
       "      <td>150</td>\n",
       "    </tr>\n",
       "  </tbody>\n",
       "</table>\n",
       "</div>"
      ],
      "text/plain": [
       "                                game_id                  scheduled     avg  \\\n",
       "0  718a4f52-c6af-4080-b955-95e8769b68a7  2015-09-15T02:20:00+00:00  46.667   \n",
       "1  718a4f52-c6af-4080-b955-95e8769b68a7  2015-09-15T02:20:00+00:00  37.500   \n",
       "\n",
       "   avg_ret  blk  in20  in20_pct  lg         market     name  net_avg  net_yds  \\\n",
       "0      4.5    0     2    66.667  52  San Francisco    49ers   43.667      131   \n",
       "1      0.0    0     2    50.000  44      Minnesota  Vikings   37.500      150   \n",
       "\n",
       "   punts  ret  ret_yds  sfty  tb  tb_pct  yds  \n",
       "0      3    2        9     0   0       0  140  \n",
       "1      4    2        0     0   0       0  150  "
      ]
     },
     "execution_count": 61,
     "metadata": {},
     "output_type": "execute_result"
    }
   ],
   "source": [
    "y.head()"
   ]
  },
  {
   "cell_type": "code",
   "execution_count": 62,
   "metadata": {
    "collapsed": false
   },
   "outputs": [
    {
     "data": {
      "text/plain": [
       "unicode"
      ]
     },
     "execution_count": 62,
     "metadata": {},
     "output_type": "execute_result"
    }
   ],
   "source": [
    "type(y.scheduled[1])"
   ]
  },
  {
   "cell_type": "markdown",
   "metadata": {},
   "source": [
    "# Import JSON function"
   ]
  },
  {
   "cell_type": "code",
   "execution_count": 63,
   "metadata": {
    "collapsed": true
   },
   "outputs": [],
   "source": [
    "def api_get_injuries(year,season_type,week,home_team,away_team):\n",
    "    string = 'http://api.sportradar.us/nfl-t1/%f/%s/%f/%s/&s/statistics.json?api_key=jdmq6nfne2a7ucg6g5jkvsz7' %(year, season, week, home_team, away_team)\n",
    "    answer = requests.get(string)\n",
    "    dict_out  = answer.json()\n",
    "    return dict_out\n",
    "    \n",
    "    \n"
   ]
  },
  {
   "cell_type": "code",
   "execution_count": 65,
   "metadata": {
    "collapsed": false
   },
   "outputs": [
    {
     "ename": "TypeError",
     "evalue": "not all arguments converted during string formatting",
     "output_type": "error",
     "traceback": [
      "\u001b[0;31m---------------------------------------------------------------------------\u001b[0m",
      "\u001b[0;31mTypeError\u001b[0m                                 Traceback (most recent call last)",
      "\u001b[0;32m<ipython-input-65-7c7e3efb31b5>\u001b[0m in \u001b[0;36m<module>\u001b[0;34m()\u001b[0m\n\u001b[0;32m----> 1\u001b[0;31m \u001b[0mapi_get_injuries\u001b[0m\u001b[0;34m(\u001b[0m\u001b[0;36m2015\u001b[0m\u001b[0;34m,\u001b[0m\u001b[0;34m'REG'\u001b[0m\u001b[0;34m,\u001b[0m\u001b[0;36m5\u001b[0m\u001b[0;34m,\u001b[0m\u001b[0;34m'WAS'\u001b[0m\u001b[0;34m,\u001b[0m\u001b[0;34m'ATL'\u001b[0m\u001b[0;34m)\u001b[0m\u001b[0;34m\u001b[0m\u001b[0m\n\u001b[0m",
      "\u001b[0;32m<ipython-input-63-6c704012cdd8>\u001b[0m in \u001b[0;36mapi_get_injuries\u001b[0;34m(year, season, week, home_team, away_team)\u001b[0m\n\u001b[1;32m      1\u001b[0m \u001b[0;32mdef\u001b[0m \u001b[0mapi_get_injuries\u001b[0m\u001b[0;34m(\u001b[0m\u001b[0myear\u001b[0m\u001b[0;34m,\u001b[0m\u001b[0mseason\u001b[0m\u001b[0;34m,\u001b[0m\u001b[0mweek\u001b[0m\u001b[0;34m,\u001b[0m\u001b[0mhome_team\u001b[0m\u001b[0;34m,\u001b[0m\u001b[0maway_team\u001b[0m\u001b[0;34m)\u001b[0m\u001b[0;34m:\u001b[0m\u001b[0;34m\u001b[0m\u001b[0m\n\u001b[0;32m----> 2\u001b[0;31m     \u001b[0mstring\u001b[0m \u001b[0;34m=\u001b[0m \u001b[0;34m'http://api.sportradar.us/nfl-t1/%f/%s/%f/%s/&s/statistics.json?api_key=jdmq6nfne2a7ucg6g5jkvsz7'\u001b[0m \u001b[0;34m%\u001b[0m\u001b[0;34m(\u001b[0m\u001b[0myear\u001b[0m\u001b[0;34m,\u001b[0m \u001b[0mseason\u001b[0m\u001b[0;34m,\u001b[0m \u001b[0mweek\u001b[0m\u001b[0;34m,\u001b[0m \u001b[0mhome_team\u001b[0m\u001b[0;34m,\u001b[0m \u001b[0maway_team\u001b[0m\u001b[0;34m)\u001b[0m\u001b[0;34m\u001b[0m\u001b[0m\n\u001b[0m\u001b[1;32m      3\u001b[0m     \u001b[0manswer\u001b[0m \u001b[0;34m=\u001b[0m \u001b[0mrequests\u001b[0m\u001b[0;34m.\u001b[0m\u001b[0mget\u001b[0m\u001b[0;34m(\u001b[0m\u001b[0mstring\u001b[0m\u001b[0;34m)\u001b[0m\u001b[0;34m\u001b[0m\u001b[0m\n\u001b[1;32m      4\u001b[0m     \u001b[0mdict_out\u001b[0m  \u001b[0;34m=\u001b[0m \u001b[0manswer\u001b[0m\u001b[0;34m.\u001b[0m\u001b[0mjson\u001b[0m\u001b[0;34m(\u001b[0m\u001b[0;34m)\u001b[0m\u001b[0;34m\u001b[0m\u001b[0m\n\u001b[1;32m      5\u001b[0m     \u001b[0;32mreturn\u001b[0m \u001b[0mdict_out\u001b[0m\u001b[0;34m\u001b[0m\u001b[0m\n",
      "\u001b[0;31mTypeError\u001b[0m: not all arguments converted during string formatting"
     ]
    }
   ],
   "source": [
    "api_get_injuries(2015,'REG',5,'WAS','ATL')"
   ]
  },
  {
   "cell_type": "markdown",
   "metadata": {},
   "source": [
    "# Getting the schedule parsed"
   ]
  },
  {
   "cell_type": "code",
   "execution_count": 156,
   "metadata": {
    "collapsed": false
   },
   "outputs": [
    {
     "data": {
      "text/plain": [
       "[u'bye_week', u'games', u'id', u'number']"
      ]
     },
     "execution_count": 156,
     "metadata": {},
     "output_type": "execute_result"
    }
   ],
   "source": [
    "string = 'http://api.sportradar.us/nfl-t1/2015/REG/5/schedule.json?api_key=jdmq6nfne2a7ucg6g5jkvsz7'\n",
    "answer = requests.get(string)\n",
    "test  = answer.json()\n",
    "test.keys()"
   ]
  },
  {
   "cell_type": "code",
   "execution_count": 159,
   "metadata": {
    "collapsed": false
   },
   "outputs": [
    {
     "data": {
      "text/plain": [
       "{u'away': u'CHI',\n",
       " u'away_rotation': u'',\n",
       " u'broadcast': {u'network': u'FOX', u'satellite': u'707'},\n",
       " u'home': u'KC',\n",
       " u'home_rotation': u'',\n",
       " u'id': u'64aa74a7-9bf5-4dcb-99b9-5447de01b96d',\n",
       " u'scheduled': u'2015-10-11T17:00:00+00:00',\n",
       " u'status': u'closed',\n",
       " u'venue': {u'address': u'One Arrowhead Drive',\n",
       "  u'capacity': 79451,\n",
       "  u'city': u'Kansas City',\n",
       "  u'country': u'USA',\n",
       "  u'id': u'2ec4c411-dac2-403d-b091-6b6aa4a0a914',\n",
       "  u'name': u'Arrowhead Stadium',\n",
       "  u'state': u'MO',\n",
       "  u'surface': u'turf',\n",
       "  u'type': u'outdoor',\n",
       "  u'zip': u'64129'},\n",
       " u'weather': {u'condition': u'Sunny',\n",
       "  u'humidity': 53,\n",
       "  u'temperature': 72,\n",
       "  u'wind': {u'direction': u'SSW', u'speed': 11}}}"
      ]
     },
     "execution_count": 159,
     "metadata": {},
     "output_type": "execute_result"
    }
   ],
   "source": [
    "test['games'][1]"
   ]
  },
  {
   "cell_type": "code",
   "execution_count": 71,
   "metadata": {
    "collapsed": false
   },
   "outputs": [
    {
     "data": {
      "text/plain": [
       "u'REG'"
      ]
     },
     "execution_count": 71,
     "metadata": {},
     "output_type": "execute_result"
    }
   ],
   "source": [
    "test['type']"
   ]
  },
  {
   "cell_type": "code",
   "execution_count": 128,
   "metadata": {
    "collapsed": false
   },
   "outputs": [],
   "source": [
    "def flatten_schedule(dict_in):\n",
    "    n=0\n",
    "    weeks = []\n",
    "    key1 = 'games'\n",
    "    for n in range(0,len(dict_in[key1])):\n",
    "        week_row = dict_in[key1][n].copy()\n",
    "        del week_row['venue']\n",
    "        del week_row['weather']\n",
    "        del week_row['away_rotation']\n",
    "        del week_row['home_rotation']\n",
    "        week_row['surface'] = dict_in[key1][n]['venue']['surface']\n",
    "        week_row['temperature'] = dict_in[key1][n]['weather']['temperature']\n",
    "        week_row['condition'] = dict_in[key1][n]['weather']['condition']\n",
    "        week_row['week'] = dict_in['number']\n",
    "        weeks.append(week_row)\n",
    "    df_out = pd.DataFrame(weeks)\n",
    "    return df_out\n"
   ]
  },
  {
   "cell_type": "code",
   "execution_count": 136,
   "metadata": {
    "collapsed": false
   },
   "outputs": [
    {
     "data": {
      "text/plain": [
       "away                                            IND\n",
       "broadcast                  {u'network': u'CBS/NFL'}\n",
       "condition                                    Clear \n",
       "home                                            HOU\n",
       "id             4d968b1d-0393-473a-a942-2345913cb5fe\n",
       "scheduled                 2015-10-09T00:25:00+00:00\n",
       "status                                       closed\n",
       "surface                                        turf\n",
       "temperature                                      82\n",
       "week                                              5\n",
       "Name: 0, dtype: object"
      ]
     },
     "execution_count": 136,
     "metadata": {},
     "output_type": "execute_result"
    }
   ],
   "source": [
    "x.ix[0]"
   ]
  },
  {
   "cell_type": "code",
   "execution_count": 169,
   "metadata": {
    "collapsed": false
   },
   "outputs": [
    {
     "ename": "ValueError",
     "evalue": "time data '2015-10-09T00:25:00' does not match format '%yyyy-%mm-%ddT%HH:%MM%SS'",
     "output_type": "error",
     "traceback": [
      "\u001b[0;31m---------------------------------------------------------------------------\u001b[0m",
      "\u001b[0;31mValueError\u001b[0m                                Traceback (most recent call last)",
      "\u001b[0;32m<ipython-input-169-48b5abfd0bc7>\u001b[0m in \u001b[0;36m<module>\u001b[0;34m()\u001b[0m\n\u001b[1;32m      2\u001b[0m \u001b[0mstring\u001b[0m \u001b[0;34m=\u001b[0m \u001b[0;34m'2015-10-09T00:25:00'\u001b[0m\u001b[0;34m\u001b[0m\u001b[0m\n\u001b[1;32m      3\u001b[0m \u001b[0mans\u001b[0m \u001b[0;34m=\u001b[0m \u001b[0mstring\u001b[0m\u001b[0;34m.\u001b[0m\u001b[0msplit\u001b[0m\u001b[0;34m(\u001b[0m\u001b[0;34m)\u001b[0m\u001b[0;34m\u001b[0m\u001b[0m\n\u001b[0;32m----> 4\u001b[0;31m \u001b[0mdatetime\u001b[0m\u001b[0;34m.\u001b[0m\u001b[0mstrptime\u001b[0m\u001b[0;34m(\u001b[0m\u001b[0mstring\u001b[0m\u001b[0;34m,\u001b[0m\u001b[0;34m'%yyyy-%mm-%ddT%HH:%MM%SS'\u001b[0m\u001b[0;34m)\u001b[0m\u001b[0;34m\u001b[0m\u001b[0m\n\u001b[0m",
      "\u001b[0;32m/Users/ericalonas/anaconda/lib/python2.7/_strptime.pyc\u001b[0m in \u001b[0;36m_strptime\u001b[0;34m(data_string, format)\u001b[0m\n\u001b[1;32m    323\u001b[0m     \u001b[0;32mif\u001b[0m \u001b[0;32mnot\u001b[0m \u001b[0mfound\u001b[0m\u001b[0;34m:\u001b[0m\u001b[0;34m\u001b[0m\u001b[0m\n\u001b[1;32m    324\u001b[0m         raise ValueError(\"time data %r does not match format %r\" %\n\u001b[0;32m--> 325\u001b[0;31m                          (data_string, format))\n\u001b[0m\u001b[1;32m    326\u001b[0m     \u001b[0;32mif\u001b[0m \u001b[0mlen\u001b[0m\u001b[0;34m(\u001b[0m\u001b[0mdata_string\u001b[0m\u001b[0;34m)\u001b[0m \u001b[0;34m!=\u001b[0m \u001b[0mfound\u001b[0m\u001b[0;34m.\u001b[0m\u001b[0mend\u001b[0m\u001b[0;34m(\u001b[0m\u001b[0;34m)\u001b[0m\u001b[0;34m:\u001b[0m\u001b[0;34m\u001b[0m\u001b[0m\n\u001b[1;32m    327\u001b[0m         raise ValueError(\"unconverted data remains: %s\" %\n",
      "\u001b[0;31mValueError\u001b[0m: time data '2015-10-09T00:25:00' does not match format '%yyyy-%mm-%ddT%HH:%MM%SS'"
     ]
    }
   ],
   "source": [
    "from datetime import datetime\n",
    "string = '2015-10-09T00:25:00'\n"
   ]
  },
  {
   "cell_type": "markdown",
   "metadata": {},
   "source": [
    "# Import JSON injuries"
   ]
  },
  {
   "cell_type": "code",
   "execution_count": 170,
   "metadata": {
    "collapsed": false
   },
   "outputs": [
    {
     "ename": "SyntaxError",
     "evalue": "invalid syntax (<ipython-input-170-c613209714aa>, line 2)",
     "output_type": "error",
     "traceback": [
      "\u001b[0;36m  File \u001b[0;32m\"<ipython-input-170-c613209714aa>\"\u001b[0;36m, line \u001b[0;32m2\u001b[0m\n\u001b[0;31m    year =\u001b[0m\n\u001b[0m           ^\u001b[0m\n\u001b[0;31mSyntaxError\u001b[0m\u001b[0;31m:\u001b[0m invalid syntax\n"
     ]
    }
   ],
   "source": [
    "def api_get_injuries(week_row):\n",
    "    away = str(week_row['away'])\n",
    "    home = str(week_row['home'])\n",
    "    num = str(week_row['week'])\n",
    "        nfl-t1/2015/REG/5/WAS/ATL/injuries.json?api_key=jdmq6nfne2a7ucg6g5jkvsz7'\n",
    "    \n",
    "    string = 'http://api.sportradar.us/nfl-t1/%s/%f/%s/%s/statistics.json?api_key=jdmq6nfne2a7ucg6g5jkvsz7' %(year, season, week, home_team, away_team)\n",
    "    answer = requests.get(string)\n",
    "    dict_out  = answer.json()\n",
    "    return dict_out"
   ]
  },
  {
   "cell_type": "code",
   "execution_count": null,
   "metadata": {
    "collapsed": true
   },
   "outputs": [],
   "source": []
  }
 ],
 "metadata": {
  "kernelspec": {
   "display_name": "Python 2",
   "language": "python",
   "name": "python2"
  },
  "language_info": {
   "codemirror_mode": {
    "name": "ipython",
    "version": 2
   },
   "file_extension": ".py",
   "mimetype": "text/x-python",
   "name": "python",
   "nbconvert_exporter": "python",
   "pygments_lexer": "ipython2",
   "version": "2.7.10"
  }
 },
 "nbformat": 4,
 "nbformat_minor": 0
}
