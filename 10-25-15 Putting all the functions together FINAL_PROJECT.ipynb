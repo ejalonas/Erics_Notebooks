{
 "cells": [
  {
   "cell_type": "code",
   "execution_count": 35,
   "metadata": {
    "collapsed": false
   },
   "outputs": [],
   "source": [
    "import pandas as pd\n",
    "import numpy as np\n",
    "import matplotlib.pyplot as plt\n",
    "%matplotlib inline\n",
    "import NFL_api\n",
    "import time"
   ]
  },
  {
   "cell_type": "code",
   "execution_count": 51,
   "metadata": {
    "collapsed": false
   },
   "outputs": [],
   "source": [
    "season_type = 'REG'\n",
    "year = 2015\n",
    "weeks = [1, 2, 3, 4]\n",
    "injuries_df = pd.DataFrame()\n",
    "stat_keys = ['defense']\n",
    "player_stat = pd.DataFrame()\n",
    "team_stat = pd.DataFrame()\n"
   ]
  },
  {
   "cell_type": "code",
   "execution_count": 52,
   "metadata": {
    "collapsed": false
   },
   "outputs": [],
   "source": [
    "for i in weeks:\n",
    "    sched = NFL_api.api_get_weekly_schedule(year, season_type, i)\n",
    "    sched = NFL_api.flatten_schedule(sched)\n",
    "    time.sleep(1)\n",
    "    \n",
    "    \n",
    "    for n in range(0,len(sched)):\n",
    "        home_team = sched.ix[n]['home']\n",
    "        away_team = sched.ix[n]['away']\n",
    "        injuries = NFL_api.api_get_injuries(year, season_type, i, away_team, home_team)\n",
    "        injuries = NFL_api.flatten_injuries(injuries)\n",
    "        injuries_df = injuries_df.append(injuries)\n",
    "        time.sleep(1)\n",
    "        \n",
    "        for m in stat_keys:\n",
    "            stat = NFL_api.api_get_stats(year, season_type, i, away_team, home_team)\n",
    "            player, team = NFL_api.flatten_game_stats(stat, m)\n",
    "            time.sleep(1)\n",
    "            player_stat = player_stat.append(player)\n",
    "            team_stat = team_stat.append(team)\n",
    "            \n",
    "    \n",
    "    \n",
    "    \n",
    "    "
   ]
  },
  {
   "cell_type": "code",
   "execution_count": 56,
   "metadata": {
    "collapsed": false
   },
   "outputs": [],
   "source": [
    "import pickle\n",
    "f = open('player_def_2015_1-4.pickle', 'wb')\n",
    "pickle.dump(player_stat, f)\n",
    "f.close()\n",
    "\n",
    "g = open('team_def_2015_1-4.pickle', 'wb')\n",
    "pickle.dump(team_stat, g)\n",
    "g.close()\n",
    "\n",
    "h = open('injuries_2015_1-4.pickle', 'wb')\n",
    "pickle.dump(injuries_df, h)\n",
    "h.close()"
   ]
  },
  {
   "cell_type": "markdown",
   "metadata": {},
   "source": [
    "# Filling in missing values, creating outputs for modeling"
   ]
  },
  {
   "cell_type": "code",
   "execution_count": 20,
   "metadata": {
    "collapsed": false
   },
   "outputs": [
    {
     "data": {
      "text/plain": [
       "36"
      ]
     },
     "execution_count": 20,
     "metadata": {},
     "output_type": "execute_result"
    }
   ],
   "source": [
    "if player_stat['name'].isin(injuries['name_full'])\n"
   ]
  },
  {
   "cell_type": "code",
   "execution_count": 22,
   "metadata": {
    "collapsed": false
   },
   "outputs": [
    {
     "data": {
      "text/plain": [
       "15"
      ]
     },
     "execution_count": 22,
     "metadata": {},
     "output_type": "execute_result"
    }
   ],
   "source": [
    "injuries_df['name'] = injuries_df['name_full'].copy()\n",
    "del injuries_df['name_full']\n",
    "len(injuries_df.keys())"
   ]
  },
  {
   "cell_type": "code",
   "execution_count": 66,
   "metadata": {
    "collapsed": false
   },
   "outputs": [
    {
     "name": "stdout",
     "output_type": "stream",
     "text": [
      "3494\n"
     ]
    },
    {
     "data": {
      "text/plain": [
       "Index([        u'game_id',       u'scheduled',             u'ast',\n",
       "                    u'bk',            u'comb',       u'force_fum',\n",
       "               u'fum_rec',          u'fum_td',              u'id',\n",
       "                   u'int',          u'int_lg',          u'int_td',\n",
       "               u'int_yds',          u'jersey',        u'market_x',\n",
       "              u'misc_ast',       u'misc_comb',  u'misc_force_fum',\n",
       "          u'misc_fum_rec',     u'misc_tackle',            u'name',\n",
       "                    u'pd',      u'position_x',              u'qh',\n",
       "                  u'sack',        u'sack_yds',            u'sfty',\n",
       "              u'sfty_1pt',          u'sp_ast',         u'sp_comb',\n",
       "          u'sp_force_fum',      u'sp_fum_rec',       u'sp_tackle',\n",
       "                u'tackle',       u'team_name',           u'tlost',\n",
       "           u'description',     u'game_status',   u'jersey_number',\n",
       "              u'market_y',       u'name_abbr',       u'name_full',\n",
       "                 u'notes',          u'played',      u'position_y',\n",
       "       u'practice_status',      u'start_date',         u'started',\n",
       "                u'status'],\n",
       "      dtype='object')"
      ]
     },
     "execution_count": 66,
     "metadata": {},
     "output_type": "execute_result"
    }
   ],
   "source": [
    "x = pd.merge(player_stat, injuries_df, on=['name', 'game_id', 'id'], how='outer')\n",
    "print len(x)\n",
    "x.keys()"
   ]
  },
  {
   "cell_type": "code",
   "execution_count": 80,
   "metadata": {
    "collapsed": false
   },
   "outputs": [
    {
     "ename": "TypeError",
     "evalue": "only list-like objects are allowed to be passed to Series.isin(), you passed a 'unicode'",
     "output_type": "error",
     "traceback": [
      "\u001b[0;31m---------------------------------------------------------------------------\u001b[0m",
      "\u001b[0;31mTypeError\u001b[0m                                 Traceback (most recent call last)",
      "\u001b[0;32m<ipython-input-80-61cb9c2b4aee>\u001b[0m in \u001b[0;36m<module>\u001b[0;34m()\u001b[0m\n\u001b[1;32m      1\u001b[0m \u001b[0;32mfor\u001b[0m \u001b[0mn\u001b[0m \u001b[0;32min\u001b[0m \u001b[0mplayer_stat\u001b[0m\u001b[0;34m[\u001b[0m\u001b[0;34m'name'\u001b[0m\u001b[0;34m]\u001b[0m\u001b[0;34m:\u001b[0m\u001b[0;34m\u001b[0m\u001b[0m\n\u001b[0;32m----> 2\u001b[0;31m     \u001b[0;32mif\u001b[0m\u001b[0;34m(\u001b[0m\u001b[0minjuries_df\u001b[0m\u001b[0;34m[\u001b[0m\u001b[0;34m'name_full'\u001b[0m\u001b[0;34m]\u001b[0m\u001b[0;34m.\u001b[0m\u001b[0misin\u001b[0m\u001b[0;34m(\u001b[0m\u001b[0mn\u001b[0m\u001b[0;34m)\u001b[0m\u001b[0;34m)\u001b[0m\u001b[0;34m:\u001b[0m\u001b[0;34m\u001b[0m\u001b[0m\n\u001b[0m\u001b[1;32m      3\u001b[0m         \u001b[0;32mprint\u001b[0m \u001b[0mn\u001b[0m\u001b[0;34m\u001b[0m\u001b[0m\n\u001b[1;32m      4\u001b[0m \u001b[0;34m\u001b[0m\u001b[0m\n",
      "\u001b[0;32m/Users/ericalonas/anaconda/lib/python2.7/site-packages/pandas/core/series.pyc\u001b[0m in \u001b[0;36misin\u001b[0;34m(self, values)\u001b[0m\n\u001b[1;32m   2247\u001b[0m             raise TypeError(\"only list-like objects are allowed to be passed\"\n\u001b[1;32m   2248\u001b[0m                             \u001b[0;34m\" to Series.isin(), you passed a \"\u001b[0m\u001b[0;34m\u001b[0m\u001b[0m\n\u001b[0;32m-> 2249\u001b[0;31m                             \"{0!r}\".format(type(values).__name__))\n\u001b[0m\u001b[1;32m   2250\u001b[0m \u001b[0;34m\u001b[0m\u001b[0m\n\u001b[1;32m   2251\u001b[0m         \u001b[0;31m# may need i8 conversion for proper membership testing\u001b[0m\u001b[0;34m\u001b[0m\u001b[0;34m\u001b[0m\u001b[0m\n",
      "\u001b[0;31mTypeError\u001b[0m: only list-like objects are allowed to be passed to Series.isin(), you passed a 'unicode'"
     ]
    }
   ],
   "source": [
    "for n in player_stat['name']:\n",
    "    if(injuries_df['name_full'].isin(n)):\n",
    "        print n\n",
    "    "
   ]
  },
  {
   "cell_type": "code",
   "execution_count": 76,
   "metadata": {
    "collapsed": false
   },
   "outputs": [
    {
     "data": {
      "text/plain": [
       "0         Travaris Cadet\n",
       "1            Bryan Stork\n",
       "2           Tavon Wilson\n",
       "3           Trey Flowers\n",
       "4           Landry Jones\n",
       "0         Mario Williams\n",
       "1           LeSean McCoy\n",
       "2           Percy Harvin\n",
       "3           Robert Woods\n",
       "4            Chris Hogan\n",
       "5          Sammy Watkins\n",
       "6       Marquise Goodwin\n",
       "7           Tony Steward\n",
       "8           Charles Clay\n",
       "9             Greg Toler\n",
       "10          D'Joun Smith\n",
       "11         Robert Mathis\n",
       "12           Nate Irving\n",
       "13          Vick Ballard\n",
       "14       D'Qwell Jackson\n",
       "15         Bjoern Werner\n",
       "16         Sheldon Price\n",
       "0       Jaiquawn Jarrett\n",
       "1            Chris Ivory\n",
       "2        James Carpenter\n",
       "3          Stephen Bowen\n",
       "4            Devin Smith\n",
       "5           Willie Colon\n",
       "6            Ben Ijalana\n",
       "7         Erin Henderson\n",
       "             ...        \n",
       "4            Jahri Evans\n",
       "5           Keenan Lewis\n",
       "6         Cameron Jordan\n",
       "7          Randy Gregory\n",
       "8         Andrew Gachkar\n",
       "9           Jason Witten\n",
       "10         Jeremy Mincey\n",
       "11          Ryan Russell\n",
       "12          Ronald Leary\n",
       "13          Brandon Carr\n",
       "14           Kyle Wilber\n",
       "15            Dez Bryant\n",
       "0         Brandon Mebane\n",
       "1            K.J. Wright\n",
       "2           Luke Willson\n",
       "3     Kevin Pierre-Louis\n",
       "4         Michael Morgan\n",
       "5         Demarcus Dobbs\n",
       "6          Tharold Simon\n",
       "7         Marshawn Lynch\n",
       "8         Steven Terrell\n",
       "9           Bobby Wagner\n",
       "10     Brandon Pettigrew\n",
       "11           Josh Wilson\n",
       "12        Corey Robinson\n",
       "13           Jason Jones\n",
       "14          DeAndre Levy\n",
       "15         Larry Warford\n",
       "16         Ezekiel Ansah\n",
       "17           Joique Bell\n",
       "Name: name_full, dtype: object"
      ]
     },
     "execution_count": 76,
     "metadata": {},
     "output_type": "execute_result"
    }
   ],
   "source": [
    "injuries_df['name_full']"
   ]
  },
  {
   "cell_type": "code",
   "execution_count": 82,
   "metadata": {
    "collapsed": false
   },
   "outputs": [
    {
     "data": {
      "text/plain": [
       "979"
      ]
     },
     "execution_count": 82,
     "metadata": {},
     "output_type": "execute_result"
    }
   ],
   "source": [
    "len(player_stat['name_full'].isin(injuries_df['name']))"
   ]
  },
  {
   "cell_type": "code",
   "execution_count": null,
   "metadata": {
    "collapsed": true
   },
   "outputs": [],
   "source": []
  }
 ],
 "metadata": {
  "kernelspec": {
   "display_name": "Python 2",
   "language": "python",
   "name": "python2"
  },
  "language_info": {
   "codemirror_mode": {
    "name": "ipython",
    "version": 2
   },
   "file_extension": ".py",
   "mimetype": "text/x-python",
   "name": "python",
   "nbconvert_exporter": "python",
   "pygments_lexer": "ipython2",
   "version": "2.7.10"
  }
 },
 "nbformat": 4,
 "nbformat_minor": 0
}
