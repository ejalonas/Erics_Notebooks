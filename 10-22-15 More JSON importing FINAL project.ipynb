{
 "cells": [
  {
   "cell_type": "code",
   "execution_count": 18,
   "metadata": {
    "collapsed": false
   },
   "outputs": [],
   "source": [
    "import requests\n",
    "import time\n",
    "import numpy as np\n",
    "import pandas as pd\n",
    "import json\n",
    "import datetime\n",
    "import dateutil"
   ]
  },
  {
   "cell_type": "code",
   "execution_count": 8,
   "metadata": {
    "collapsed": false
   },
   "outputs": [
    {
     "data": {
      "text/plain": [
       "[u'bye_week', u'games', u'id', u'number']"
      ]
     },
     "execution_count": 8,
     "metadata": {},
     "output_type": "execute_result"
    }
   ],
   "source": [
    "string = 'http://api.sportradar.us/nfl-t1/2015/REG/5/schedule.json?api_key=jdmq6nfne2a7ucg6g5jkvsz7'\n",
    "answer = requests.get(string)\n",
    "test  = answer.json()\n",
    "test.keys()"
   ]
  },
  {
   "cell_type": "code",
   "execution_count": 42,
   "metadata": {
    "collapsed": false
   },
   "outputs": [],
   "source": [
    "ans = test['games'][5]['scheduled']\n",
    "ans2 = test['games'][0]['scheduled']"
   ]
  },
  {
   "cell_type": "code",
   "execution_count": 13,
   "metadata": {
    "collapsed": false
   },
   "outputs": [
    {
     "data": {
      "text/plain": [
       "unicode"
      ]
     },
     "execution_count": 13,
     "metadata": {},
     "output_type": "execute_result"
    }
   ],
   "source": [
    "type(ans)"
   ]
  },
  {
   "cell_type": "code",
   "execution_count": 15,
   "metadata": {
    "collapsed": false
   },
   "outputs": [
    {
     "data": {
      "text/plain": [
       "u'2015-10-09T00:25:00'"
      ]
     },
     "execution_count": 15,
     "metadata": {},
     "output_type": "execute_result"
    }
   ],
   "source": [
    "ans.split('+')[0]"
   ]
  },
  {
   "cell_type": "code",
   "execution_count": 31,
   "metadata": {
    "collapsed": false
   },
   "outputs": [
    {
     "ename": "TypeError",
     "evalue": "strptime() takes no keyword arguments",
     "output_type": "error",
     "traceback": [
      "\u001b[1;31m---------------------------------------------------------------------------\u001b[0m",
      "\u001b[1;31mTypeError\u001b[0m                                 Traceback (most recent call last)",
      "\u001b[1;32m<ipython-input-31-9cfc3495a85d>\u001b[0m in \u001b[0;36m<module>\u001b[1;34m()\u001b[0m\n\u001b[1;32m----> 1\u001b[1;33m \u001b[0mx\u001b[0m \u001b[1;33m=\u001b[0m \u001b[0mdatetime\u001b[0m\u001b[1;33m.\u001b[0m\u001b[0mdatetime\u001b[0m\u001b[1;33m.\u001b[0m\u001b[0mstrptime\u001b[0m\u001b[1;33m(\u001b[0m\u001b[0mans\u001b[0m\u001b[1;33m.\u001b[0m\u001b[0msplit\u001b[0m\u001b[1;33m(\u001b[0m\u001b[1;34m'+'\u001b[0m\u001b[1;33m)\u001b[0m\u001b[1;33m[\u001b[0m\u001b[1;36m0\u001b[0m\u001b[1;33m]\u001b[0m\u001b[1;33m,\u001b[0m \u001b[1;34m'%Y-%m-%dT%H:%M:%S'\u001b[0m\u001b[1;33m,\u001b[0m \u001b[0mtzinfo\u001b[0m\u001b[1;33m=\u001b[0m\u001b[1;34m'UTC'\u001b[0m\u001b[1;33m)\u001b[0m\u001b[1;33m\u001b[0m\u001b[0m\n\u001b[0m",
      "\u001b[1;31mTypeError\u001b[0m: strptime() takes no keyword arguments"
     ]
    }
   ],
   "source": [
    "x = datetime.datetime.strptime(ans.split('+')[0], '%Y-%m-%dT%H:%M:%S', tzinfo='UTC')"
   ]
  },
  {
   "cell_type": "code",
   "execution_count": 63,
   "metadata": {
    "collapsed": false
   },
   "outputs": [
    {
     "data": {
      "text/plain": [
       "datetime.datetime(2015, 10, 11, 17, 0, tzinfo=tzutc())"
      ]
     },
     "execution_count": 63,
     "metadata": {},
     "output_type": "execute_result"
    }
   ],
   "source": [
    "y = dateutil.parser.parse(ans)\n",
    "y"
   ]
  },
  {
   "cell_type": "code",
   "execution_count": 64,
   "metadata": {
    "collapsed": false
   },
   "outputs": [
    {
     "data": {
      "text/plain": [
       "datetime.datetime(2015, 10, 9, 0, 25, tzinfo=tzutc())"
      ]
     },
     "execution_count": 64,
     "metadata": {},
     "output_type": "execute_result"
    }
   ],
   "source": [
    "z= dateutil.parser.parse(ans2)\n",
    "z"
   ]
  },
  {
   "cell_type": "code",
   "execution_count": 57,
   "metadata": {
    "collapsed": false
   },
   "outputs": [
    {
     "data": {
      "text/plain": [
       "u'2015-10-11T17:00:00+00:00'"
      ]
     },
     "execution_count": 57,
     "metadata": {},
     "output_type": "execute_result"
    }
   ],
   "source": [
    "ans"
   ]
  },
  {
   "cell_type": "code",
   "execution_count": 58,
   "metadata": {
    "collapsed": false
   },
   "outputs": [
    {
     "data": {
      "text/plain": [
       "u'2015-10-09T00:25:00+00:00'"
      ]
     },
     "execution_count": 58,
     "metadata": {},
     "output_type": "execute_result"
    }
   ],
   "source": [
    "ans2"
   ]
  },
  {
   "cell_type": "code",
   "execution_count": 67,
   "metadata": {
    "collapsed": false
   },
   "outputs": [
    {
     "data": {
      "text/plain": [
       "2"
      ]
     },
     "execution_count": 67,
     "metadata": {},
     "output_type": "execute_result"
    }
   ],
   "source": [
    "subtraction = y-z\n"
   ]
  },
  {
   "cell_type": "code",
   "execution_count": 68,
   "metadata": {
    "collapsed": false
   },
   "outputs": [],
   "source": [
    "def api_get_weekly_schedule(year, season_type, week_num):\n",
    "    string = 'http://api.sportradar.us/nfl-t1/%i/%s/%i/schedule.json?api_key=jdmq6nfne2a7ucg6g5jkvsz7' %(year, season_type, week_num)\n",
    "    answer = requests.get(string)\n",
    "    test  = answer.json()\n",
    "    return test\n",
    "    \n",
    "    "
   ]
  },
  {
   "cell_type": "code",
   "execution_count": 69,
   "metadata": {
    "collapsed": true
   },
   "outputs": [],
   "source": [
    "x = api_get_weekly_schedule(2015, 'REG', 5)"
   ]
  },
  {
   "cell_type": "code",
   "execution_count": 70,
   "metadata": {
    "collapsed": false
   },
   "outputs": [
    {
     "data": {
      "text/plain": [
       "[{u'away': u'IND',\n",
       "  u'away_rotation': u'',\n",
       "  u'broadcast': {u'network': u'CBS/NFL'},\n",
       "  u'home': u'HOU',\n",
       "  u'home_rotation': u'',\n",
       "  u'id': u'4d968b1d-0393-473a-a942-2345913cb5fe',\n",
       "  u'scheduled': u'2015-10-09T00:25:00+00:00',\n",
       "  u'status': u'closed',\n",
       "  u'venue': {u'address': u'One Reliant Park',\n",
       "   u'capacity': 71054,\n",
       "   u'city': u'Houston',\n",
       "   u'country': u'USA',\n",
       "   u'id': u'6a72e5ca-33d0-40af-8e6b-b32a4d3d9346',\n",
       "   u'name': u'NRG Stadium',\n",
       "   u'state': u'TX',\n",
       "   u'surface': u'turf',\n",
       "   u'type': u'retractable_dome',\n",
       "   u'zip': u'77054'},\n",
       "  u'weather': {u'condition': u'Clear ',\n",
       "   u'humidity': 51,\n",
       "   u'temperature': 82,\n",
       "   u'wind': {u'direction': u'N', u'speed': 0}}},\n",
       " {u'away': u'CHI',\n",
       "  u'away_rotation': u'',\n",
       "  u'broadcast': {u'network': u'FOX', u'satellite': u'707'},\n",
       "  u'home': u'KC',\n",
       "  u'home_rotation': u'',\n",
       "  u'id': u'64aa74a7-9bf5-4dcb-99b9-5447de01b96d',\n",
       "  u'scheduled': u'2015-10-11T17:00:00+00:00',\n",
       "  u'status': u'closed',\n",
       "  u'venue': {u'address': u'One Arrowhead Drive',\n",
       "   u'capacity': 79451,\n",
       "   u'city': u'Kansas City',\n",
       "   u'country': u'USA',\n",
       "   u'id': u'2ec4c411-dac2-403d-b091-6b6aa4a0a914',\n",
       "   u'name': u'Arrowhead Stadium',\n",
       "   u'state': u'MO',\n",
       "   u'surface': u'turf',\n",
       "   u'type': u'outdoor',\n",
       "   u'zip': u'64129'},\n",
       "  u'weather': {u'condition': u'Sunny',\n",
       "   u'humidity': 53,\n",
       "   u'temperature': 72,\n",
       "   u'wind': {u'direction': u'SSW', u'speed': 11}}},\n",
       " {u'away': u'WAS',\n",
       "  u'away_rotation': u'',\n",
       "  u'broadcast': {u'network': u'FOX', u'satellite': u'705'},\n",
       "  u'home': u'ATL',\n",
       "  u'home_rotation': u'',\n",
       "  u'id': u'9ac3a334-dbf6-4d34-acbf-720f029c818f',\n",
       "  u'scheduled': u'2015-10-11T17:00:00+00:00',\n",
       "  u'status': u'closed',\n",
       "  u'venue': {u'address': u'One Georgia Dome Drive Northwest',\n",
       "   u'capacity': 74228,\n",
       "   u'city': u'Atlanta',\n",
       "   u'country': u'USA',\n",
       "   u'id': u'216de6bf-bce0-409a-a9e7-90db8df1f7b9',\n",
       "   u'name': u'Georgia Dome',\n",
       "   u'state': u'GA',\n",
       "   u'surface': u'artificial',\n",
       "   u'type': u'dome',\n",
       "   u'zip': u'30313'},\n",
       "  u'weather': {u'condition': u'Overcast ',\n",
       "   u'humidity': 73,\n",
       "   u'temperature': 66,\n",
       "   u'wind': {u'direction': u'NNE', u'speed': 4}}},\n",
       " {u'away': u'SEA',\n",
       "  u'away_rotation': u'',\n",
       "  u'broadcast': {u'network': u'FOX', u'satellite': u'706'},\n",
       "  u'home': u'CIN',\n",
       "  u'home_rotation': u'',\n",
       "  u'id': u'c75e14f7-2cf4-43e7-b80d-abfd14f0b967',\n",
       "  u'scheduled': u'2015-10-11T17:00:00+00:00',\n",
       "  u'status': u'closed',\n",
       "  u'venue': {u'address': u'One Paul Brown Stadium',\n",
       "   u'capacity': 65535,\n",
       "   u'city': u'Cincinnati',\n",
       "   u'country': u'USA',\n",
       "   u'id': u'b87a1595-d3c8-48ea-8a53-0aab6378a64a',\n",
       "   u'name': u'Paul Brown Stadium',\n",
       "   u'state': u'OH',\n",
       "   u'surface': u'artificial',\n",
       "   u'type': u'outdoor',\n",
       "   u'zip': u'45202'},\n",
       "  u'weather': {u'condition': u'Sunny',\n",
       "   u'humidity': 64,\n",
       "   u'temperature': 64,\n",
       "   u'wind': {u'direction': u'S', u'speed': 6}}},\n",
       " {u'away': u'NO',\n",
       "  u'away_rotation': u'',\n",
       "  u'broadcast': {u'network': u'FOX', u'satellite': u'708'},\n",
       "  u'home': u'PHI',\n",
       "  u'home_rotation': u'',\n",
       "  u'id': u'e41df752-6ebf-4aa0-8af4-fb7d84c905e2',\n",
       "  u'scheduled': u'2015-10-11T17:00:00+00:00',\n",
       "  u'status': u'closed',\n",
       "  u'venue': {u'address': u'1020 Pattison Avenue',\n",
       "   u'capacity': 68532,\n",
       "   u'city': u'Philadelphia',\n",
       "   u'country': u'USA',\n",
       "   u'id': u'4fa8c29c-6626-464c-8540-314ed7535e1b',\n",
       "   u'name': u'Lincoln Financial Field',\n",
       "   u'state': u'PA',\n",
       "   u'surface': u'turf',\n",
       "   u'type': u'outdoor',\n",
       "   u'zip': u'19148'},\n",
       "  u'weather': {u'condition': u'Partly Cloudy ',\n",
       "   u'humidity': 42,\n",
       "   u'temperature': 64,\n",
       "   u'wind': {u'direction': u'WNW', u'speed': 7}}},\n",
       " {u'away': u'CLE',\n",
       "  u'away_rotation': u'',\n",
       "  u'broadcast': {u'network': u'CBS', u'satellite': u'709'},\n",
       "  u'home': u'BAL',\n",
       "  u'home_rotation': u'',\n",
       "  u'id': u'89e85ffb-a815-4b8a-b507-6038244acbe7',\n",
       "  u'scheduled': u'2015-10-11T17:00:00+00:00',\n",
       "  u'status': u'closed',\n",
       "  u'venue': {u'address': u'1101 Russell Street',\n",
       "   u'capacity': 71008,\n",
       "   u'city': u'Baltimore',\n",
       "   u'country': u'USA',\n",
       "   u'id': u'd54faae0-0314-484f-8604-9d8dd08e1149',\n",
       "   u'name': u'M&T Bank Stadium',\n",
       "   u'state': u'MD',\n",
       "   u'surface': u'artificial',\n",
       "   u'type': u'outdoor',\n",
       "   u'zip': u'21230'},\n",
       "  u'weather': {u'condition': u'Partly Cloudy ',\n",
       "   u'humidity': 49,\n",
       "   u'temperature': 64,\n",
       "   u'wind': {u'direction': u'SSW', u'speed': 4}}},\n",
       " {u'away': u'JAC',\n",
       "  u'away_rotation': u'',\n",
       "  u'broadcast': {u'network': u'CBS', u'satellite': u'711'},\n",
       "  u'home': u'TB',\n",
       "  u'home_rotation': u'',\n",
       "  u'id': u'69b30cd7-5533-41e9-a62f-8a1a38c71852',\n",
       "  u'scheduled': u'2015-10-11T17:00:00+00:00',\n",
       "  u'status': u'closed',\n",
       "  u'venue': {u'address': u'4201 North Dale Mabry Highway',\n",
       "   u'capacity': 65890,\n",
       "   u'city': u'Tampa',\n",
       "   u'country': u'USA',\n",
       "   u'id': u'6fccc39c-80bc-4c81-83d9-2d5a848c8c09',\n",
       "   u'name': u'Raymond James Stadium',\n",
       "   u'state': u'FL',\n",
       "   u'surface': u'turf',\n",
       "   u'type': u'outdoor',\n",
       "   u'zip': u'33607'},\n",
       "  u'weather': {u'condition': u'Partly Cloudy ',\n",
       "   u'humidity': 55,\n",
       "   u'temperature': 84,\n",
       "   u'wind': {u'direction': u'NW', u'speed': 9}}},\n",
       " {u'away': u'STL',\n",
       "  u'away_rotation': u'',\n",
       "  u'broadcast': {u'network': u'CBS', u'satellite': u'710'},\n",
       "  u'home': u'GB',\n",
       "  u'home_rotation': u'',\n",
       "  u'id': u'39fa65ea-b033-46ea-ac5a-f0e457af5986',\n",
       "  u'scheduled': u'2015-10-11T17:00:00+00:00',\n",
       "  u'status': u'closed',\n",
       "  u'venue': {u'address': u'1265 Lombardi Avenue',\n",
       "   u'capacity': 80750,\n",
       "   u'city': u'Green Bay',\n",
       "   u'country': u'USA',\n",
       "   u'id': u'5a60dd3a-302c-41c6-ab0f-dd335c1103c2',\n",
       "   u'name': u'Lambeau Field',\n",
       "   u'state': u'WI',\n",
       "   u'surface': u'turf',\n",
       "   u'type': u'outdoor',\n",
       "   u'zip': u'54304'},\n",
       "  u'weather': {u'condition': u'Sunny',\n",
       "   u'humidity': 64,\n",
       "   u'temperature': 66,\n",
       "   u'wind': {u'direction': u'SW', u'speed': 14}}},\n",
       " {u'away': u'BUF',\n",
       "  u'away_rotation': u'',\n",
       "  u'broadcast': {u'network': u'CBS', u'satellite': u'712'},\n",
       "  u'home': u'TEN',\n",
       "  u'home_rotation': u'',\n",
       "  u'id': u'c537b7f3-0069-4a07-80d5-4108cd221b6a',\n",
       "  u'scheduled': u'2015-10-11T17:00:00+00:00',\n",
       "  u'status': u'closed',\n",
       "  u'venue': {u'address': u'One Titans Way',\n",
       "   u'capacity': 69143,\n",
       "   u'city': u'Nashville',\n",
       "   u'country': u'USA',\n",
       "   u'id': u'5295c1b7-c85c-49cb-9569-1707c65324e5',\n",
       "   u'name': u'Nissan Stadium',\n",
       "   u'state': u'TN',\n",
       "   u'surface': u'turf',\n",
       "   u'type': u'outdoor',\n",
       "   u'zip': u'37213'},\n",
       "  u'weather': {u'condition': u'Partly Cloudy ',\n",
       "   u'humidity': 52,\n",
       "   u'temperature': 66,\n",
       "   u'wind': {u'direction': u'N', u'speed': 0}}},\n",
       " {u'away': u'ARI',\n",
       "  u'away_rotation': u'',\n",
       "  u'broadcast': {u'network': u'FOX', u'satellite': u'713'},\n",
       "  u'home': u'DET',\n",
       "  u'home_rotation': u'',\n",
       "  u'id': u'c3e5139f-b03b-4888-9bd0-1fcb802e10a5',\n",
       "  u'scheduled': u'2015-10-11T20:05:00+00:00',\n",
       "  u'status': u'closed',\n",
       "  u'venue': {u'address': u'2000 Brush Street',\n",
       "   u'capacity': 65000,\n",
       "   u'city': u'Detroit',\n",
       "   u'country': u'USA',\n",
       "   u'id': u'6e3bcf22-277d-4c06-b019-62aded51654f',\n",
       "   u'name': u'Ford Field',\n",
       "   u'state': u'MI',\n",
       "   u'surface': u'artificial',\n",
       "   u'type': u'dome',\n",
       "   u'zip': u'48226'},\n",
       "  u'weather': {u'condition': u'Sunny',\n",
       "   u'humidity': 41,\n",
       "   u'temperature': 72,\n",
       "   u'wind': {u'direction': u'SW', u'speed': 17}}},\n",
       " {u'away': u'DEN',\n",
       "  u'away_rotation': u'',\n",
       "  u'broadcast': {u'network': u'CBS', u'satellite': u'715'},\n",
       "  u'home': u'OAK',\n",
       "  u'home_rotation': u'',\n",
       "  u'id': u'b5d857d6-1061-4cbf-9f67-cc727fff5901',\n",
       "  u'scheduled': u'2015-10-11T20:25:00+00:00',\n",
       "  u'status': u'closed',\n",
       "  u'venue': {u'address': u'7000 Coliseum Way',\n",
       "   u'capacity': 53200,\n",
       "   u'city': u'Oakland',\n",
       "   u'country': u'USA',\n",
       "   u'id': u'ba1ad00f-9130-462c-93f9-5612a0015117',\n",
       "   u'name': u'O.co Coliseum',\n",
       "   u'state': u'CA',\n",
       "   u'surface': u'turf',\n",
       "   u'type': u'outdoor',\n",
       "   u'zip': u'94621'},\n",
       "  u'weather': {u'condition': u'Partly Cloudy ',\n",
       "   u'humidity': 61,\n",
       "   u'temperature': 72,\n",
       "   u'wind': {u'direction': u'W', u'speed': 7}}},\n",
       " {u'away': u'NE',\n",
       "  u'away_rotation': u'',\n",
       "  u'broadcast': {u'network': u'CBS', u'satellite': u'714'},\n",
       "  u'home': u'DAL',\n",
       "  u'home_rotation': u'',\n",
       "  u'id': u'2dd78875-d53f-40f4-908a-038eac1df97e',\n",
       "  u'scheduled': u'2015-10-11T20:25:00+00:00',\n",
       "  u'status': u'closed',\n",
       "  u'venue': {u'address': u'One Legends Way',\n",
       "   u'capacity': 80000,\n",
       "   u'city': u'Arlington',\n",
       "   u'country': u'USA',\n",
       "   u'id': u'1e84213a-ff1f-4c9d-a003-8ee782b25a40',\n",
       "   u'name': u'AT&T Stadium',\n",
       "   u'state': u'TX',\n",
       "   u'surface': u'artificial',\n",
       "   u'type': u'retractable_dome',\n",
       "   u'zip': u'76011'},\n",
       "  u'weather': {u'condition': u'Sunny',\n",
       "   u'humidity': 30,\n",
       "   u'temperature': 93,\n",
       "   u'wind': {u'direction': u'SSW', u'speed': 9}}},\n",
       " {u'away': u'SF',\n",
       "  u'away_rotation': u'',\n",
       "  u'broadcast': {u'network': u'NBC'},\n",
       "  u'home': u'NYG',\n",
       "  u'home_rotation': u'',\n",
       "  u'id': u'fb5ce9e7-5403-4e52-b548-1c946b32df8b',\n",
       "  u'scheduled': u'2015-10-12T00:30:00+00:00',\n",
       "  u'status': u'closed',\n",
       "  u'venue': {u'address': u'One MetLife Stadium Drive',\n",
       "   u'capacity': 82500,\n",
       "   u'city': u'East Rutherford',\n",
       "   u'country': u'USA',\n",
       "   u'id': u'5d4c85c7-d84e-4e10-bd6a-8a15ebecca5c',\n",
       "   u'name': u'MetLife Stadium',\n",
       "   u'state': u'NJ',\n",
       "   u'surface': u'artificial',\n",
       "   u'type': u'outdoor',\n",
       "   u'zip': u'07073'},\n",
       "  u'weather': {u'condition': u'Clear ',\n",
       "   u'humidity': 55,\n",
       "   u'temperature': 63,\n",
       "   u'wind': {u'direction': u'S', u'speed': 7}}},\n",
       " {u'away': u'PIT',\n",
       "  u'away_rotation': u'',\n",
       "  u'broadcast': {u'internet': u'WatchESPN',\n",
       "   u'network': u'ESPN',\n",
       "   u'satellite': u'206'},\n",
       "  u'home': u'SD',\n",
       "  u'home_rotation': u'',\n",
       "  u'id': u'75b8cb51-b906-4207-a26d-6a81bfdaf0ed',\n",
       "  u'scheduled': u'2015-10-13T00:30:00+00:00',\n",
       "  u'status': u'closed',\n",
       "  u'venue': {u'address': u'9449 Friars Road',\n",
       "   u'capacity': 70561,\n",
       "   u'city': u'San Diego',\n",
       "   u'country': u'USA',\n",
       "   u'id': u'7ca47702-8951-45be-a4f5-3e7d78f8f399',\n",
       "   u'name': u'Qualcomm Stadium',\n",
       "   u'state': u'CA',\n",
       "   u'surface': u'turf',\n",
       "   u'type': u'outdoor',\n",
       "   u'zip': u'92108'},\n",
       "  u'weather': {u'condition': u'Partly Cloudy ',\n",
       "   u'humidity': 30,\n",
       "   u'temperature': 93,\n",
       "   u'wind': {u'direction': u'NNW', u'speed': 12}}}]"
      ]
     },
     "execution_count": 70,
     "metadata": {},
     "output_type": "execute_result"
    }
   ],
   "source": [
    "x['games']"
   ]
  },
  {
   "cell_type": "code",
   "execution_count": null,
   "metadata": {
    "collapsed": true
   },
   "outputs": [],
   "source": []
  },
  {
   "cell_type": "markdown",
   "metadata": {},
   "source": [
    "# API Get stats"
   ]
  },
  {
   "cell_type": "code",
   "execution_count": 71,
   "metadata": {
    "collapsed": true
   },
   "outputs": [],
   "source": [
    "def api_get_stats(year, season_type, week_num, away_team, home_team):\n",
    "    string = 'http://api.sportradar.us/nfl-t1/%i/%s/%i/%s/%s/statistics.json?api_key=jdmq6nfne2a7ucg6g5jkvsz7' %(year, season_type, week_num, away_team, home_team)\n",
    "    answer = requests.get(string)\n",
    "    test  = answer.json()\n",
    "    return test"
   ]
  },
  {
   "cell_type": "code",
   "execution_count": 73,
   "metadata": {
    "collapsed": false
   },
   "outputs": [],
   "source": [
    "a = api_get_stats(2015,'REG',5,'IND','HOU')"
   ]
  },
  {
   "cell_type": "code",
   "execution_count": 75,
   "metadata": {
    "collapsed": false
   },
   "outputs": [
    {
     "data": {
      "text/plain": [
       "[u'scheduled', u'status', u'home_team', u'away_team', u'id']"
      ]
     },
     "execution_count": 75,
     "metadata": {},
     "output_type": "execute_result"
    }
   ],
   "source": [
    "a.keys()"
   ]
  },
  {
   "cell_type": "code",
   "execution_count": null,
   "metadata": {
    "collapsed": true
   },
   "outputs": [],
   "source": []
  }
 ],
 "metadata": {
  "kernelspec": {
   "display_name": "Python 2",
   "language": "python",
   "name": "python2"
  },
  "language_info": {
   "codemirror_mode": {
    "name": "ipython",
    "version": 2
   },
   "file_extension": ".py",
   "mimetype": "text/x-python",
   "name": "python",
   "nbconvert_exporter": "python",
   "pygments_lexer": "ipython2",
   "version": "2.7.10"
  }
 },
 "nbformat": 4,
 "nbformat_minor": 0
}
