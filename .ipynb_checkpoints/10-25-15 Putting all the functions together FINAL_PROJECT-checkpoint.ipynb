{
 "cells": [
  {
   "cell_type": "code",
   "execution_count": 36,
   "metadata": {
    "collapsed": false
   },
   "outputs": [],
   "source": [
    "import pandas as pd\n",
    "import numpy as np\n",
    "import matplotlib.pyplot as plt\n",
    "%matplotlib inline\n",
    "import NFL_api\n",
    "import time"
   ]
  },
  {
   "cell_type": "code",
   "execution_count": 37,
   "metadata": {
    "collapsed": false
   },
   "outputs": [],
   "source": [
    "season_type = 'REG'\n",
    "year = 2015\n",
    "weeks = [1, 2]\n",
    "injuries_df = pd.DataFrame()\n",
    "stat_keys = ['punting']\n",
    "player_stat = pd.DataFrame()\n",
    "team_stat = pd.DataFrame()\n"
   ]
  },
  {
   "cell_type": "code",
   "execution_count": 38,
   "metadata": {
    "collapsed": false
   },
   "outputs": [],
   "source": [
    "for i in weeks:\n",
    "    sched = NFL_api.api_get_weekly_schedule(year, season_type, i)\n",
    "    sched = NFL_api.flatten_schedule(sched)\n",
    "    time.sleep(1)\n",
    "    \n",
    "    \n",
    "    for n in range(0,len(sched)):\n",
    "        home_team = sched.ix[n]['home']\n",
    "        away_team = sched.ix[n]['away']\n",
    "        injuries = NFL_api.api_get_injuries(year, season_type, i, away_team, home_team)\n",
    "        injuries = NFL_api.flatten_injuries(injuries)\n",
    "        injuries_df = injuries_df.append(injuries)\n",
    "        time.sleep(1)\n",
    "        \n",
    "        for m in stat_keys:\n",
    "            stat = NFL_api.api_get_stats(year, season_type, i, away_team, home_team)\n",
    "            player, team = NFL_api.flatten_game_stats(stat, m)\n",
    "            time.sleep(1)\n",
    "            player_stat = player_stat.append(player)\n",
    "            team_stat = team_stat.append(team)\n",
    "            \n",
    "    \n",
    "    \n",
    "    \n",
    "    "
   ]
  },
  {
   "cell_type": "markdown",
   "metadata": {},
   "source": [
    "# Filling in missing values, creating outputs for modeling"
   ]
  },
  {
   "cell_type": "code",
   "execution_count": null,
   "metadata": {
    "collapsed": false
   },
   "outputs": [],
   "source": []
  },
  {
   "cell_type": "code",
   "execution_count": 45,
   "metadata": {
    "collapsed": false
   },
   "outputs": [
    {
     "data": {
      "text/plain": [
       "0          Ryan Allen\n",
       "1          Ryan Allen\n",
       "2        Jordan Berry\n",
       "3        Jordan Berry\n",
       "4      Colton Schmidt\n",
       "5      Colton Schmidt\n",
       "6          Pat McAfee\n",
       "7          Pat McAfee\n",
       "8        Ryan Quigley\n",
       "9        Ryan Quigley\n",
       "10           Andy Lee\n",
       "11           Andy Lee\n",
       "12      Pat O'Donnell\n",
       "13      Pat O'Donnell\n",
       "14        Tim Masthay\n",
       "15        Tim Masthay\n",
       "16        Bryan Anger\n",
       "17        Bryan Anger\n",
       "18       Brad Nortman\n",
       "19       Brad Nortman\n",
       "20      Johnny Hekker\n",
       "21      Johnny Hekker\n",
       "22           Jon Ryan\n",
       "23           Jon Ryan\n",
       "24          Tress Way\n",
       "25          Tress Way\n",
       "26          Matt Darr\n",
       "27          Matt Darr\n",
       "28      Shane Lechler\n",
       "29      Shane Lechler\n",
       "            ...      \n",
       "458               NaN\n",
       "459               NaN\n",
       "460               NaN\n",
       "461               NaN\n",
       "462               NaN\n",
       "463               NaN\n",
       "464               NaN\n",
       "465               NaN\n",
       "466               NaN\n",
       "467               NaN\n",
       "468               NaN\n",
       "469               NaN\n",
       "470               NaN\n",
       "471               NaN\n",
       "472               NaN\n",
       "473               NaN\n",
       "474               NaN\n",
       "475               NaN\n",
       "476               NaN\n",
       "477               NaN\n",
       "478               NaN\n",
       "479               NaN\n",
       "480               NaN\n",
       "481               NaN\n",
       "482               NaN\n",
       "483               NaN\n",
       "484               NaN\n",
       "485               NaN\n",
       "486               NaN\n",
       "487               NaN\n",
       "Name: name_x, dtype: object"
      ]
     },
     "execution_count": 45,
     "metadata": {},
     "output_type": "execute_result"
    }
   ],
   "source": [
    "pd.merge(player_stat, injuries_df, left_on='name', right_on='name_full', how='outer').name_x\n"
   ]
  },
  {
   "cell_type": "code",
   "execution_count": null,
   "metadata": {
    "collapsed": false
   },
   "outputs": [],
   "source": []
  },
  {
   "cell_type": "code",
   "execution_count": null,
   "metadata": {
    "collapsed": false
   },
   "outputs": [],
   "source": []
  },
  {
   "cell_type": "code",
   "execution_count": null,
   "metadata": {
    "collapsed": true
   },
   "outputs": [],
   "source": []
  }
 ],
 "metadata": {
  "kernelspec": {
   "display_name": "Python 2",
   "language": "python",
   "name": "python2"
  },
  "language_info": {
   "codemirror_mode": {
    "name": "ipython",
    "version": 2
   },
   "file_extension": ".py",
   "mimetype": "text/x-python",
   "name": "python",
   "nbconvert_exporter": "python",
   "pygments_lexer": "ipython2",
   "version": "2.7.10"
  }
 },
 "nbformat": 4,
 "nbformat_minor": 0
}
