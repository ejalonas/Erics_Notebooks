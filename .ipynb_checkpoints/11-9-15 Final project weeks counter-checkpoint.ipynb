{
 "cells": [
  {
   "cell_type": "code",
   "execution_count": 1,
   "metadata": {
    "collapsed": true
   },
   "outputs": [],
   "source": [
    "import pandas as pd\n",
    "import numpy as np\n",
    "import matplotlib.pyplot as plt\n",
    "%matplotlib inline\n",
    "import NFL_api\n",
    "import time\n",
    "import pickle"
   ]
  },
  {
   "cell_type": "code",
   "execution_count": 9,
   "metadata": {
    "collapsed": true
   },
   "outputs": [],
   "source": [
    "f= open('player_def_2015_1-8.pickle')\n",
    "player_stat = pickle.load(f)\n",
    "f.close()\n",
    "\n",
    "g=open('team_def_2015_1-8.pickle')\n",
    "team_stat = pickle.load(g)\n",
    "g.close()\n",
    "\n",
    "h=open('injuries_2015_1-8.pickle')\n",
    "injuries_df = pickle.load(h)\n",
    "h.close()"
   ]
  },
  {
   "cell_type": "code",
   "execution_count": 19,
   "metadata": {
    "collapsed": false
   },
   "outputs": [
    {
     "data": {
      "text/plain": [
       "Index([       u'game_id',      u'scheduled',            u'ast',\n",
       "                   u'bk',           u'comb',      u'force_fum',\n",
       "              u'fum_rec',         u'fum_td',             u'id',\n",
       "                  u'int',         u'int_lg',         u'int_td',\n",
       "              u'int_yds',         u'jersey',         u'market',\n",
       "             u'misc_ast',      u'misc_comb', u'misc_force_fum',\n",
       "         u'misc_fum_rec',    u'misc_tackle',           u'name',\n",
       "                   u'pd',       u'position',             u'qh',\n",
       "                 u'sack',       u'sack_yds',           u'sfty',\n",
       "             u'sfty_1pt',         u'sp_ast',        u'sp_comb',\n",
       "         u'sp_force_fum',     u'sp_fum_rec',      u'sp_tackle',\n",
       "               u'tackle',      u'team_name',          u'tlost',\n",
       "             u'week_num',       u'year_num'],\n",
       "      dtype='object')"
      ]
     },
     "execution_count": 19,
     "metadata": {},
     "output_type": "execute_result"
    }
   ],
   "source": [
    "player_stat.columns"
   ]
  },
  {
   "cell_type": "code",
   "execution_count": 24,
   "metadata": {
    "collapsed": false
   },
   "outputs": [
    {
     "data": {
      "text/html": [
       "<div>\n",
       "<table border=\"1\" class=\"dataframe\">\n",
       "  <thead>\n",
       "    <tr style=\"text-align: right;\">\n",
       "      <th></th>\n",
       "      <th>game_id</th>\n",
       "      <th>scheduled</th>\n",
       "      <th>ast</th>\n",
       "      <th>bk</th>\n",
       "      <th>comb</th>\n",
       "      <th>force_fum</th>\n",
       "      <th>fum_rec</th>\n",
       "      <th>fum_td</th>\n",
       "      <th>id</th>\n",
       "      <th>int</th>\n",
       "      <th>...</th>\n",
       "      <th>sp_ast</th>\n",
       "      <th>sp_comb</th>\n",
       "      <th>sp_force_fum</th>\n",
       "      <th>sp_fum_rec</th>\n",
       "      <th>sp_tackle</th>\n",
       "      <th>tackle</th>\n",
       "      <th>team_name</th>\n",
       "      <th>tlost</th>\n",
       "      <th>week_num</th>\n",
       "      <th>year_num</th>\n",
       "    </tr>\n",
       "  </thead>\n",
       "  <tbody>\n",
       "    <tr>\n",
       "      <th>32</th>\n",
       "      <td>8e72ff56-7740-4fe4-b818-78344716abe0</td>\n",
       "      <td>2015-09-22T00:30:00+00:00</td>\n",
       "      <td>0</td>\n",
       "      <td>0</td>\n",
       "      <td>0</td>\n",
       "      <td>0</td>\n",
       "      <td>0</td>\n",
       "      <td>0</td>\n",
       "      <td>0612e146-6fa8-4770-a3a7-a142e46678cd</td>\n",
       "      <td>0</td>\n",
       "      <td>...</td>\n",
       "      <td>0</td>\n",
       "      <td>1</td>\n",
       "      <td>0</td>\n",
       "      <td>0</td>\n",
       "      <td>1</td>\n",
       "      <td>0</td>\n",
       "      <td>Jets</td>\n",
       "      <td>0</td>\n",
       "      <td>2</td>\n",
       "      <td>2015</td>\n",
       "    </tr>\n",
       "    <tr>\n",
       "      <th>4</th>\n",
       "      <td>8554df33-0c28-46bd-80ff-9abdf3fa8b96</td>\n",
       "      <td>2015-09-27T17:00:00+00:00</td>\n",
       "      <td>0</td>\n",
       "      <td>0</td>\n",
       "      <td>0</td>\n",
       "      <td>0</td>\n",
       "      <td>0</td>\n",
       "      <td>0</td>\n",
       "      <td>0612e146-6fa8-4770-a3a7-a142e46678cd</td>\n",
       "      <td>0</td>\n",
       "      <td>...</td>\n",
       "      <td>0</td>\n",
       "      <td>1</td>\n",
       "      <td>0</td>\n",
       "      <td>0</td>\n",
       "      <td>1</td>\n",
       "      <td>0</td>\n",
       "      <td>Jets</td>\n",
       "      <td>0</td>\n",
       "      <td>3</td>\n",
       "      <td>2015</td>\n",
       "    </tr>\n",
       "    <tr>\n",
       "      <th>6</th>\n",
       "      <td>f65cb36f-2f23-4ab5-9c6c-bab29678a6ad</td>\n",
       "      <td>2015-10-18T17:00:00+00:00</td>\n",
       "      <td>0</td>\n",
       "      <td>0</td>\n",
       "      <td>0</td>\n",
       "      <td>0</td>\n",
       "      <td>0</td>\n",
       "      <td>0</td>\n",
       "      <td>0612e146-6fa8-4770-a3a7-a142e46678cd</td>\n",
       "      <td>0</td>\n",
       "      <td>...</td>\n",
       "      <td>1</td>\n",
       "      <td>1</td>\n",
       "      <td>0</td>\n",
       "      <td>0</td>\n",
       "      <td>0</td>\n",
       "      <td>0</td>\n",
       "      <td>Jets</td>\n",
       "      <td>0</td>\n",
       "      <td>6</td>\n",
       "      <td>2015</td>\n",
       "    </tr>\n",
       "    <tr>\n",
       "      <th>19</th>\n",
       "      <td>fadd8069-5b74-4970-8149-592f28e30493</td>\n",
       "      <td>2015-10-25T17:00:00+00:00</td>\n",
       "      <td>0</td>\n",
       "      <td>0</td>\n",
       "      <td>0</td>\n",
       "      <td>0</td>\n",
       "      <td>0</td>\n",
       "      <td>0</td>\n",
       "      <td>0612e146-6fa8-4770-a3a7-a142e46678cd</td>\n",
       "      <td>0</td>\n",
       "      <td>...</td>\n",
       "      <td>0</td>\n",
       "      <td>1</td>\n",
       "      <td>0</td>\n",
       "      <td>0</td>\n",
       "      <td>1</td>\n",
       "      <td>0</td>\n",
       "      <td>Jets</td>\n",
       "      <td>0</td>\n",
       "      <td>7</td>\n",
       "      <td>2015</td>\n",
       "    </tr>\n",
       "    <tr>\n",
       "      <th>34</th>\n",
       "      <td>dff96fb5-52cc-4e8e-a155-e69d830b5e20</td>\n",
       "      <td>2015-11-01T21:05:00+00:00</td>\n",
       "      <td>0</td>\n",
       "      <td>0</td>\n",
       "      <td>0</td>\n",
       "      <td>0</td>\n",
       "      <td>0</td>\n",
       "      <td>0</td>\n",
       "      <td>0612e146-6fa8-4770-a3a7-a142e46678cd</td>\n",
       "      <td>0</td>\n",
       "      <td>...</td>\n",
       "      <td>0</td>\n",
       "      <td>4</td>\n",
       "      <td>0</td>\n",
       "      <td>0</td>\n",
       "      <td>4</td>\n",
       "      <td>0</td>\n",
       "      <td>Jets</td>\n",
       "      <td>0</td>\n",
       "      <td>8</td>\n",
       "      <td>2015</td>\n",
       "    </tr>\n",
       "  </tbody>\n",
       "</table>\n",
       "<p>5 rows × 38 columns</p>\n",
       "</div>"
      ],
      "text/plain": [
       "                                 game_id                  scheduled  ast  bk  \\\n",
       "32  8e72ff56-7740-4fe4-b818-78344716abe0  2015-09-22T00:30:00+00:00    0   0   \n",
       "4   8554df33-0c28-46bd-80ff-9abdf3fa8b96  2015-09-27T17:00:00+00:00    0   0   \n",
       "6   f65cb36f-2f23-4ab5-9c6c-bab29678a6ad  2015-10-18T17:00:00+00:00    0   0   \n",
       "19  fadd8069-5b74-4970-8149-592f28e30493  2015-10-25T17:00:00+00:00    0   0   \n",
       "34  dff96fb5-52cc-4e8e-a155-e69d830b5e20  2015-11-01T21:05:00+00:00    0   0   \n",
       "\n",
       "    comb  force_fum  fum_rec  fum_td                                    id  \\\n",
       "32     0          0        0       0  0612e146-6fa8-4770-a3a7-a142e46678cd   \n",
       "4      0          0        0       0  0612e146-6fa8-4770-a3a7-a142e46678cd   \n",
       "6      0          0        0       0  0612e146-6fa8-4770-a3a7-a142e46678cd   \n",
       "19     0          0        0       0  0612e146-6fa8-4770-a3a7-a142e46678cd   \n",
       "34     0          0        0       0  0612e146-6fa8-4770-a3a7-a142e46678cd   \n",
       "\n",
       "    int    ...     sp_ast  sp_comb  sp_force_fum  sp_fum_rec sp_tackle  \\\n",
       "32    0    ...          0        1             0           0         1   \n",
       "4     0    ...          0        1             0           0         1   \n",
       "6     0    ...          1        1             0           0         0   \n",
       "19    0    ...          0        1             0           0         1   \n",
       "34    0    ...          0        4             0           0         4   \n",
       "\n",
       "    tackle  team_name  tlost  week_num  year_num  \n",
       "32       0       Jets      0         2      2015  \n",
       "4        0       Jets      0         3      2015  \n",
       "6        0       Jets      0         6      2015  \n",
       "19       0       Jets      0         7      2015  \n",
       "34       0       Jets      0         8      2015  \n",
       "\n",
       "[5 rows x 38 columns]"
      ]
     },
     "execution_count": 24,
     "metadata": {},
     "output_type": "execute_result"
    }
   ],
   "source": [
    "player_stat.groupby(['name']).get_group('Erin Henderson')"
   ]
  },
  {
   "cell_type": "code",
   "execution_count": 33,
   "metadata": {
    "collapsed": false
   },
   "outputs": [
    {
     "data": {
      "text/plain": [
       "False"
      ]
     },
     "execution_count": 33,
     "metadata": {},
     "output_type": "execute_result"
    }
   ],
   "source": [
    "[1,2,3] in [3,4,5]"
   ]
  },
  {
   "cell_type": "code",
   "execution_count": null,
   "metadata": {
    "collapsed": true
   },
   "outputs": [],
   "source": []
  }
 ],
 "metadata": {
  "kernelspec": {
   "display_name": "Python 2",
   "language": "python",
   "name": "python2"
  },
  "language_info": {
   "codemirror_mode": {
    "name": "ipython",
    "version": 2
   },
   "file_extension": ".py",
   "mimetype": "text/x-python",
   "name": "python",
   "nbconvert_exporter": "python",
   "pygments_lexer": "ipython2",
   "version": "2.7.10"
  }
 },
 "nbformat": 4,
 "nbformat_minor": 0
}
