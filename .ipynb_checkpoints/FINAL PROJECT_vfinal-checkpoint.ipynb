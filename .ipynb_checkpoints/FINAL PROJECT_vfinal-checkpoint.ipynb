{
 "cells": [
  {
   "cell_type": "markdown",
   "metadata": {},
   "source": [
    "# Summary"
   ]
  },
  {
   "cell_type": "markdown",
   "metadata": {},
   "source": [
    "The goal of this project was to predict the likelihood of injury for a given player in the NFL. The injuries per game, player statistics per game, and team statistics per game data were gathered from the Sportsradar US API. After importing deconding the JSON objects, the data was assembled into dataframes, a label was constructed from the injuries database, and additional cumulative summation and rolling averages of numerical stats were added as features. The final dataset was modeled using Random Forest and Gradient Boosting methods."
   ]
  },
  {
   "cell_type": "markdown",
   "metadata": {
    "collapsed": true
   },
   "source": [
    "# Importing the Data"
   ]
  },
  {
   "cell_type": "markdown",
   "metadata": {},
   "source": [
    "A series of functions was written to call the API and unwrap the nested dictionaries from the JSON responses.\n",
    "\n",
    "This code is written for importing only the defense statics in order to capture the widest variety of positions."
   ]
  },
  {
   "cell_type": "code",
   "execution_count": null,
   "metadata": {
    "collapsed": true
   },
   "outputs": [],
   "source": [
    "import pandas as pd\n",
    "import numpy as np\n",
    "import matplotlib.pyplot as plt\n",
    "%matplotlib inline\n",
    "import NFL_api\n",
    "import time\n",
    "import pickle"
   ]
  },
  {
   "cell_type": "code",
   "execution_count": null,
   "metadata": {
    "collapsed": true
   },
   "outputs": [],
   "source": [
    "season_type = 'REG'\n",
    "year = 2014\n",
    "weeks = [1,2,3,4,5,6,7,8,9,10,11,12,13,14,15,16,17]\n",
    "injuries_df = pd.DataFrame()\n",
    "stat_keys = ['passing']\n",
    "player_stat = pd.DataFrame()\n",
    "team_stat = pd.DataFrame()\n",
    "\n",
    "for i in weeks:\n",
    "    sched = NFL_api.api_get_weekly_schedule(year, season_type, i)\n",
    "    sched = NFL_api.flatten_schedule(sched)\n",
    "    time.sleep(1)\n",
    "    \n",
    "    \n",
    "    for n in range(0,len(sched)):\n",
    "        home_team = sched.ix[n]['home']\n",
    "        away_team = sched.ix[n]['away']\n",
    "        injuries = NFL_api.api_get_injuries(year, season_type, i, away_team, home_team)\n",
    "        injuries = NFL_api.flatten_injuries(injuries)\n",
    "        injuries['week_num']=i\n",
    "        injuries['year_num']=year\n",
    "        injuries_df = injuries_df.append(injuries)\n",
    "        time.sleep(1)\n",
    "        \n",
    "        for m in stat_keys:\n",
    "            stat = NFL_api.api_get_stats(year, season_type, i, away_team, home_team)\n",
    "            player, team = NFL_api.flatten_game_stats(stat, m)\n",
    "            time.sleep(1)\n",
    "            player['week_num']=i\n",
    "            team['week_num']=i\n",
    "            player['year_num']=year\n",
    "            team['year_num']=year\n",
    "            player_stat = player_stat.append(player)\n",
    "            team_stat = team_stat.append(team)\n"
   ]
  },
  {
   "cell_type": "code",
   "execution_count": null,
   "metadata": {
    "collapsed": true
   },
   "outputs": [],
   "source": [
    "f = open('player_def_2014_1-17.pickle', 'wb')\n",
    "pickle.dump(player_stat, f)\n",
    "f.close()\n",
    "\n",
    "g = open('team_def_2014_1-17.pickle', 'wb')\n",
    "pickle.dump(team_stat, g)\n",
    "g.close()\n",
    "\n",
    "h = open('injuries_2014_1-17.pickle', 'wb')\n",
    "pickle.dump(injuries_df, h)\n",
    "h.close()"
   ]
  },
  {
   "cell_type": "markdown",
   "metadata": {},
   "source": [
    "# Munging the Data"
   ]
  },
  {
   "cell_type": "markdown",
   "metadata": {},
   "source": [
    "## Injuries"
   ]
  },
  {
   "cell_type": "markdown",
   "metadata": {},
   "source": [
    "Removing the non-injury related entries from the injury dataset."
   ]
  },
  {
   "cell_type": "code",
   "execution_count": 1,
   "metadata": {
    "collapsed": true
   },
   "outputs": [],
   "source": [
    "import pandas as pd\n",
    "import numpy as np\n",
    "import matplotlib.pyplot as plt\n",
    "%matplotlib inline\n",
    "import NFL_api\n",
    "import time\n",
    "import pickle"
   ]
  },
  {
   "cell_type": "code",
   "execution_count": null,
   "metadata": {
    "collapsed": true
   },
   "outputs": [],
   "source": [
    "f= open('player_def_2014_1-17.pickle')\n",
    "player_stat = pickle.load(f)\n",
    "f.close()\n",
    "\n",
    "g=open('team_def_2014_1-17.pickle')\n",
    "team_stat = pickle.load(g)\n",
    "g.close()\n",
    "\n",
    "h=open('injuries_2014_1-17_MUNGED.pickle')\n",
    "injuries_df = pickle.load(h)\n",
    "h.close()"
   ]
  },
  {
   "cell_type": "code",
   "execution_count": null,
   "metadata": {
    "collapsed": true
   },
   "outputs": [],
   "source": [
    "inj_munged = injuries_df[(injuries_df.description != 'Not Injury Related') \n",
    "            & (injuries_df.description != 'NIR') \n",
    "           & (injuries_df.description != 'Illness')\n",
    "           & (injuries_df.description != 'Non-Injury Related')\n",
    "           & (injuries_df.description != 'Not-Injury Related')\n",
    "           & (injuries_df.description != 'Not injury-related')]\n",
    "\n",
    "inj_munged.reset_index(drop=True, inplace=True)\n",
    "inj_munged.description.value_counts()"
   ]
  },
  {
   "cell_type": "code",
   "execution_count": null,
   "metadata": {
    "collapsed": true
   },
   "outputs": [],
   "source": [
    "h = open('injuries_2014_1-17_MUNGED.pickle', 'wb')\n",
    "pickle.dump(inj_munged, h)\n",
    "h.close()"
   ]
  },
  {
   "cell_type": "markdown",
   "metadata": {},
   "source": [
    "## Player stats"
   ]
  },
  {
   "cell_type": "markdown",
   "metadata": {},
   "source": [
    "Had to create a label called injured? from the injuries statistics. Also added the rolling average and cumulative summation features."
   ]
  },
  {
   "cell_type": "code",
   "execution_count": null,
   "metadata": {
    "collapsed": true
   },
   "outputs": [],
   "source": [
    "import pandas as pd\n",
    "import numpy as np\n",
    "import matplotlib.pyplot as plt\n",
    "%matplotlib inline\n",
    "import NFL_api\n",
    "import time\n",
    "import pickle"
   ]
  },
  {
   "cell_type": "code",
   "execution_count": null,
   "metadata": {
    "collapsed": true
   },
   "outputs": [],
   "source": [
    "f= open('player_def_2014_1-17.pickle')\n",
    "player_stat = pickle.load(f)\n",
    "f.close()\n",
    "\n",
    "g=open('team_def_2014_1-17.pickle')\n",
    "team_stat = pickle.load(g)\n",
    "g.close()\n",
    "\n",
    "h=open('injuries_2014_1-17_MUNGED.pickle')\n",
    "injuries_df = pickle.load(h)\n",
    "h.close()"
   ]
  },
  {
   "cell_type": "code",
   "execution_count": null,
   "metadata": {
    "collapsed": true
   },
   "outputs": [],
   "source": [
    "player_stat.reset_index(drop=True, inplace=True)\n",
    "\n",
    "stat_list = []\n",
    "\n",
    "for i in player_stat.columns:\n",
    "    if (player_stat[i].dtype != object):\n",
    "        stat_list.append(i)\n",
    "\n",
    "for i in player_stat.index:\n",
    "    name = player_stat.ix[i, 'name']\n",
    "    week = player_stat.ix[i, 'week_num']\n",
    "    if (len(injuries_df[(injuries_df['name_full']==name) & (injuries_df['week_num']==week+1)]) > 0):\n",
    "        player_stat.loc[i,'injured?']=1\n",
    "    else:\n",
    "        player_stat.loc[i,'injured?']=0\n",
    "        \n",
    "grouped = player_stat.groupby(['name'])\n",
    "f=lambda x: pd.rolling_mean(x,3)\n",
    "\n",
    "for stat in stat_list:\n",
    "    player_stat = player_stat.join(grouped[stat].transform(np.cumsum), how='outer', rsuffix='_cum')\n",
    "    player_stat= player_stat.join(grouped[stat].transform(f).fillna(0), how='outer', rsuffix='_ravg')\n",
    "    \n",
    "player_stat=player_stat.join(pd.get_dummies(player_stat.position),how='outer')\n",
    "\n"
   ]
  },
  {
   "cell_type": "code",
   "execution_count": null,
   "metadata": {
    "collapsed": true
   },
   "outputs": [],
   "source": [
    "f = open('player_def_2014_1-17_MUNGED_v2.pickle', 'wb')\n",
    "pickle.dump(player_stat, f)\n",
    "f.close()"
   ]
  },
  {
   "cell_type": "markdown",
   "metadata": {},
   "source": [
    "Putting the data from the 2014 and the 2015 season together, and removing any NA's"
   ]
  },
  {
   "cell_type": "code",
   "execution_count": null,
   "metadata": {
    "collapsed": true
   },
   "outputs": [],
   "source": [
    "import pandas as pd\n",
    "import numpy as np\n",
    "import matplotlib.pyplot as plt\n",
    "%matplotlib inline\n",
    "import NFL_api\n",
    "import time\n",
    "import pickle"
   ]
  },
  {
   "cell_type": "code",
   "execution_count": null,
   "metadata": {
    "collapsed": true
   },
   "outputs": [],
   "source": [
    "f= open('player_def_2014_1-17_MUNGED_v2.pickle')\n",
    "player_stat14 = pickle.load(f)\n",
    "f.close()\n",
    "\n",
    "g=open('player_def_2015_1-8_MUNGED_v2.pickle')\n",
    "player_stat15 = pickle.load(g)\n",
    "g.close()"
   ]
  },
  {
   "cell_type": "code",
   "execution_count": null,
   "metadata": {
    "collapsed": true
   },
   "outputs": [],
   "source": [
    "data = player_stat14.append(player_stat15, ignore_index=True)\n",
    "data.fillna(0, inplace=True)\n",
    "data.drop(data[['week_num_cum', 'week_num_ravg','year_num_cum', 'year_num_ravg']], axis=1, inplace=True)"
   ]
  },
  {
   "cell_type": "code",
   "execution_count": null,
   "metadata": {
    "collapsed": true
   },
   "outputs": [],
   "source": [
    "f=open('player_def_14-15_FINAL_v2.pickle','wb')\n",
    "pickle.dump(data, f)\n",
    "f.close()"
   ]
  },
  {
   "cell_type": "markdown",
   "metadata": {},
   "source": [
    "# Exploring the Data"
   ]
  },
  {
   "cell_type": "markdown",
   "metadata": {},
   "source": [
    "One obvious important feature could be the position of the player."
   ]
  },
  {
   "cell_type": "code",
   "execution_count": 34,
   "metadata": {
    "collapsed": true
   },
   "outputs": [],
   "source": [
    "import pandas as pd\n",
    "import numpy as np\n",
    "import matplotlib.pyplot as plt\n",
    "import NFL_api\n",
    "import time\n",
    "import pickle\n",
    "%matplotlib inline"
   ]
  },
  {
   "cell_type": "code",
   "execution_count": 47,
   "metadata": {
    "collapsed": true
   },
   "outputs": [],
   "source": [
    "f=open('player_def_14-15_FINAL_v2.pickle')\n",
    "player_stat=pickle.load(f)\n",
    "f.close()"
   ]
  },
  {
   "cell_type": "code",
   "execution_count": 50,
   "metadata": {
    "collapsed": false
   },
   "outputs": [
    {
     "data": {
      "text/plain": [
       "<matplotlib.axes._subplots.AxesSubplot at 0x245bd7450>"
      ]
     },
     "execution_count": 50,
     "metadata": {},
     "output_type": "execute_result"
    },
    {
     "data": {
      "image/png": "[encoded data removed]",
      "text/plain": [
       "<matplotlib.figure.Figure at 0x245e02990>"
      ]
     },
     "metadata": {},
     "output_type": "display_data"
    }
   ],
   "source": [
    "players_injured = player_stat[player_stat['injured?']==1]\n",
    "\n",
    "from collections import Counter\n",
    "string_counts = Counter(players_injured.position)\n",
    "ans = pd.DataFrame.from_dict(string_counts, orient='index')\n",
    "ans.plot(kind='bar')"
   ]
  },
  {
   "cell_type": "markdown",
   "metadata": {},
   "source": [
    "The injuries are distributed differently throughout the season"
   ]
  },
  {
   "cell_type": "code",
   "execution_count": 101,
   "metadata": {
    "collapsed": false
   },
   "outputs": [
    {
     "data": {
      "text/plain": [
       "<Container object of 16 artists>"
      ]
     },
     "execution_count": 101,
     "metadata": {},
     "output_type": "execute_result"
    },
    {
     "data": {
      "image/png": "[encoded data removed]",
      "text/plain": [
       "<matplotlib.figure.Figure at 0x243db96d0>"
      ]
     },
     "metadata": {},
     "output_type": "display_data"
    }
   ],
   "source": [
    "season_14 = player_stat[player_stat['year_num']==2014]\n",
    "grouped_weeks = season_14.groupby(['week_num'])['injured?']\n",
    "x=[]\n",
    "\n",
    "for i in range(1,17):\n",
    "    x.append(grouped_weeks.value_counts()[i][1])\n",
    "\n",
    "np.array(x)\n",
    "plt.bar(range(1,17),x)"
   ]
  },
  {
   "cell_type": "markdown",
   "metadata": {},
   "source": [
    "The dataset is unbalanced, with only a small fraction of defense players getting injured."
   ]
  },
  {
   "cell_type": "code",
   "execution_count": 36,
   "metadata": {
    "collapsed": true
   },
   "outputs": [],
   "source": [
    "for i in player_stat.columns:\n",
    "    if (player_stat[i].dtype=='object'):\n",
    "        player_stat.drop(i,axis=1, inplace=True)"
   ]
  },
  {
   "cell_type": "code",
   "execution_count": 108,
   "metadata": {
    "collapsed": false
   },
   "outputs": [
    {
     "name": "stderr",
     "output_type": "stream",
     "text": [
      "/Users/ericalonas/anaconda/lib/python2.7/site-packages/ipykernel/__main__.py:9: SettingWithCopyWarning: \n",
      "A value is trying to be set on a copy of a slice from a DataFrame\n",
      "\n",
      "See the the caveats in the documentation: http://pandas.pydata.org/pandas-docs/stable/indexing.html#indexing-view-versus-copy\n"
     ]
    }
   ],
   "source": [
    "player_stat2 = player_stat[(player_stat['week_num'] >= 1) & (player_stat['week_num'] < 17)]\n",
    "\n",
    "for i in player_stat2.columns:\n",
    "    if (player_stat2[i].dtype=='object'):\n",
    "        player_stat2.drop(i,axis=1, inplace=True)\n",
    "\n",
    "Y = player_stat2['injured?']\n",
    "X = player_stat2\n",
    "X.drop('injured?',axis=1,inplace=True)"
   ]
  },
  {
   "cell_type": "code",
   "execution_count": 109,
   "metadata": {
    "collapsed": false
   },
   "outputs": [
    {
     "data": {
      "text/plain": [
       "<matplotlib.axes._subplots.AxesSubplot at 0x245939650>"
      ]
     },
     "execution_count": 109,
     "metadata": {},
     "output_type": "execute_result"
    },
    {
     "data": {
      "image/png": "[encoded data removed]",
      "text/plain": [
       "<matplotlib.figure.Figure at 0x24614e810>"
      ]
     },
     "metadata": {},
     "output_type": "display_data"
    }
   ],
   "source": [
    "Y.value_counts().plot(kind='pie')\n",
    "\n"
   ]
  },
  {
   "cell_type": "markdown",
   "metadata": {},
   "source": [
    "# Modeling the data"
   ]
  },
  {
   "cell_type": "markdown",
   "metadata": {},
   "source": [
    "Split data into training and test sets"
   ]
  },
  {
   "cell_type": "code",
   "execution_count": null,
   "metadata": {
    "collapsed": true
   },
   "outputs": [],
   "source": [
    "X.drop(['jersey', 'jersey_cum', 'jersey_ravg'],axis=1,inplace=True)\n"
   ]
  },
  {
   "cell_type": "code",
   "execution_count": 219,
   "metadata": {
    "collapsed": false
   },
   "outputs": [],
   "source": [
    "\n",
    "X_scaled = scale(X)\n",
    "\n",
    "\n",
    "from sklearn.cross_validation import train_test_split\n",
    "x_train, x_test,y_train, y_test = train_test_split(X_scaled,Y, train_size=0.7, random_state=1)"
   ]
  },
  {
   "cell_type": "markdown",
   "metadata": {},
   "source": [
    "Attempted Random Forest with default settings"
   ]
  },
  {
   "cell_type": "code",
   "execution_count": 207,
   "metadata": {
    "collapsed": false
   },
   "outputs": [
    {
     "name": "stdout",
     "output_type": "stream",
     "text": [
      "Accuracy is: 0.872797986731\n",
      "ROC AUC is: 0.509028548071\n"
     ]
    },
    {
     "data": {
      "text/plain": [
       "array([[3799,   48],\n",
       "       [ 508,   16]])"
      ]
     },
     "execution_count": 207,
     "metadata": {},
     "output_type": "execute_result"
    }
   ],
   "source": [
    "from sklearn.ensemble import RandomForestClassifier\n",
    "from sklearn import metrics\n",
    "\n",
    "RF = RandomForestClassifier()\n",
    "RF.fit(x_train,y_train)\n",
    "print 'Accuracy is:',RF.score(x_test,y_test)\n",
    "pred = RF.predict(x_test)\n",
    "\n",
    "print 'ROC AUC is:', metrics.roc_auc_score(y_test,pred)\n",
    "metrics.confusion_matrix(y_test, pred)\n",
    "\n"
   ]
  },
  {
   "cell_type": "code",
   "execution_count": 220,
   "metadata": {
    "collapsed": false
   },
   "outputs": [
    {
     "name": "stdout",
     "output_type": "stream",
     "text": [
      "<type 'numpy.ndarray'>\n",
      "C 0.000508987394874\n",
      "CB 0.0104590466006\n",
      "DB 0.00413930829527\n",
      "DE 0.00689962562548\n",
      "DT 0.00650284786294\n",
      "FB 0.001123802414\n",
      "FS 0.00423175663165\n",
      "G 0.000968128139168\n",
      "K 0.000261255398713\n",
      "LB 0.00866825485076\n",
      "LS 0.000407876755191\n",
      "MLB 0.00399994793447\n",
      "NT 0.00249669616629\n",
      "OG 0.00090234120375\n",
      "OL 0.00137763588978\n",
      "OLB 0.00525701555208\n",
      "OT 0.00211668333029\n",
      "P 0.000248793688569\n",
      "QB 0.00133900393635\n",
      "RB 0.00349609570602\n",
      "SAF 0.00691818053924\n",
      "SS 0.00417663543559\n",
      "T 0.000615966637899\n",
      "TE 0.00243787624275\n",
      "WR 0.00414122170143\n",
      "ast 0.0238881588633\n",
      "ast_cum 0.040202508942\n",
      "ast_ravg 0.0249850544289\n",
      "bk 0.000451561477474\n",
      "bk_cum 0.00355700451881\n",
      "bk_ravg 0.00105376419701\n",
      "comb 0.0355982153387\n",
      "comb_cum 0.05595211124\n",
      "comb_ravg 0.034788788481\n",
      "force_fum 0.00423461752873\n",
      "force_fum_cum 0.0114289969522\n",
      "force_fum_ravg 0.00460659228095\n",
      "fum_rec 0.00409449251435\n",
      "fum_rec_cum 0.00844193205569\n",
      "fum_rec_ravg 0.00501106044595\n",
      "fum_td 0.00070861119121\n",
      "fum_td_cum 0.00188965614673\n",
      "fum_td_ravg 0.000756034363706\n",
      "int 0.00277383046055\n",
      "int_cum 0.0109888084857\n",
      "int_lg 0.00236239173098\n",
      "int_lg_cum 0.0106367223835\n",
      "int_lg_ravg 0.00452390031458\n",
      "int_ravg 0.00698355106761\n",
      "int_td 0.000193011707737\n",
      "int_td_cum 0.00167610091014\n",
      "int_td_ravg 0.00113350734509\n",
      "int_yds 0.00171272293977\n",
      "int_yds_cum 0.0118002346866\n",
      "int_yds_ravg 0.00507380579876\n",
      "misc_ast 0.000177752379513\n",
      "misc_ast_cum 0.000248880452149\n",
      "misc_ast_ravg 4.13141865845e-05\n",
      "misc_comb 0.00143668838192\n",
      "misc_comb_cum 0.00446016169059\n",
      "misc_comb_ravg 0.00234089498867\n",
      "misc_force_fum 0.000521270259838\n",
      "misc_force_fum_cum 0.000657181357133\n",
      "misc_force_fum_ravg 4.87443596673e-05\n",
      "misc_fum_rec 0.00195073301969\n",
      "misc_fum_rec_cum 0.00547897404839\n",
      "misc_fum_rec_ravg 0.000944664317736\n",
      "misc_tackle 0.00147118385437\n",
      "misc_tackle_cum 0.00357680728761\n",
      "misc_tackle_ravg 0.00136196548787\n",
      "pd 0.0153416529213\n",
      "pd_cum 0.0269130553412\n",
      "pd_ravg 0.0175953501258\n",
      "qh 0.0122044103125\n",
      "qh_cum 0.025156991606\n",
      "qh_ravg 0.0154845002771\n",
      "sack 0.00617112732137\n",
      "sack_cum 0.0167698738103\n",
      "sack_ravg 0.00800236106255\n",
      "sack_yds 0.00911027643533\n",
      "sack_yds_cum 0.0222329843185\n",
      "sack_yds_ravg 0.0145013262693\n",
      "sfty 7.8205380213e-07\n",
      "sfty_1pt 0.0\n",
      "sfty_1pt_cum 0.0\n",
      "sfty_1pt_ravg 0.0\n",
      "sfty_cum 0.000401582940704\n",
      "sfty_ravg 0.0\n",
      "sp_ast 0.0017322470265\n",
      "sp_ast_cum 0.00593172938358\n",
      "sp_ast_ravg 0.00322409450336\n",
      "sp_comb 0.00598246621108\n",
      "sp_comb_cum 0.0192075614904\n",
      "sp_comb_ravg 0.00907480066236\n",
      "sp_force_fum 0.000241573648667\n",
      "sp_force_fum_cum 0.00164603001977\n",
      "sp_force_fum_ravg 0.000317077118654\n",
      "sp_fum_rec 0.00115821432954\n",
      "sp_fum_rec_cum 0.00362098087226\n",
      "sp_fum_rec_ravg 0.000605426239077\n",
      "sp_tackle 0.00529824604801\n",
      "sp_tackle_cum 0.0172754883309\n",
      "sp_tackle_ravg 0.0100887546841\n",
      "tackle 0.0349967754384\n",
      "tackle_cum 0.0521177537423\n",
      "tackle_ravg 0.0347107785248\n",
      "tlost 0.0136289776231\n",
      "tlost_cum 0.0280236159574\n",
      "tlost_ravg 0.0147984835484\n",
      "week_num 0.0948086592427\n",
      "year_num 0.0217040417562\n"
     ]
    }
   ],
   "source": [
    "feats = RF.feature_importances_\n",
    "print type(x_test)\n",
    "for i in range(0,len(feats)):\n",
    "    print X.columns[i], RF.feature_importances_[i]"
   ]
  },
  {
   "cell_type": "code",
   "execution_count": 209,
   "metadata": {
    "collapsed": false
   },
   "outputs": [
    {
     "name": "stdout",
     "output_type": "stream",
     "text": [
      "ROC AUC is: 0.506381496834\n",
      "[[3808   39]\n",
      " [ 512   12]]\n"
     ]
    },
    {
     "data": {
      "text/plain": [
       "RandomForestClassifier(bootstrap=True, class_weight=None, criterion='gini',\n",
       "            max_depth=None, max_features='auto', max_leaf_nodes=None,\n",
       "            min_samples_leaf=1, min_samples_split=2,\n",
       "            min_weight_fraction_leaf=0.0, n_estimators=90, n_jobs=1,\n",
       "            oob_score=False, random_state=None, verbose=0,\n",
       "            warm_start=False)"
      ]
     },
     "execution_count": 209,
     "metadata": {},
     "output_type": "execute_result"
    }
   ],
   "source": [
    "from sklearn.grid_search import GridSearchCV\n",
    "\n",
    "param_grid={'n_estimators':np.arange(10,100,10)}\n",
    "RF2 = RandomForestClassifier()\n",
    "gs = GridSearchCV(RF2, param_grid)\n",
    "\n",
    "func = metrics.make_scorer(metrics.roc_auc_score)\n",
    "gs.scorer_=func\n",
    "\n",
    "gs.fit(x_train,y_train)\n",
    "\n",
    "pred = gs.predict(x_test)\n",
    "print 'ROC AUC is:', metrics.roc_auc_score(y_test,pred)\n",
    "print metrics.confusion_matrix(y_test, pred)\n",
    "gs.best_estimator_\n"
   ]
  },
  {
   "cell_type": "code",
   "execution_count": 210,
   "metadata": {
    "collapsed": false
   },
   "outputs": [
    {
     "name": "stdout",
     "output_type": "stream",
     "text": [
      "ROC AUC is: 0.508378691039\n",
      "[[3794   53]\n",
      " [ 508   16]]\n"
     ]
    },
    {
     "data": {
      "text/plain": [
       "RandomForestClassifier(bootstrap=True, class_weight=None, criterion='gini',\n",
       "            max_depth=None, max_features=1, max_leaf_nodes=None,\n",
       "            min_samples_leaf=1, min_samples_split=2,\n",
       "            min_weight_fraction_leaf=0.0, n_estimators=10, n_jobs=1,\n",
       "            oob_score=False, random_state=None, verbose=0,\n",
       "            warm_start=False)"
      ]
     },
     "execution_count": 210,
     "metadata": {},
     "output_type": "execute_result"
    }
   ],
   "source": [
    "from sklearn.grid_search import GridSearchCV\n",
    "\n",
    "param_grid={'max_features':np.arange(1,100,50)}\n",
    "RF3 = RandomForestClassifier()\n",
    "gs = GridSearchCV(RF3, param_grid)\n",
    "\n",
    "func = metrics.make_scorer(metrics.roc_auc_score)\n",
    "gs.scorer_=func\n",
    "\n",
    "gs.fit(x_train,y_train)\n",
    "\n",
    "pred = gs.predict(x_test)\n",
    "print 'ROC AUC is:', metrics.roc_auc_score(y_test,pred)\n",
    "print metrics.confusion_matrix(y_test, pred)\n",
    "gs.best_estimator_"
   ]
  },
  {
   "cell_type": "code",
   "execution_count": null,
   "metadata": {
    "collapsed": false
   },
   "outputs": [],
   "source": []
  },
  {
   "cell_type": "code",
   "execution_count": 211,
   "metadata": {
    "collapsed": false
   },
   "outputs": [
    {
     "name": "stdout",
     "output_type": "stream",
     "text": [
      "ROC AUC is: 0.503179834787\n",
      "[[3754   93]\n",
      " [ 508   16]]\n"
     ]
    },
    {
     "data": {
      "text/plain": [
       "RandomForestClassifier(bootstrap=True, class_weight='auto', criterion='gini',\n",
       "            max_depth=None, max_features='auto', max_leaf_nodes=None,\n",
       "            min_samples_leaf=1, min_samples_split=2,\n",
       "            min_weight_fraction_leaf=0.0, n_estimators=10, n_jobs=1,\n",
       "            oob_score=False, random_state=None, verbose=0,\n",
       "            warm_start=False)"
      ]
     },
     "execution_count": 211,
     "metadata": {},
     "output_type": "execute_result"
    }
   ],
   "source": [
    "from sklearn.grid_search import GridSearchCV\n",
    "\n",
    "param_grid={'class_weight':['auto', 'subsample']}\n",
    "RF3 = RandomForestClassifier()\n",
    "gs = GridSearchCV(RF3, param_grid)\n",
    "\n",
    "func = metrics.make_scorer(metrics.roc_auc_score)\n",
    "gs.scorer_=func\n",
    "\n",
    "gs.fit(x_train,y_train)\n",
    "\n",
    "pred = gs.predict(x_test)\n",
    "print 'ROC AUC is:', metrics.roc_auc_score(y_test,pred)\n",
    "print metrics.confusion_matrix(y_test, pred)\n",
    "gs.best_estimator_"
   ]
  },
  {
   "cell_type": "markdown",
   "metadata": {},
   "source": [
    "# Conclusion"
   ]
  },
  {
   "cell_type": "markdown",
   "metadata": {},
   "source": [
    "* Model is only slightly predictive of the injuries in the test set\n",
    "* Adding more data, more features (such as penalties) might help to increase the predictive power\n",
    "* Most important feature ended up being the week_num, tackle_cum, sack_yds_cum\n",
    "* Might rebuild dataset using cumulative numbers only"
   ]
  },
  {
   "cell_type": "code",
   "execution_count": null,
   "metadata": {
    "collapsed": true
   },
   "outputs": [],
   "source": []
  }
 ],
 "metadata": {
  "kernelspec": {
   "display_name": "Python 2",
   "language": "python",
   "name": "python2"
  },
  "language_info": {
   "codemirror_mode": {
    "name": "ipython",
    "version": 2
   },
   "file_extension": ".py",
   "mimetype": "text/x-python",
   "name": "python",
   "nbconvert_exporter": "python",
   "pygments_lexer": "ipython2",
   "version": "2.7.10"
  }
 },
 "nbformat": 4,
 "nbformat_minor": 0
}
