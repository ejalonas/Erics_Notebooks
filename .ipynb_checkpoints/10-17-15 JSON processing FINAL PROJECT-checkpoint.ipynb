{
 "cells": [
  {
   "cell_type": "code",
   "execution_count": 85,
   "metadata": {
    "collapsed": true
   },
   "outputs": [],
   "source": [
    "import simplejson\n",
    "import requests\n",
    "import time\n",
    "import numpy as np\n",
    "import pandas as pd\n",
    "import json"
   ]
  },
  {
   "cell_type": "code",
   "execution_count": 86,
   "metadata": {
    "collapsed": false
   },
   "outputs": [
    {
     "name": "stdout",
     "output_type": "stream",
     "text": [
      "<class 'requests.models.Response'>\n",
      "PIT\n",
      "<class 'requests.models.Response'>\n",
      "DEN\n"
     ]
    }
   ],
   "source": [
    "for i in range(1,3):\n",
    "    string = 'http://api.sportradar.us/nfl-t1/2015/REG/%d/schedule.json?api_key=jdmq6nfne2a7ucg6g5jkvsz7' %i\n",
    "    answer = requests.get(string)\n",
    "    test  = answer.json()\n",
    "    print type(answer)\n",
    "    print test['games'][0]['away']\n",
    "    i=i+1\n",
    "    time.sleep(1)\n",
    "    "
   ]
  },
  {
   "cell_type": "code",
   "execution_count": 87,
   "metadata": {
    "collapsed": false
   },
   "outputs": [],
   "source": [
    "string = 'http://api.sportradar.us/nfl-t1/2015/REG/1/MIN/SF/injuries.json?api_key=jdmq6nfne2a7ucg6g5jkvsz7'\n",
    "answer = requests.get(string)\n",
    "test  = answer.json()\n"
   ]
  },
  {
   "cell_type": "code",
   "execution_count": 88,
   "metadata": {
    "collapsed": false
   },
   "outputs": [
    {
     "data": {
      "text/plain": [
       "[u'scheduled', u'status', u'home_team', u'away_team', u'id']"
      ]
     },
     "execution_count": 88,
     "metadata": {},
     "output_type": "execute_result"
    }
   ],
   "source": [
    "test.keys()"
   ]
  },
  {
   "cell_type": "code",
   "execution_count": 89,
   "metadata": {
    "collapsed": false
   },
   "outputs": [
    {
     "data": {
      "text/plain": [
       "{u'id': u'SF',\n",
       " u'market': u'San Francisco',\n",
       " u'name': u'49ers',\n",
       " u'players': [{u'id': u'688f7a3b-4d66-4fcf-802d-6a3cb133ea30',\n",
       "   u'injuries': [{u'description': u'Hamstring',\n",
       "     u'game_status': u'PRO',\n",
       "     u'id': u'9e1d4887-0be4-4650-bb24-e223f15e70c0',\n",
       "     u'practice_status': u'Limited Participation',\n",
       "     u'start_date': u'2015-09-11T00:00:00+00:00'}],\n",
       "   u'jersey_number': 26,\n",
       "   u'name_abbr': u'T.Brock',\n",
       "   u'name_full': u'Tramaine Brock',\n",
       "   u'played': True,\n",
       "   u'position': u'CB',\n",
       "   u'started': True,\n",
       "   u'status': u'ACT'}]}"
      ]
     },
     "execution_count": 89,
     "metadata": {},
     "output_type": "execute_result"
    }
   ],
   "source": [
    "test['home_team']"
   ]
  },
  {
   "cell_type": "code",
   "execution_count": 90,
   "metadata": {
    "collapsed": true
   },
   "outputs": [],
   "source": [
    "injuries = pd.DataFrame(columns=['market', 'name', 'players', 'injuries', 'jersey_number', 'name_full', 'position', 'started', 'status'])"
   ]
  },
  {
   "cell_type": "code",
   "execution_count": 91,
   "metadata": {
    "collapsed": false
   },
   "outputs": [
    {
     "data": {
      "text/html": [
       "<div>\n",
       "<table border=\"1\" class=\"dataframe\">\n",
       "  <thead>\n",
       "    <tr style=\"text-align: right;\">\n",
       "      <th></th>\n",
       "      <th>market</th>\n",
       "      <th>name</th>\n",
       "      <th>players</th>\n",
       "      <th>injuries</th>\n",
       "      <th>jersey_number</th>\n",
       "      <th>name_full</th>\n",
       "      <th>position</th>\n",
       "      <th>started</th>\n",
       "      <th>status</th>\n",
       "    </tr>\n",
       "  </thead>\n",
       "  <tbody>\n",
       "  </tbody>\n",
       "</table>\n",
       "</div>"
      ],
      "text/plain": [
       "Empty DataFrame\n",
       "Columns: [market, name, players, injuries, jersey_number, name_full, position, started, status]\n",
       "Index: []"
      ]
     },
     "execution_count": 91,
     "metadata": {},
     "output_type": "execute_result"
    }
   ],
   "source": [
    "injuries.head()"
   ]
  },
  {
   "cell_type": "code",
   "execution_count": 92,
   "metadata": {
    "collapsed": false
   },
   "outputs": [
    {
     "data": {
      "text/html": [
       "<div>\n",
       "<table border=\"1\" class=\"dataframe\">\n",
       "  <thead>\n",
       "    <tr style=\"text-align: right;\">\n",
       "      <th></th>\n",
       "      <th>market</th>\n",
       "      <th>name</th>\n",
       "      <th>players</th>\n",
       "      <th>injuries</th>\n",
       "      <th>jersey_number</th>\n",
       "      <th>name_full</th>\n",
       "      <th>position</th>\n",
       "      <th>started</th>\n",
       "      <th>status</th>\n",
       "      <th>id</th>\n",
       "    </tr>\n",
       "  </thead>\n",
       "  <tbody>\n",
       "    <tr>\n",
       "      <th>0</th>\n",
       "      <td>San Francisco</td>\n",
       "      <td>49ers</td>\n",
       "      <td>[{u'status': u'ACT', u'name_abbr': u'T.Brock',...</td>\n",
       "      <td>NaN</td>\n",
       "      <td>NaN</td>\n",
       "      <td>NaN</td>\n",
       "      <td>NaN</td>\n",
       "      <td>NaN</td>\n",
       "      <td>NaN</td>\n",
       "      <td>SF</td>\n",
       "    </tr>\n",
       "  </tbody>\n",
       "</table>\n",
       "</div>"
      ],
      "text/plain": [
       "          market   name                                            players  \\\n",
       "0  San Francisco  49ers  [{u'status': u'ACT', u'name_abbr': u'T.Brock',...   \n",
       "\n",
       "  injuries jersey_number name_full position started status  id  \n",
       "0      NaN           NaN       NaN      NaN     NaN    NaN  SF  "
      ]
     },
     "execution_count": 92,
     "metadata": {},
     "output_type": "execute_result"
    }
   ],
   "source": [
    "injuries.append(test['home_team'], ignore_index='True')"
   ]
  },
  {
   "cell_type": "code",
   "execution_count": 122,
   "metadata": {
    "collapsed": false
   },
   "outputs": [
    {
     "data": {
      "text/plain": [
       "[{u'description': u'Hamstring',\n",
       "  u'game_status': u'PRO',\n",
       "  u'id': u'9e1d4887-0be4-4650-bb24-e223f15e70c0',\n",
       "  u'practice_status': u'Limited Participation',\n",
       "  u'start_date': u'2015-09-11T00:00:00+00:00'}]"
      ]
     },
     "execution_count": 122,
     "metadata": {},
     "output_type": "execute_result"
    }
   ],
   "source": [
    "test['home_team']['players'][0]['injuries']"
   ]
  },
  {
   "cell_type": "code",
   "execution_count": 129,
   "metadata": {
    "collapsed": false
   },
   "outputs": [
    {
     "data": {
      "text/plain": [
       "<enumerate at 0x108f85af0>"
      ]
     },
     "execution_count": 129,
     "metadata": {},
     "output_type": "execute_result"
    }
   ],
   "source": [
    "d = test.iterkeys()\n",
    "test.keys()\n",
    "enumerate(test.keys())"
   ]
  },
  {
   "cell_type": "code",
   "execution_count": 132,
   "metadata": {
    "collapsed": false
   },
   "outputs": [
    {
     "data": {
      "text/plain": [
       "unicode"
      ]
     },
     "execution_count": 132,
     "metadata": {},
     "output_type": "execute_result"
    }
   ],
   "source": []
  },
  {
   "cell_type": "code",
   "execution_count": 125,
   "metadata": {
    "collapsed": false
   },
   "outputs": [
    {
     "data": {
      "text/plain": [
       "u'status'"
      ]
     },
     "execution_count": 125,
     "metadata": {},
     "output_type": "execute_result"
    }
   ],
   "source": [
    "d.next()"
   ]
  },
  {
   "cell_type": "code",
   "execution_count": 131,
   "metadata": {
    "collapsed": false
   },
   "outputs": [
    {
     "ename": "IndentationError",
     "evalue": "expected an indented block (<ipython-input-131-84b92122e52a>, line 4)",
     "output_type": "error",
     "traceback": [
      "\u001b[0;36m  File \u001b[0;32m\"<ipython-input-131-84b92122e52a>\"\u001b[0;36m, line \u001b[0;32m4\u001b[0m\n\u001b[0;31m    \u001b[0m\n\u001b[0m    ^\u001b[0m\n\u001b[0;31mIndentationError\u001b[0m\u001b[0;31m:\u001b[0m expected an indented block\n"
     ]
    }
   ],
   "source": [
    "def flatten_injuries(dict_in, df):\n",
    "    for key in dict_in.keys():\n",
    "        print key\n",
    "        \n",
    "        \n",
    "    "
   ]
  },
  {
   "cell_type": "code",
   "execution_count": 136,
   "metadata": {
    "collapsed": false
   },
   "outputs": [
    {
     "data": {
      "text/plain": [
       "u'718a4f52-c6af-4080-b955-95e8769b68a7'"
      ]
     },
     "execution_count": 136,
     "metadata": {},
     "output_type": "execute_result"
    }
   ],
   "source": [
    "test.get('id')"
   ]
  },
  {
   "cell_type": "code",
   "execution_count": 138,
   "metadata": {
    "collapsed": false
   },
   "outputs": [],
   "source": [
    "string = 'http://api.sportradar.us/nfl-t1/2015/REG/5/WAS/ATL/injuries.json?api_key=jdmq6nfne2a7ucg6g5jkvsz7'\n",
    "answer = requests.get(string)\n",
    "test  = answer.json()"
   ]
  },
  {
   "cell_type": "code",
   "execution_count": 139,
   "metadata": {
    "collapsed": false
   },
   "outputs": [
    {
     "data": {
      "text/plain": [
       "{u'away_team': {u'id': u'WAS',\n",
       "  u'market': u'Washington',\n",
       "  u'name': u'Redskins',\n",
       "  u'players': [{u'id': u'a25f92e6-6e67-4463-a32f-77976807b3d8',\n",
       "    u'injuries': [{u'description': u'Hip',\n",
       "      u'game_status': u'PRO',\n",
       "      u'id': u'e4728cba-062a-4068-9165-fbefbb9890ef',\n",
       "      u'practice_status': u'Full Participation',\n",
       "      u'start_date': u'2015-10-07T00:00:00+00:00'}],\n",
       "    u'jersey_number': 91,\n",
       "    u'name_abbr': u'R.Kerrigan',\n",
       "    u'name_full': u'Ryan Kerrigan',\n",
       "    u'played': True,\n",
       "    u'position': u'OLB',\n",
       "    u'started': True,\n",
       "    u'status': u'ACT'},\n",
       "   {u'id': u'7f7b2a5a-be4e-40d1-9cd0-9a7dd225a8c0',\n",
       "    u'injuries': [{u'description': u'Finger',\n",
       "      u'game_status': u'PRO',\n",
       "      u'id': u'c410e324-d5fb-469b-af7d-e5752c5bc20b',\n",
       "      u'practice_status': u'Full Participation',\n",
       "      u'start_date': u'2015-09-21T00:00:00+00:00'}],\n",
       "    u'jersey_number': 78,\n",
       "    u'name_abbr': u'K.Lichtensteiger',\n",
       "    u'name_full': u'Kory Lichtensteiger',\n",
       "    u'played': True,\n",
       "    u'position': u'C',\n",
       "    u'started': True,\n",
       "    u'status': u'ACT'},\n",
       "   {u'id': u'c3bf8d3e-3b2e-4f9e-ad74-c0a684035f17',\n",
       "    u'injuries': [{u'description': u'Concussion/Knee/Ankle',\n",
       "      u'game_status': u'OUT',\n",
       "      u'id': u'1c078ba7-5028-4092-987c-3f5ecbfd74bb',\n",
       "      u'practice_status': u'Did Not Participate',\n",
       "      u'start_date': u'2015-10-07T00:00:00+00:00'}],\n",
       "    u'jersey_number': 86,\n",
       "    u'name_abbr': u'J.Reed',\n",
       "    u'name_full': u'Jordan Reed',\n",
       "    u'played': False,\n",
       "    u'position': u'TE',\n",
       "    u'started': False,\n",
       "    u'status': u'ACT'},\n",
       "   {u'id': u'5d98bad5-1730-4095-825d-3ff8d10d1116',\n",
       "    u'injuries': [{u'description': u'Hip',\n",
       "      u'game_status': u'PRO',\n",
       "      u'id': u'6d1c0d9c-7c1d-491d-8549-f9463d785200',\n",
       "      u'practice_status': u'Full Participation',\n",
       "      u'start_date': u'2015-10-07T00:00:00+00:00'}],\n",
       "    u'jersey_number': 93,\n",
       "    u'name_abbr': u'T.Murphy',\n",
       "    u'name_full': u'Trent Murphy',\n",
       "    u'played': True,\n",
       "    u'position': u'OLB',\n",
       "    u'started': True,\n",
       "    u'status': u'ACT'},\n",
       "   {u'id': u'a824d9ff-12a4-4ed2-812d-404b0b4e52f9',\n",
       "    u'injuries': [{u'description': u'Knee',\n",
       "      u'game_status': u'PRO',\n",
       "      u'id': u'55561078-a429-4b17-b71f-7ecaf74cc7ac',\n",
       "      u'practice_status': u'Full Participation',\n",
       "      u'start_date': u'2015-10-07T00:00:00+00:00'}],\n",
       "    u'jersey_number': 88,\n",
       "    u'name_abbr': u'P.Garcon',\n",
       "    u'name_full': u'Pierre Garcon',\n",
       "    u'played': True,\n",
       "    u'position': u'WR',\n",
       "    u'started': True,\n",
       "    u'status': u'ACT'},\n",
       "   {u'id': u'8d079fe0-46d4-41d8-878b-98141320bcfc',\n",
       "    u'injuries': [{u'description': u'Hand',\n",
       "      u'game_status': u'PRO',\n",
       "      u'id': u'39cb3e75-336e-4701-9a14-bc437859ae67',\n",
       "      u'practice_status': u'Full Participation',\n",
       "      u'start_date': u'2015-09-30T00:00:00+00:00'}],\n",
       "    u'jersey_number': 64,\n",
       "    u'name_abbr': u'K.Golston',\n",
       "    u'name_full': u'Kedric Golston',\n",
       "    u'played': True,\n",
       "    u'position': u'NT',\n",
       "    u'started': False,\n",
       "    u'status': u'ACT'},\n",
       "   {u'id': u'e461d721-5ca5-4896-8fe5-12e452a003b3',\n",
       "    u'injuries': [{u'description': u'Calf',\n",
       "      u'game_status': u'PRO',\n",
       "      u'id': u'556ec108-4018-4145-9a66-82b9f995055a',\n",
       "      u'practice_status': u'Full Participation',\n",
       "      u'start_date': u'2015-09-30T00:00:00+00:00'}],\n",
       "    u'jersey_number': 67,\n",
       "    u'name_abbr': u'J.LeRibeus',\n",
       "    u'name_full': u'Josh LeRibeus',\n",
       "    u'played': True,\n",
       "    u'position': u'OG',\n",
       "    u'started': False,\n",
       "    u'status': u'ACT'},\n",
       "   {u'id': u'3e618eb6-41f2-4f20-ad70-2460f9366f43',\n",
       "    u'injuries': [{u'description': u'Hamstring',\n",
       "      u'game_status': u'OUT',\n",
       "      u'id': u'62f091dd-2496-443f-a846-d93df9f02254',\n",
       "      u'practice_status': u'Did Not Participate',\n",
       "      u'start_date': u'2015-09-16T00:00:00+00:00'}],\n",
       "    u'jersey_number': 11,\n",
       "    u'name_abbr': u'D.Jackson',\n",
       "    u'name_full': u'DeSean Jackson',\n",
       "    u'played': False,\n",
       "    u'position': u'WR',\n",
       "    u'started': False,\n",
       "    u'status': u'ACT'},\n",
       "   {u'id': u'5d03f256-0569-4908-a0bf-5f95325c8be3',\n",
       "    u'injuries': [{u'description': u'Ankle',\n",
       "      u'game_status': u'PRO',\n",
       "      u'id': u'b23b60e2-6dec-4d2e-bf14-d979b18546ef',\n",
       "      u'practice_status': u'Full Participation',\n",
       "      u'start_date': u'2015-10-07T00:00:00+00:00'}],\n",
       "    u'jersey_number': 61,\n",
       "    u'name_abbr': u'S.Long',\n",
       "    u'name_full': u'Spencer Long',\n",
       "    u'played': True,\n",
       "    u'position': u'OG',\n",
       "    u'started': True,\n",
       "    u'status': u'ACT'},\n",
       "   {u'id': u'0c68f083-c3a0-433f-931e-d8216dc3fcd4',\n",
       "    u'injuries': [{u'description': u'Knee',\n",
       "      u'game_status': u'OUT',\n",
       "      u'id': u'39259dab-a131-4323-97fa-69821e80b4c2',\n",
       "      u'practice_status': u'Did Not Participate',\n",
       "      u'start_date': u'2015-09-30T00:00:00+00:00'}],\n",
       "    u'jersey_number': 29,\n",
       "    u'name_abbr': u'C.Culliver',\n",
       "    u'name_full': u'Chris Culliver',\n",
       "    u'played': False,\n",
       "    u'position': u'CB',\n",
       "    u'started': False,\n",
       "    u'status': u'ACT'},\n",
       "   {u'id': u'5f7dbabc-4a86-45f5-9983-eea57e7ccb38',\n",
       "    u'injuries': [{u'description': u'Toe',\n",
       "      u'game_status': u'OUT',\n",
       "      u'id': u'ec3dead7-4c06-4d32-8b40-b8d02f127ddd',\n",
       "      u'practice_status': u'Did Not Participate',\n",
       "      u'start_date': u'2015-09-21T00:00:00+00:00'}],\n",
       "    u'jersey_number': 23,\n",
       "    u'name_abbr': u'D.Hall',\n",
       "    u'name_full': u'DeAngelo Hall',\n",
       "    u'played': False,\n",
       "    u'position': u'CB',\n",
       "    u'started': False,\n",
       "    u'status': u'ACT'},\n",
       "   {u'id': u'5726ab42-606e-4139-9f2a-d677a858dbdb',\n",
       "    u'injuries': [{u'description': u'Calf',\n",
       "      u'game_status': u'QST',\n",
       "      u'id': u'db192582-52ea-4509-bc75-7fa35524e70f',\n",
       "      u'practice_status': u'Limited Participation',\n",
       "      u'start_date': u'2015-09-21T00:00:00+00:00'}],\n",
       "    u'jersey_number': 56,\n",
       "    u'name_abbr': u'P.Riley',\n",
       "    u'name_full': u'Perry Riley',\n",
       "    u'played': True,\n",
       "    u'position': u'MLB',\n",
       "    u'started': True,\n",
       "    u'status': u'ACT'}]},\n",
       " u'home_team': {u'id': u'ATL',\n",
       "  u'market': u'Atlanta',\n",
       "  u'name': u'Falcons',\n",
       "  u'players': [{u'id': u'51e470b5-73ea-49b2-ae83-c26256a30812',\n",
       "    u'injuries': [{u'description': u'Non-Injury Related',\n",
       "      u'game_status': u'PRO',\n",
       "      u'id': u'34207c9a-2445-4ee8-b55f-086b4e5875cd',\n",
       "      u'practice_status': u'Full Participation',\n",
       "      u'start_date': u'2015-10-07T00:00:00+00:00'}],\n",
       "    u'jersey_number': 84,\n",
       "    u'name_abbr': u'R.White',\n",
       "    u'name_full': u'Roddy White',\n",
       "    u'played': True,\n",
       "    u'position': u'WR',\n",
       "    u'started': True,\n",
       "    u'status': u'ACT'},\n",
       "   {u'id': u'e89bed19-f222-41b6-9b85-cc6cccddcd5b',\n",
       "    u'injuries': [{u'description': u'Concussion',\n",
       "      u'game_status': u'PRO',\n",
       "      u'id': u'f351a1fb-7a76-4a32-9cdf-ea7de1f25517',\n",
       "      u'practice_status': u'Full Participation',\n",
       "      u'start_date': u'2015-09-30T00:00:00+00:00'}],\n",
       "    u'jersey_number': 83,\n",
       "    u'name_abbr': u'J.Tamme',\n",
       "    u'name_full': u'Jacob Tamme',\n",
       "    u'played': True,\n",
       "    u'position': u'TE',\n",
       "    u'started': True,\n",
       "    u'status': u'ACT'},\n",
       "   {u'id': u'4ba33131-8214-45bf-9ce1-5ac08f1b68c5',\n",
       "    u'injuries': [{u'description': u'Knee',\n",
       "      u'game_status': u'PRO',\n",
       "      u'id': u'5aca85a8-1608-4f0f-bbb7-09807558e882',\n",
       "      u'practice_status': u'Full Participation',\n",
       "      u'start_date': u'2015-09-30T00:00:00+00:00'}],\n",
       "    u'jersey_number': 37,\n",
       "    u'name_abbr': u'R.Allen',\n",
       "    u'name_full': u'Ricardo Allen',\n",
       "    u'played': True,\n",
       "    u'position': u'CB',\n",
       "    u'started': True,\n",
       "    u'status': u'ACT'},\n",
       "   {u'id': u'b6782b61-89e1-4a9d-9ad1-7715eb6ff628',\n",
       "    u'injuries': [{u'description': u'Groin',\n",
       "      u'game_status': u'PRO',\n",
       "      u'id': u'625de9ef-49db-4185-b208-341fa584e7c3',\n",
       "      u'practice_status': u'Limited Participation',\n",
       "      u'start_date': u'2015-09-10T00:00:00+00:00'}],\n",
       "    u'jersey_number': 56,\n",
       "    u'name_abbr': u'B.Reed',\n",
       "    u'name_full': u'Brooks Reed',\n",
       "    u'played': True,\n",
       "    u'position': u'OLB',\n",
       "    u'started': False,\n",
       "    u'status': u'ACT'},\n",
       "   {u'id': u'ec0aad33-17bb-4689-92ab-847a3f28cd5c',\n",
       "    u'injuries': [{u'description': u'Elbow',\n",
       "      u'game_status': u'OUT',\n",
       "      u'id': u'40dde184-3455-4dfd-b83b-f5b07dfbc203',\n",
       "      u'practice_status': u'Did Not Participate',\n",
       "      u'start_date': u'2015-10-07T00:00:00+00:00'}],\n",
       "    u'jersey_number': 52,\n",
       "    u'name_abbr': u'J.Durant',\n",
       "    u'name_full': u'Justin Durant',\n",
       "    u'played': False,\n",
       "    u'position': u'OLB',\n",
       "    u'started': False,\n",
       "    u'status': u'ACT'},\n",
       "   {u'id': u'0b3217b9-ba37-4222-95cb-a7a222441e8b',\n",
       "    u'injuries': [{u'description': u'Toe/Hamstring',\n",
       "      u'game_status': u'QST',\n",
       "      u'id': u'd33af5a6-bb5e-4340-aa8c-bf671abe7455',\n",
       "      u'practice_status': u'Limited Participation',\n",
       "      u'start_date': u'2015-09-16T00:00:00+00:00'}],\n",
       "    u'jersey_number': 11,\n",
       "    u'name_abbr': u'J.Jones',\n",
       "    u'name_full': u'Julio Jones',\n",
       "    u'played': True,\n",
       "    u'position': u'WR',\n",
       "    u'started': True,\n",
       "    u'status': u'ACT'},\n",
       "   {u'id': u'7877c393-beb4-4f40-a6c5-d864ca6e5172',\n",
       "    u'injuries': [{u'description': u'Thumb',\n",
       "      u'game_status': u'PRO',\n",
       "      u'id': u'29e1da9b-39b3-4e23-91b2-383ff6143333',\n",
       "      u'practice_status': u'Full Participation',\n",
       "      u'start_date': u'2015-10-07T00:00:00+00:00'}],\n",
       "    u'jersey_number': 85,\n",
       "    u'name_abbr': u'L.Hankerson',\n",
       "    u'name_full': u'Leonard Hankerson',\n",
       "    u'played': True,\n",
       "    u'position': u'WR',\n",
       "    u'started': False,\n",
       "    u'status': u'ACT'},\n",
       "   {u'id': u'5827b78b-5150-4ba9-bc46-902428e99a31',\n",
       "    u'injuries': [{u'description': u'Ribs',\n",
       "      u'game_status': u'PRO',\n",
       "      u'id': u'a6c635dd-8268-478a-a66c-9ce3202de4cb',\n",
       "      u'practice_status': u'Full Participation',\n",
       "      u'start_date': u'2015-09-23T00:00:00+00:00'}],\n",
       "    u'jersey_number': 26,\n",
       "    u'name_abbr': u'T.Coleman',\n",
       "    u'name_full': u'Tevin Coleman',\n",
       "    u'played': True,\n",
       "    u'position': u'RB',\n",
       "    u'started': False,\n",
       "    u'status': u'ACT'}]},\n",
       " u'id': u'9ac3a334-dbf6-4d34-acbf-720f029c818f',\n",
       " u'scheduled': u'2015-10-11T17:00:00+00:00',\n",
       " u'status': u'closed'}"
      ]
     },
     "execution_count": 139,
     "metadata": {},
     "output_type": "execute_result"
    }
   ],
   "source": [
    "test"
   ]
  },
  {
   "cell_type": "code",
   "execution_count": 213,
   "metadata": {
    "collapsed": false
   },
   "outputs": [],
   "source": [
    "i=1\n",
    "\n",
    "def flatten_injuries(dict_in):\n",
    "    for key1 in dict_in.keys():\n",
    "        print key1\n",
    "        if type(dict_in[key1]) == dict:\n",
    "            for key2 in dict_in[key1].keys():\n",
    "                print key2\n",
    "                if type(dict_in[key1][key2]) == list:\n",
    "                    for i in range(1,len(dict_in[key1][key2])):\n",
    "                        print dict_in[key1][key2][i]\n",
    "                        \n",
    "                                "
   ]
  },
  {
   "cell_type": "code",
   "execution_count": 212,
   "metadata": {
    "collapsed": false
   },
   "outputs": [
    {
     "name": "stdout",
     "output_type": "stream",
     "text": [
      "scheduled\n",
      "status\n",
      "home_team\n",
      "players\n",
      "{u'status': u'ACT', u'name_abbr': u'J.Tamme', u'played': True, u'started': True, u'name_full': u'Jacob Tamme', u'jersey_number': 83, u'position': u'TE', u'injuries': [{u'game_status': u'PRO', u'description': u'Concussion', u'practice_status': u'Full Participation', u'id': u'f351a1fb-7a76-4a32-9cdf-ea7de1f25517', u'start_date': u'2015-09-30T00:00:00+00:00'}], u'id': u'e89bed19-f222-41b6-9b85-cc6cccddcd5b'}\n",
      "{u'status': u'ACT', u'name_abbr': u'R.Allen', u'played': True, u'started': True, u'name_full': u'Ricardo Allen', u'jersey_number': 37, u'position': u'CB', u'injuries': [{u'game_status': u'PRO', u'description': u'Knee', u'practice_status': u'Full Participation', u'id': u'5aca85a8-1608-4f0f-bbb7-09807558e882', u'start_date': u'2015-09-30T00:00:00+00:00'}], u'id': u'4ba33131-8214-45bf-9ce1-5ac08f1b68c5'}\n",
      "{u'status': u'ACT', u'name_abbr': u'B.Reed', u'played': True, u'started': False, u'name_full': u'Brooks Reed', u'jersey_number': 56, u'position': u'OLB', u'injuries': [{u'game_status': u'PRO', u'description': u'Groin', u'practice_status': u'Limited Participation', u'id': u'625de9ef-49db-4185-b208-341fa584e7c3', u'start_date': u'2015-09-10T00:00:00+00:00'}], u'id': u'b6782b61-89e1-4a9d-9ad1-7715eb6ff628'}\n",
      "{u'status': u'ACT', u'name_abbr': u'J.Durant', u'played': False, u'started': False, u'name_full': u'Justin Durant', u'jersey_number': 52, u'position': u'OLB', u'injuries': [{u'game_status': u'OUT', u'description': u'Elbow', u'practice_status': u'Did Not Participate', u'id': u'40dde184-3455-4dfd-b83b-f5b07dfbc203', u'start_date': u'2015-10-07T00:00:00+00:00'}], u'id': u'ec0aad33-17bb-4689-92ab-847a3f28cd5c'}\n",
      "{u'status': u'ACT', u'name_abbr': u'J.Jones', u'played': True, u'started': True, u'name_full': u'Julio Jones', u'jersey_number': 11, u'position': u'WR', u'injuries': [{u'game_status': u'QST', u'description': u'Toe/Hamstring', u'practice_status': u'Limited Participation', u'id': u'd33af5a6-bb5e-4340-aa8c-bf671abe7455', u'start_date': u'2015-09-16T00:00:00+00:00'}], u'id': u'0b3217b9-ba37-4222-95cb-a7a222441e8b'}\n",
      "{u'status': u'ACT', u'name_abbr': u'L.Hankerson', u'played': True, u'started': False, u'name_full': u'Leonard Hankerson', u'jersey_number': 85, u'position': u'WR', u'injuries': [{u'game_status': u'PRO', u'description': u'Thumb', u'practice_status': u'Full Participation', u'id': u'29e1da9b-39b3-4e23-91b2-383ff6143333', u'start_date': u'2015-10-07T00:00:00+00:00'}], u'id': u'7877c393-beb4-4f40-a6c5-d864ca6e5172'}\n",
      "{u'status': u'ACT', u'name_abbr': u'T.Coleman', u'played': True, u'started': False, u'name_full': u'Tevin Coleman', u'jersey_number': 26, u'position': u'RB', u'injuries': [{u'game_status': u'PRO', u'description': u'Ribs', u'practice_status': u'Full Participation', u'id': u'a6c635dd-8268-478a-a66c-9ce3202de4cb', u'start_date': u'2015-09-23T00:00:00+00:00'}], u'id': u'5827b78b-5150-4ba9-bc46-902428e99a31'}\n",
      "id\n",
      "market\n",
      "name\n",
      "away_team\n",
      "players\n",
      "{u'status': u'ACT', u'name_abbr': u'K.Lichtensteiger', u'played': True, u'started': True, u'name_full': u'Kory Lichtensteiger', u'jersey_number': 78, u'position': u'C', u'injuries': [{u'game_status': u'PRO', u'description': u'Finger', u'practice_status': u'Full Participation', u'id': u'c410e324-d5fb-469b-af7d-e5752c5bc20b', u'start_date': u'2015-09-21T00:00:00+00:00'}], u'id': u'7f7b2a5a-be4e-40d1-9cd0-9a7dd225a8c0'}\n",
      "{u'status': u'ACT', u'name_abbr': u'J.Reed', u'played': False, u'started': False, u'name_full': u'Jordan Reed', u'jersey_number': 86, u'position': u'TE', u'injuries': [{u'game_status': u'OUT', u'description': u'Concussion/Knee/Ankle', u'practice_status': u'Did Not Participate', u'id': u'1c078ba7-5028-4092-987c-3f5ecbfd74bb', u'start_date': u'2015-10-07T00:00:00+00:00'}], u'id': u'c3bf8d3e-3b2e-4f9e-ad74-c0a684035f17'}\n",
      "{u'status': u'ACT', u'name_abbr': u'T.Murphy', u'played': True, u'started': True, u'name_full': u'Trent Murphy', u'jersey_number': 93, u'position': u'OLB', u'injuries': [{u'game_status': u'PRO', u'description': u'Hip', u'practice_status': u'Full Participation', u'id': u'6d1c0d9c-7c1d-491d-8549-f9463d785200', u'start_date': u'2015-10-07T00:00:00+00:00'}], u'id': u'5d98bad5-1730-4095-825d-3ff8d10d1116'}\n",
      "{u'status': u'ACT', u'name_abbr': u'P.Garcon', u'played': True, u'started': True, u'name_full': u'Pierre Garcon', u'jersey_number': 88, u'position': u'WR', u'injuries': [{u'game_status': u'PRO', u'description': u'Knee', u'practice_status': u'Full Participation', u'id': u'55561078-a429-4b17-b71f-7ecaf74cc7ac', u'start_date': u'2015-10-07T00:00:00+00:00'}], u'id': u'a824d9ff-12a4-4ed2-812d-404b0b4e52f9'}\n",
      "{u'status': u'ACT', u'name_abbr': u'K.Golston', u'played': True, u'started': False, u'name_full': u'Kedric Golston', u'jersey_number': 64, u'position': u'NT', u'injuries': [{u'game_status': u'PRO', u'description': u'Hand', u'practice_status': u'Full Participation', u'id': u'39cb3e75-336e-4701-9a14-bc437859ae67', u'start_date': u'2015-09-30T00:00:00+00:00'}], u'id': u'8d079fe0-46d4-41d8-878b-98141320bcfc'}\n",
      "{u'status': u'ACT', u'name_abbr': u'J.LeRibeus', u'played': True, u'started': False, u'name_full': u'Josh LeRibeus', u'jersey_number': 67, u'position': u'OG', u'injuries': [{u'game_status': u'PRO', u'description': u'Calf', u'practice_status': u'Full Participation', u'id': u'556ec108-4018-4145-9a66-82b9f995055a', u'start_date': u'2015-09-30T00:00:00+00:00'}], u'id': u'e461d721-5ca5-4896-8fe5-12e452a003b3'}\n",
      "{u'status': u'ACT', u'name_abbr': u'D.Jackson', u'played': False, u'started': False, u'name_full': u'DeSean Jackson', u'jersey_number': 11, u'position': u'WR', u'injuries': [{u'game_status': u'OUT', u'description': u'Hamstring', u'practice_status': u'Did Not Participate', u'id': u'62f091dd-2496-443f-a846-d93df9f02254', u'start_date': u'2015-09-16T00:00:00+00:00'}], u'id': u'3e618eb6-41f2-4f20-ad70-2460f9366f43'}\n",
      "{u'status': u'ACT', u'name_abbr': u'S.Long', u'played': True, u'started': True, u'name_full': u'Spencer Long', u'jersey_number': 61, u'position': u'OG', u'injuries': [{u'game_status': u'PRO', u'description': u'Ankle', u'practice_status': u'Full Participation', u'id': u'b23b60e2-6dec-4d2e-bf14-d979b18546ef', u'start_date': u'2015-10-07T00:00:00+00:00'}], u'id': u'5d03f256-0569-4908-a0bf-5f95325c8be3'}\n",
      "{u'status': u'ACT', u'name_abbr': u'C.Culliver', u'played': False, u'started': False, u'name_full': u'Chris Culliver', u'jersey_number': 29, u'position': u'CB', u'injuries': [{u'game_status': u'OUT', u'description': u'Knee', u'practice_status': u'Did Not Participate', u'id': u'39259dab-a131-4323-97fa-69821e80b4c2', u'start_date': u'2015-09-30T00:00:00+00:00'}], u'id': u'0c68f083-c3a0-433f-931e-d8216dc3fcd4'}\n",
      "{u'status': u'ACT', u'name_abbr': u'D.Hall', u'played': False, u'started': False, u'name_full': u'DeAngelo Hall', u'jersey_number': 23, u'position': u'CB', u'injuries': [{u'game_status': u'OUT', u'description': u'Toe', u'practice_status': u'Did Not Participate', u'id': u'ec3dead7-4c06-4d32-8b40-b8d02f127ddd', u'start_date': u'2015-09-21T00:00:00+00:00'}], u'id': u'5f7dbabc-4a86-45f5-9983-eea57e7ccb38'}\n",
      "{u'status': u'ACT', u'name_abbr': u'P.Riley', u'played': True, u'started': True, u'name_full': u'Perry Riley', u'jersey_number': 56, u'position': u'MLB', u'injuries': [{u'game_status': u'QST', u'description': u'Calf', u'practice_status': u'Limited Participation', u'id': u'db192582-52ea-4509-bc75-7fa35524e70f', u'start_date': u'2015-09-21T00:00:00+00:00'}], u'id': u'5726ab42-606e-4139-9f2a-d677a858dbdb'}\n",
      "id\n",
      "market\n",
      "name\n",
      "id\n"
     ]
    }
   ],
   "source": [
    "flatten_injuries(test)"
   ]
  },
  {
   "cell_type": "code",
   "execution_count": 281,
   "metadata": {
    "collapsed": false
   },
   "outputs": [],
   "source": [
    "i=1\n",
    "\n",
    "injuries_df = pd.DataFrame(columns=names)\n",
    "\n",
    "def flatten_injuries(dict_in, df):\n",
    "    for key1 in dict_in.keys():\n",
    "        #print key1\n",
    "        if type(dict_in[key1]) == dict:\n",
    "            for key2 in dict_in[key1].keys():\n",
    "                #print key2\n",
    "                if type(dict_in[key1][key2]) == list:\n",
    "                    for i in range(0,len(dict_in[key1][key2])):\n",
    "                        #print dict_in[key1][key2][i]\n",
    "                        df.append(dict_in[key1][key2][i], ignore_index=True)\n",
    "    return df"
   ]
  },
  {
   "cell_type": "code",
   "execution_count": 282,
   "metadata": {
    "collapsed": false
   },
   "outputs": [
    {
     "data": {
      "text/html": [
       "<div>\n",
       "<table border=\"1\" class=\"dataframe\">\n",
       "  <thead>\n",
       "    <tr style=\"text-align: right;\">\n",
       "      <th></th>\n",
       "      <th>status</th>\n",
       "      <th>name_abbr</th>\n",
       "      <th>played</th>\n",
       "      <th>started</th>\n",
       "      <th>name_full</th>\n",
       "      <th>jersey_number</th>\n",
       "      <th>position</th>\n",
       "      <th>injuries</th>\n",
       "      <th>id</th>\n",
       "    </tr>\n",
       "  </thead>\n",
       "  <tbody>\n",
       "  </tbody>\n",
       "</table>\n",
       "</div>"
      ],
      "text/plain": [
       "Empty DataFrame\n",
       "Columns: [status, name_abbr, played, started, name_full, jersey_number, position, injuries, id]\n",
       "Index: []"
      ]
     },
     "execution_count": 282,
     "metadata": {},
     "output_type": "execute_result"
    }
   ],
   "source": [
    "flatten_injuries(test, injuries_df)"
   ]
  },
  {
   "cell_type": "code",
   "execution_count": 291,
   "metadata": {
    "collapsed": false
   },
   "outputs": [
    {
     "data": {
      "text/html": [
       "<div>\n",
       "<table border=\"1\" class=\"dataframe\">\n",
       "  <thead>\n",
       "    <tr style=\"text-align: right;\">\n",
       "      <th></th>\n",
       "      <th>status</th>\n",
       "      <th>name_abbr</th>\n",
       "      <th>played</th>\n",
       "      <th>started</th>\n",
       "      <th>name_full</th>\n",
       "      <th>jersey_number</th>\n",
       "      <th>position</th>\n",
       "      <th>injuries</th>\n",
       "      <th>id</th>\n",
       "    </tr>\n",
       "  </thead>\n",
       "  <tbody>\n",
       "    <tr>\n",
       "      <th>0</th>\n",
       "      <td>ACT</td>\n",
       "      <td>B.Reed</td>\n",
       "      <td>True</td>\n",
       "      <td>False</td>\n",
       "      <td>Brooks Reed</td>\n",
       "      <td>56</td>\n",
       "      <td>OLB</td>\n",
       "      <td>[{u'game_status': u'PRO', u'description': u'Gr...</td>\n",
       "      <td>b6782b61-89e1-4a9d-9ad1-7715eb6ff628</td>\n",
       "    </tr>\n",
       "  </tbody>\n",
       "</table>\n",
       "</div>"
      ],
      "text/plain": [
       "  status name_abbr played started    name_full  jersey_number position  \\\n",
       "0    ACT    B.Reed   True   False  Brooks Reed             56      OLB   \n",
       "\n",
       "                                            injuries  \\\n",
       "0  [{u'game_status': u'PRO', u'description': u'Gr...   \n",
       "\n",
       "                                     id  \n",
       "0  b6782b61-89e1-4a9d-9ad1-7715eb6ff628  "
      ]
     },
     "execution_count": 291,
     "metadata": {},
     "output_type": "execute_result"
    }
   ],
   "source": [
    "injuries_df.append(test['home_team']['players'][3], ignore_index='True')"
   ]
  },
  {
   "cell_type": "code",
   "execution_count": 297,
   "metadata": {
    "collapsed": false
   },
   "outputs": [
    {
     "data": {
      "text/html": [
       "<div>\n",
       "<table border=\"1\" class=\"dataframe\">\n",
       "  <thead>\n",
       "    <tr style=\"text-align: right;\">\n",
       "      <th></th>\n",
       "      <th>status</th>\n",
       "      <th>name_abbr</th>\n",
       "      <th>played</th>\n",
       "      <th>started</th>\n",
       "      <th>name_full</th>\n",
       "      <th>jersey_number</th>\n",
       "      <th>position</th>\n",
       "      <th>injuries</th>\n",
       "      <th>id</th>\n",
       "    </tr>\n",
       "  </thead>\n",
       "  <tbody>\n",
       "  </tbody>\n",
       "</table>\n",
       "</div>"
      ],
      "text/plain": [
       "Empty DataFrame\n",
       "Columns: [status, name_abbr, played, started, name_full, jersey_number, position, injuries, id]\n",
       "Index: []"
      ]
     },
     "execution_count": 297,
     "metadata": {},
     "output_type": "execute_result"
    }
   ],
   "source": [
    "for i in range(0,2):\n",
    "    injuries_df.append(test['home_team']['players'][i], ignore_index=True)\n",
    "injuries_df.append"
   ]
  },
  {
   "cell_type": "code",
   "execution_count": 305,
   "metadata": {
    "collapsed": false
   },
   "outputs": [
    {
     "ename": "TypeError",
     "evalue": "Can only append a Series if ignore_index=True or if the Series has a name",
     "output_type": "error",
     "traceback": [
      "\u001b[0;31m---------------------------------------------------------------------------\u001b[0m",
      "\u001b[0;31mTypeError\u001b[0m                                 Traceback (most recent call last)",
      "\u001b[0;32m<ipython-input-305-8927a1f582b8>\u001b[0m in \u001b[0;36m<module>\u001b[0;34m()\u001b[0m\n\u001b[1;32m      1\u001b[0m \u001b[0mtype\u001b[0m\u001b[0;34m(\u001b[0m\u001b[0minjuries_df\u001b[0m\u001b[0;34m)\u001b[0m\u001b[0;34m\u001b[0m\u001b[0m\n\u001b[1;32m      2\u001b[0m \u001b[0minjuries_df\u001b[0m\u001b[0;34m.\u001b[0m\u001b[0mhead\u001b[0m\u001b[0;34m(\u001b[0m\u001b[0;34m)\u001b[0m\u001b[0;34m\u001b[0m\u001b[0m\n\u001b[0;32m----> 3\u001b[0;31m \u001b[0minjuries_df\u001b[0m\u001b[0;34m.\u001b[0m\u001b[0mappend\u001b[0m\u001b[0;34m(\u001b[0m\u001b[0mtest\u001b[0m\u001b[0;34m[\u001b[0m\u001b[0;34m'home_team'\u001b[0m\u001b[0;34m]\u001b[0m\u001b[0;34m[\u001b[0m\u001b[0;34m'players'\u001b[0m\u001b[0;34m]\u001b[0m\u001b[0;34m[\u001b[0m\u001b[0;36m3\u001b[0m\u001b[0;34m]\u001b[0m\u001b[0;34m)\u001b[0m\u001b[0;34m\u001b[0m\u001b[0m\n\u001b[0m\u001b[1;32m      4\u001b[0m \u001b[0;32mprint\u001b[0m \u001b[0minjuries_df\u001b[0m\u001b[0;34m\u001b[0m\u001b[0m\n",
      "\u001b[0;32m/Users/ericalonas/anaconda/lib/python2.7/site-packages/pandas/core/frame.pyc\u001b[0m in \u001b[0;36mappend\u001b[0;34m(self, other, ignore_index, verify_integrity)\u001b[0m\n\u001b[1;32m   3949\u001b[0m                 \u001b[0mother\u001b[0m \u001b[0;34m=\u001b[0m \u001b[0mSeries\u001b[0m\u001b[0;34m(\u001b[0m\u001b[0mother\u001b[0m\u001b[0;34m)\u001b[0m\u001b[0;34m\u001b[0m\u001b[0m\n\u001b[1;32m   3950\u001b[0m             \u001b[0;32mif\u001b[0m \u001b[0mother\u001b[0m\u001b[0;34m.\u001b[0m\u001b[0mname\u001b[0m \u001b[0;32mis\u001b[0m \u001b[0mNone\u001b[0m \u001b[0;32mand\u001b[0m \u001b[0;32mnot\u001b[0m \u001b[0mignore_index\u001b[0m\u001b[0;34m:\u001b[0m\u001b[0;34m\u001b[0m\u001b[0m\n\u001b[0;32m-> 3951\u001b[0;31m                 raise TypeError('Can only append a Series if ignore_index=True'\n\u001b[0m\u001b[1;32m   3952\u001b[0m                                 ' or if the Series has a name')\n\u001b[1;32m   3953\u001b[0m \u001b[0;34m\u001b[0m\u001b[0m\n",
      "\u001b[0;31mTypeError\u001b[0m: Can only append a Series if ignore_index=True or if the Series has a name"
     ]
    }
   ],
   "source": [
    "type(injuries_df)\n",
    "injuries_df.head()\n",
    "injuries_df.append(test['home_team']['players'][3])\n",
    "print injuries_df"
   ]
  },
  {
   "cell_type": "code",
   "execution_count": null,
   "metadata": {
    "collapsed": true
   },
   "outputs": [],
   "source": []
  }
 ],
 "metadata": {
  "kernelspec": {
   "display_name": "Python 2",
   "language": "python",
   "name": "python2"
  },
  "language_info": {
   "codemirror_mode": {
    "name": "ipython",
    "version": 2
   },
   "file_extension": ".py",
   "mimetype": "text/x-python",
   "name": "python",
   "nbconvert_exporter": "python",
   "pygments_lexer": "ipython2",
   "version": "2.7.10"
  }
 },
 "nbformat": 4,
 "nbformat_minor": 0
}
