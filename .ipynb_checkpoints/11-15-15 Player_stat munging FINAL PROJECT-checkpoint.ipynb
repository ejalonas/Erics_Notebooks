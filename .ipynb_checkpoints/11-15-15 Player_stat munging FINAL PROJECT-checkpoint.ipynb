{
 "cells": [
  {
   "cell_type": "code",
   "execution_count": 1,
   "metadata": {
    "collapsed": true
   },
   "outputs": [],
   "source": [
    "import pandas as pd\n",
    "import numpy as np\n",
    "import matplotlib.pyplot as plt\n",
    "%matplotlib inline\n",
    "import NFL_api\n",
    "import time\n",
    "import pickle"
   ]
  },
  {
   "cell_type": "code",
   "execution_count": 54,
   "metadata": {
    "collapsed": true
   },
   "outputs": [],
   "source": [
    "f= open('player_def_2014_1-17.pickle')\n",
    "player_stat = pickle.load(f)\n",
    "f.close()\n",
    "\n",
    "g=open('team_def_2014_1-17.pickle')\n",
    "team_stat = pickle.load(g)\n",
    "g.close()\n",
    "\n",
    "h=open('injuries_2014_1-17.pickle')\n",
    "injuries_df = pickle.load(h)\n",
    "h.close()"
   ]
  },
  {
   "cell_type": "code",
   "execution_count": 55,
   "metadata": {
    "collapsed": true
   },
   "outputs": [],
   "source": [
    "player_stat.reset_index(drop=True, inplace=True)"
   ]
  },
  {
   "cell_type": "code",
   "execution_count": 56,
   "metadata": {
    "collapsed": false
   },
   "outputs": [],
   "source": [
    "stat_list = []\n",
    "\n",
    "for i in player_stat.columns:\n",
    "    if (player_stat[i].dtype != object):\n",
    "        stat_list.append(i)\n",
    "\n"
   ]
  },
  {
   "cell_type": "code",
   "execution_count": 57,
   "metadata": {
    "collapsed": false
   },
   "outputs": [],
   "source": [
    "for i in player_stat.index:\n",
    "    name = player_stat.ix[i, 'name']\n",
    "    week = player_stat.ix[i, 'week_num']\n",
    "    if (len(injuries_df[(injuries_df['name_full']==name) & (injuries_df['week_num']==week+1)]) > 0):\n",
    "        player_stat.loc[i,'injured?']=1\n",
    "    else:\n",
    "        player_stat.loc[i,'injured?']=0"
   ]
  },
  {
   "cell_type": "code",
   "execution_count": 58,
   "metadata": {
    "collapsed": false
   },
   "outputs": [],
   "source": [
    "grouped = player_stat.groupby(['name'])\n",
    "f=lambda x: pd.rolling_mean(x,3)\n",
    "\n",
    "for stat in stat_list:\n",
    "    player_stat = player_stat.join(grouped[stat].transform(np.cumsum), how='outer', rsuffix='_cum')\n",
    "    player_stat= player_stat.join(grouped[stat].transform(f).fillna(0), how='outer', rsuffix='_ravg')"
   ]
  },
  {
   "cell_type": "code",
   "execution_count": 59,
   "metadata": {
    "collapsed": false
   },
   "outputs": [],
   "source": [
    "f = open('player_def_2014_1-17_MUNGED.pickle', 'wb')\n",
    "pickle.dump(player_stat, f)\n",
    "f.close()"
   ]
  },
  {
   "cell_type": "code",
   "execution_count": null,
   "metadata": {
    "collapsed": true
   },
   "outputs": [],
   "source": []
  }
 ],
 "metadata": {
  "kernelspec": {
   "display_name": "Python 2",
   "language": "python",
   "name": "python2"
  },
  "language_info": {
   "codemirror_mode": {
    "name": "ipython",
    "version": 2
   },
   "file_extension": ".py",
   "mimetype": "text/x-python",
   "name": "python",
   "nbconvert_exporter": "python",
   "pygments_lexer": "ipython2",
   "version": "2.7.10"
  }
 },
 "nbformat": 4,
 "nbformat_minor": 0
}
