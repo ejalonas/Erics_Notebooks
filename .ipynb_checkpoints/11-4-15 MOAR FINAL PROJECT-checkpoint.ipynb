{
 "cells": [
  {
   "cell_type": "code",
   "execution_count": 3,
   "metadata": {
    "collapsed": true
   },
   "outputs": [],
   "source": [
    "import pandas as pd\n",
    "import numpy as np\n",
    "import matplotlib.pyplot as plt\n",
    "%matplotlib inline\n",
    "import NFL_api\n",
    "import time\n",
    "import pickle"
   ]
  },
  {
   "cell_type": "code",
   "execution_count": 4,
   "metadata": {
    "collapsed": true
   },
   "outputs": [],
   "source": [
    "f= open('player_def_2015_1-4.pickle')\n",
    "player_stat = pickle.load(f)\n",
    "f.close()\n",
    "\n",
    "g=open('team_def_2015_1-4.pickle')\n",
    "team_stat = pickle.load(g)\n",
    "g.close()\n",
    "\n",
    "h=open('injuries_2015_1-4.pickle')\n",
    "injuries_df = pickle.load(h)\n",
    "h.close()"
   ]
  },
  {
   "cell_type": "code",
   "execution_count": 5,
   "metadata": {
    "collapsed": false
   },
   "outputs": [
    {
     "data": {
      "text/html": [
       "<div>\n",
       "<table border=\"1\" class=\"dataframe\">\n",
       "  <thead>\n",
       "    <tr style=\"text-align: right;\">\n",
       "      <th></th>\n",
       "      <th>game_id</th>\n",
       "      <th>scheduled</th>\n",
       "      <th>ast</th>\n",
       "      <th>bk</th>\n",
       "      <th>comb</th>\n",
       "      <th>force_fum</th>\n",
       "      <th>fum_rec</th>\n",
       "      <th>fum_td</th>\n",
       "      <th>id</th>\n",
       "      <th>int</th>\n",
       "      <th>...</th>\n",
       "      <th>sfty</th>\n",
       "      <th>sfty_1pt</th>\n",
       "      <th>sp_ast</th>\n",
       "      <th>sp_comb</th>\n",
       "      <th>sp_force_fum</th>\n",
       "      <th>sp_fum_rec</th>\n",
       "      <th>sp_tackle</th>\n",
       "      <th>tackle</th>\n",
       "      <th>team_name</th>\n",
       "      <th>tlost</th>\n",
       "    </tr>\n",
       "  </thead>\n",
       "  <tbody>\n",
       "    <tr>\n",
       "      <th>0</th>\n",
       "      <td>acbb3001-6bb6-41ce-9e91-942abd284e4c</td>\n",
       "      <td>2015-09-11T00:30:00+00:00</td>\n",
       "      <td>1</td>\n",
       "      <td>0</td>\n",
       "      <td>1</td>\n",
       "      <td>0</td>\n",
       "      <td>0</td>\n",
       "      <td>0</td>\n",
       "      <td>fc909404-fec3-40af-b8e8-22ffcb48a456</td>\n",
       "      <td>0</td>\n",
       "      <td>...</td>\n",
       "      <td>0</td>\n",
       "      <td>0</td>\n",
       "      <td>0</td>\n",
       "      <td>0</td>\n",
       "      <td>0</td>\n",
       "      <td>0</td>\n",
       "      <td>0</td>\n",
       "      <td>0</td>\n",
       "      <td>Patriots</td>\n",
       "      <td>0</td>\n",
       "    </tr>\n",
       "    <tr>\n",
       "      <th>1</th>\n",
       "      <td>acbb3001-6bb6-41ce-9e91-942abd284e4c</td>\n",
       "      <td>2015-09-11T00:30:00+00:00</td>\n",
       "      <td>0</td>\n",
       "      <td>0</td>\n",
       "      <td>0</td>\n",
       "      <td>0</td>\n",
       "      <td>0</td>\n",
       "      <td>0</td>\n",
       "      <td>93927d6e-9271-4c1e-8239-cc20fd788ba9</td>\n",
       "      <td>0</td>\n",
       "      <td>...</td>\n",
       "      <td>0</td>\n",
       "      <td>0</td>\n",
       "      <td>0</td>\n",
       "      <td>1</td>\n",
       "      <td>0</td>\n",
       "      <td>0</td>\n",
       "      <td>1</td>\n",
       "      <td>0</td>\n",
       "      <td>Patriots</td>\n",
       "      <td>0</td>\n",
       "    </tr>\n",
       "    <tr>\n",
       "      <th>2</th>\n",
       "      <td>acbb3001-6bb6-41ce-9e91-942abd284e4c</td>\n",
       "      <td>2015-09-11T00:30:00+00:00</td>\n",
       "      <td>0</td>\n",
       "      <td>0</td>\n",
       "      <td>2</td>\n",
       "      <td>0</td>\n",
       "      <td>0</td>\n",
       "      <td>0</td>\n",
       "      <td>eb02d9d3-87a1-4e50-9809-094946c73c46</td>\n",
       "      <td>0</td>\n",
       "      <td>...</td>\n",
       "      <td>0</td>\n",
       "      <td>0</td>\n",
       "      <td>0</td>\n",
       "      <td>0</td>\n",
       "      <td>0</td>\n",
       "      <td>0</td>\n",
       "      <td>0</td>\n",
       "      <td>2</td>\n",
       "      <td>Patriots</td>\n",
       "      <td>0</td>\n",
       "    </tr>\n",
       "    <tr>\n",
       "      <th>3</th>\n",
       "      <td>acbb3001-6bb6-41ce-9e91-942abd284e4c</td>\n",
       "      <td>2015-09-11T00:30:00+00:00</td>\n",
       "      <td>0</td>\n",
       "      <td>0</td>\n",
       "      <td>0</td>\n",
       "      <td>0</td>\n",
       "      <td>0</td>\n",
       "      <td>0</td>\n",
       "      <td>9d404288-65c5-414f-8ea5-ceb97eccaea0</td>\n",
       "      <td>0</td>\n",
       "      <td>...</td>\n",
       "      <td>0</td>\n",
       "      <td>0</td>\n",
       "      <td>0</td>\n",
       "      <td>1</td>\n",
       "      <td>0</td>\n",
       "      <td>0</td>\n",
       "      <td>1</td>\n",
       "      <td>0</td>\n",
       "      <td>Patriots</td>\n",
       "      <td>0</td>\n",
       "    </tr>\n",
       "    <tr>\n",
       "      <th>4</th>\n",
       "      <td>acbb3001-6bb6-41ce-9e91-942abd284e4c</td>\n",
       "      <td>2015-09-11T00:30:00+00:00</td>\n",
       "      <td>0</td>\n",
       "      <td>0</td>\n",
       "      <td>0</td>\n",
       "      <td>0</td>\n",
       "      <td>0</td>\n",
       "      <td>0</td>\n",
       "      <td>c3315876-1a17-4c6e-b024-07db4489e016</td>\n",
       "      <td>0</td>\n",
       "      <td>...</td>\n",
       "      <td>0</td>\n",
       "      <td>0</td>\n",
       "      <td>1</td>\n",
       "      <td>1</td>\n",
       "      <td>0</td>\n",
       "      <td>0</td>\n",
       "      <td>0</td>\n",
       "      <td>0</td>\n",
       "      <td>Patriots</td>\n",
       "      <td>0</td>\n",
       "    </tr>\n",
       "  </tbody>\n",
       "</table>\n",
       "<p>5 rows × 36 columns</p>\n",
       "</div>"
      ],
      "text/plain": [
       "                                game_id                  scheduled  ast  bk  \\\n",
       "0  acbb3001-6bb6-41ce-9e91-942abd284e4c  2015-09-11T00:30:00+00:00    1   0   \n",
       "1  acbb3001-6bb6-41ce-9e91-942abd284e4c  2015-09-11T00:30:00+00:00    0   0   \n",
       "2  acbb3001-6bb6-41ce-9e91-942abd284e4c  2015-09-11T00:30:00+00:00    0   0   \n",
       "3  acbb3001-6bb6-41ce-9e91-942abd284e4c  2015-09-11T00:30:00+00:00    0   0   \n",
       "4  acbb3001-6bb6-41ce-9e91-942abd284e4c  2015-09-11T00:30:00+00:00    0   0   \n",
       "\n",
       "   comb  force_fum  fum_rec  fum_td                                    id  \\\n",
       "0     1          0        0       0  fc909404-fec3-40af-b8e8-22ffcb48a456   \n",
       "1     0          0        0       0  93927d6e-9271-4c1e-8239-cc20fd788ba9   \n",
       "2     2          0        0       0  eb02d9d3-87a1-4e50-9809-094946c73c46   \n",
       "3     0          0        0       0  9d404288-65c5-414f-8ea5-ceb97eccaea0   \n",
       "4     0          0        0       0  c3315876-1a17-4c6e-b024-07db4489e016   \n",
       "\n",
       "   int  ...    sfty  sfty_1pt  sp_ast  sp_comb sp_force_fum  sp_fum_rec  \\\n",
       "0    0  ...       0         0       0        0            0           0   \n",
       "1    0  ...       0         0       0        1            0           0   \n",
       "2    0  ...       0         0       0        0            0           0   \n",
       "3    0  ...       0         0       0        1            0           0   \n",
       "4    0  ...       0         0       1        1            0           0   \n",
       "\n",
       "   sp_tackle  tackle  team_name  tlost  \n",
       "0          0       0   Patriots      0  \n",
       "1          1       0   Patriots      0  \n",
       "2          0       2   Patriots      0  \n",
       "3          1       0   Patriots      0  \n",
       "4          0       0   Patriots      0  \n",
       "\n",
       "[5 rows x 36 columns]"
      ]
     },
     "execution_count": 5,
     "metadata": {},
     "output_type": "execute_result"
    }
   ],
   "source": [
    "player_stat.head()"
   ]
  },
  {
   "cell_type": "code",
   "execution_count": 31,
   "metadata": {
    "collapsed": false
   },
   "outputs": [
    {
     "data": {
      "text/plain": [
       "array([u'Hamstring', u'Concussion', u'Quad', u'Knee', u'Head', u'Calf',\n",
       "       u'Hip', u'Ribs', u'Neck', u'Achilles', u'Toe', u'Should', u'Back',\n",
       "       u'Jaw', u'Rib', u'Right Elbow', u'Abdominal', u'Groin', u'Thumb',\n",
       "       u'Ankle', u'Hip Flexor', u'Illness', u'Shoulder', u'Hand',\n",
       "       u'Abdomen', u'Finger', u'Foot', u'Thigh', u'Not Injury Related',\n",
       "       u'Lower Back', u'Forearm', u'Elbow', u'Rib Cage', u'NIR',\n",
       "       u'Undisclosed', u'Quadricep', u'Ankle/Toe', u'Arm', u'Rest',\n",
       "       u'Wrist/Knee', u'Calf/Hamstring', u'Eye', u'Quadriceps', u'Biceps',\n",
       "       u'Goin', u'Not Inury-Related', u'Knee/Elbow', u'Not Injury-Related',\n",
       "       u'Chest', u'Ankle/Knee', u'Non-Injury Related', u'Elbow/Concussion',\n",
       "       u'Buttocks', u'Non-Injury', u'Not injury related', u'Thigh/Toe',\n",
       "       u'Back/Hip', u'Right Hip', u'Wrist', u'Lower Leg', u'Low Back',\n",
       "       u'Knee/Quad', u'Tibia', u'Right Shoulder', u'Leg',\n",
       "       u'Concussion/Shoulder', u'Left Knee', u'Toe/Hamstring',\n",
       "       u'Ankle/Chest', u'Right Hand', u'Ribs/Finger', u'Concussion/Neck'], dtype=object)"
      ]
     },
     "execution_count": 31,
     "metadata": {},
     "output_type": "execute_result"
    }
   ],
   "source": [
    "injuries_df.description.unique()"
   ]
  },
  {
   "cell_type": "code",
   "execution_count": 30,
   "metadata": {
    "collapsed": false
   },
   "outputs": [
    {
     "data": {
      "text/plain": [
       "<matplotlib.axes._subplots.AxesSubplot at 0x1080b4ed0>"
      ]
     },
     "execution_count": 30,
     "metadata": {},
     "output_type": "execute_result"
    },
    {
     "data": {
      "image/png": "[encoded data removed]",
      "text/plain": [
       "<matplotlib.figure.Figure at 0x108061050>"
      ]
     },
     "metadata": {},
     "output_type": "display_data"
    }
   ],
   "source": [
    "from collections import Counter\n",
    "string_counts = Counter(injuries_df.position)\n",
    "ans = pd.DataFrame.from_dict(string_counts, orient='index')\n",
    "ans.plot(kind='bar')"
   ]
  },
  {
   "cell_type": "code",
   "execution_count": null,
   "metadata": {
    "collapsed": false
   },
   "outputs": [],
   "source": []
  },
  {
   "cell_type": "code",
   "execution_count": null,
   "metadata": {
    "collapsed": true
   },
   "outputs": [],
   "source": []
  }
 ],
 "metadata": {
  "kernelspec": {
   "display_name": "Python 2",
   "language": "python",
   "name": "python2"
  },
  "language_info": {
   "codemirror_mode": {
    "name": "ipython",
    "version": 2
   },
   "file_extension": ".py",
   "mimetype": "text/x-python",
   "name": "python",
   "nbconvert_exporter": "python",
   "pygments_lexer": "ipython2",
   "version": "2.7.10"
  }
 },
 "nbformat": 4,
 "nbformat_minor": 0
}
