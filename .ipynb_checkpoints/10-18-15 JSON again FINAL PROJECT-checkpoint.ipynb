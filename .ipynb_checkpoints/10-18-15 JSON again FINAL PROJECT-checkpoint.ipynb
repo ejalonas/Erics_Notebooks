{
 "cells": [
  {
   "cell_type": "code",
   "execution_count": 1,
   "metadata": {
    "collapsed": true
   },
   "outputs": [],
   "source": [
    "import simplejson\n",
    "import requests\n",
    "import time\n",
    "import numpy as np\n",
    "import pandas as pd\n",
    "import json"
   ]
  },
  {
   "cell_type": "code",
   "execution_count": 2,
   "metadata": {
    "collapsed": false
   },
   "outputs": [
    {
     "data": {
      "text/plain": [
       "[u'scheduled', u'status', u'home_team', u'away_team', u'id']"
      ]
     },
     "execution_count": 2,
     "metadata": {},
     "output_type": "execute_result"
    }
   ],
   "source": [
    "string = 'http://api.sportradar.us/nfl-t1/2015/REG/5/WAS/ATL/injuries.json?api_key=jdmq6nfne2a7ucg6g5jkvsz7'\n",
    "answer = requests.get(string)\n",
    "test  = answer.json()\n",
    "test.keys()"
   ]
  },
  {
   "cell_type": "code",
   "execution_count": 3,
   "metadata": {
    "collapsed": false
   },
   "outputs": [],
   "source": [
    "i=0\n",
    "n=0\n",
    "\n",
    "def flatten_injuries(dict_in):\n",
    "    for key1 in dict_in.keys():\n",
    "        if (type(dict_in[key1]) == dict):\n",
    "            for key2 in dict_in[key1].keys():\n",
    "                #print key2\n",
    "                if (type(dict_in[key1][key2]) == list):\n",
    "                    for i in range(0,len(dict_in[key1][key2])):\n",
    "                        #print dict_in[key1][key2][i]\n",
    "                        #df_out = pd.DataFrame(dict_in[key1][key2][i])\n",
    "                        if (type(dict_in[key1][key2][i]) == dict):\n",
    "                            for key3 in dict_in[key1][key2][i].keys():\n",
    "                                #print key3\n",
    "                                if (type(dict_in[key1][key2][i][key3]) == list):\n",
    "                                    #print dict_in[key1][key2][i][key3]\n",
    "                                    for n in range(0,len(dict_in[key1][key2][i][key3])):\n",
    "                                        if (type(dict_in[key1][key2][i][key3][n]) == dict):\n",
    "                                            #print type(dict_in[key1][key2][i][key3][n])\n",
    "                                            df_out = pd.DataFrame(dict_in[key1][key2][i][key3])\n",
    "                                            \n",
    "    return df_out"
   ]
  },
  {
   "cell_type": "code",
   "execution_count": 4,
   "metadata": {
    "collapsed": false
   },
   "outputs": [],
   "source": [
    "df = flatten_injuries(test)"
   ]
  },
  {
   "cell_type": "code",
   "execution_count": 5,
   "metadata": {
    "collapsed": false
   },
   "outputs": [],
   "source": [
    "dict1 = test['home_team']['players'][0]['injuries'][0]"
   ]
  },
  {
   "cell_type": "code",
   "execution_count": 6,
   "metadata": {
    "collapsed": false
   },
   "outputs": [
    {
     "data": {
      "text/html": [
       "<div>\n",
       "<table border=\"1\" class=\"dataframe\">\n",
       "  <thead>\n",
       "    <tr style=\"text-align: right;\">\n",
       "      <th></th>\n",
       "      <th>description</th>\n",
       "      <th>game_status</th>\n",
       "      <th>id</th>\n",
       "      <th>practice_status</th>\n",
       "      <th>start_date</th>\n",
       "    </tr>\n",
       "  </thead>\n",
       "  <tbody>\n",
       "    <tr>\n",
       "      <th>0</th>\n",
       "      <td>Calf</td>\n",
       "      <td>QST</td>\n",
       "      <td>db192582-52ea-4509-bc75-7fa35524e70f</td>\n",
       "      <td>Limited Participation</td>\n",
       "      <td>2015-09-21T00:00:00+00:00</td>\n",
       "    </tr>\n",
       "  </tbody>\n",
       "</table>\n",
       "</div>"
      ],
      "text/plain": [
       "  description game_status                                    id  \\\n",
       "0        Calf         QST  db192582-52ea-4509-bc75-7fa35524e70f   \n",
       "\n",
       "         practice_status                 start_date  \n",
       "0  Limited Participation  2015-09-21T00:00:00+00:00  "
      ]
     },
     "execution_count": 6,
     "metadata": {},
     "output_type": "execute_result"
    }
   ],
   "source": [
    "df"
   ]
  },
  {
   "cell_type": "code",
   "execution_count": 7,
   "metadata": {
    "collapsed": false
   },
   "outputs": [],
   "source": [
    "dict2 = test['home_team']['players'][0]"
   ]
  },
  {
   "cell_type": "code",
   "execution_count": 8,
   "metadata": {
    "collapsed": true
   },
   "outputs": [],
   "source": [
    "del dict2['injuries']"
   ]
  },
  {
   "cell_type": "code",
   "execution_count": 9,
   "metadata": {
    "collapsed": false
   },
   "outputs": [],
   "source": [
    "row = dict(dict2, **dict1)"
   ]
  },
  {
   "cell_type": "code",
   "execution_count": 10,
   "metadata": {
    "collapsed": false
   },
   "outputs": [],
   "source": [
    "dict3 = test['home_team']"
   ]
  },
  {
   "cell_type": "code",
   "execution_count": 11,
   "metadata": {
    "collapsed": false
   },
   "outputs": [],
   "source": [
    "del dict3['players']"
   ]
  },
  {
   "cell_type": "code",
   "execution_count": 12,
   "metadata": {
    "collapsed": false
   },
   "outputs": [],
   "source": [
    "row = dict(dict3, **row)"
   ]
  },
  {
   "cell_type": "code",
   "execution_count": 13,
   "metadata": {
    "collapsed": false
   },
   "outputs": [
    {
     "data": {
      "text/plain": [
       "{u'description': u'Non-Injury Related',\n",
       " u'game_status': u'PRO',\n",
       " u'id': u'34207c9a-2445-4ee8-b55f-086b4e5875cd',\n",
       " u'jersey_number': 84,\n",
       " u'market': u'Atlanta',\n",
       " u'name': u'Falcons',\n",
       " u'name_abbr': u'R.White',\n",
       " u'name_full': u'Roddy White',\n",
       " u'played': True,\n",
       " u'position': u'WR',\n",
       " u'practice_status': u'Full Participation',\n",
       " u'start_date': u'2015-10-07T00:00:00+00:00',\n",
       " u'started': True,\n",
       " u'status': u'ACT'}"
      ]
     },
     "execution_count": 13,
     "metadata": {},
     "output_type": "execute_result"
    }
   ],
   "source": [
    "row"
   ]
  },
  {
   "cell_type": "code",
   "execution_count": 14,
   "metadata": {
    "collapsed": false
   },
   "outputs": [],
   "source": [
    "mylist = [row,row]"
   ]
  },
  {
   "cell_type": "code",
   "execution_count": 15,
   "metadata": {
    "collapsed": false
   },
   "outputs": [
    {
     "data": {
      "text/html": [
       "<div>\n",
       "<table border=\"1\" class=\"dataframe\">\n",
       "  <thead>\n",
       "    <tr style=\"text-align: right;\">\n",
       "      <th></th>\n",
       "      <th>description</th>\n",
       "      <th>game_status</th>\n",
       "      <th>id</th>\n",
       "      <th>jersey_number</th>\n",
       "      <th>market</th>\n",
       "      <th>name</th>\n",
       "      <th>name_abbr</th>\n",
       "      <th>name_full</th>\n",
       "      <th>played</th>\n",
       "      <th>position</th>\n",
       "      <th>practice_status</th>\n",
       "      <th>start_date</th>\n",
       "      <th>started</th>\n",
       "      <th>status</th>\n",
       "    </tr>\n",
       "  </thead>\n",
       "  <tbody>\n",
       "    <tr>\n",
       "      <th>0</th>\n",
       "      <td>Non-Injury Related</td>\n",
       "      <td>PRO</td>\n",
       "      <td>34207c9a-2445-4ee8-b55f-086b4e5875cd</td>\n",
       "      <td>84</td>\n",
       "      <td>Atlanta</td>\n",
       "      <td>Falcons</td>\n",
       "      <td>R.White</td>\n",
       "      <td>Roddy White</td>\n",
       "      <td>True</td>\n",
       "      <td>WR</td>\n",
       "      <td>Full Participation</td>\n",
       "      <td>2015-10-07T00:00:00+00:00</td>\n",
       "      <td>True</td>\n",
       "      <td>ACT</td>\n",
       "    </tr>\n",
       "    <tr>\n",
       "      <th>1</th>\n",
       "      <td>Non-Injury Related</td>\n",
       "      <td>PRO</td>\n",
       "      <td>34207c9a-2445-4ee8-b55f-086b4e5875cd</td>\n",
       "      <td>84</td>\n",
       "      <td>Atlanta</td>\n",
       "      <td>Falcons</td>\n",
       "      <td>R.White</td>\n",
       "      <td>Roddy White</td>\n",
       "      <td>True</td>\n",
       "      <td>WR</td>\n",
       "      <td>Full Participation</td>\n",
       "      <td>2015-10-07T00:00:00+00:00</td>\n",
       "      <td>True</td>\n",
       "      <td>ACT</td>\n",
       "    </tr>\n",
       "  </tbody>\n",
       "</table>\n",
       "</div>"
      ],
      "text/plain": [
       "          description game_status                                    id  \\\n",
       "0  Non-Injury Related         PRO  34207c9a-2445-4ee8-b55f-086b4e5875cd   \n",
       "1  Non-Injury Related         PRO  34207c9a-2445-4ee8-b55f-086b4e5875cd   \n",
       "\n",
       "   jersey_number   market     name name_abbr    name_full played position  \\\n",
       "0             84  Atlanta  Falcons   R.White  Roddy White   True       WR   \n",
       "1             84  Atlanta  Falcons   R.White  Roddy White   True       WR   \n",
       "\n",
       "      practice_status                 start_date started status  \n",
       "0  Full Participation  2015-10-07T00:00:00+00:00    True    ACT  \n",
       "1  Full Participation  2015-10-07T00:00:00+00:00    True    ACT  "
      ]
     },
     "execution_count": 15,
     "metadata": {},
     "output_type": "execute_result"
    }
   ],
   "source": [
    "pd.DataFrame(mylist)"
   ]
  },
  {
   "cell_type": "code",
   "execution_count": 24,
   "metadata": {
    "collapsed": true
   },
   "outputs": [],
   "source": [
    "i=0\n",
    "n=0\n",
    "m=0\n",
    "list_dicts = []\n",
    "\n",
    "def flatten_injuries(dict_in):\n",
    "    for key1 in dict_in.keys():\n",
    "        if (type(dict_in[key1]) == dict):\n",
    "            for key2 in dict_in[key1].keys():\n",
    "                #print key2\n",
    "                if (type(dict_in[key1][key2]) == list):\n",
    "                    for i in range(0,len(dict_in[key1][key2])):\n",
    "                        #print dict_in[key1][key2][i]\n",
    "                        #df_out = pd.DataFrame(dict_in[key1][key2][i])\n",
    "                        if (type(dict_in[key1][key2][i]) == dict):\n",
    "                            for key3 in dict_in[key1][key2][i].keys():\n",
    "                                #print key3\n",
    "                                if (type(dict_in[key1][key2][i][key3]) == list):\n",
    "                                    #print dict_in[key1][key2][i][key3]\n",
    "                                    for n in range(0,len(dict_in[key1][key2][i][key3])):\n",
    "                                        if (type(dict_in[key1][key2][i][key3][n]) == dict):\n",
    "                                            #print type(dict_in[key1][key2][i][key3][n])\n",
    "                                            dict1 = dict_in[key1][key2][i][key3][n]\n",
    "                                            dict2 = dict_in[key1][key2][i]\n",
    "                                            del dict2[key3]\n",
    "                                            row = dict(dict2, **dict1)\n",
    "                                            print row\n",
    "                                            dict3 = dict_in[key1]\n",
    "                                            del dict3[key2]\n",
    "                                            list_dicts[m] = dict(dict3, **row)\n",
    "                                            m += 1"
   ]
  },
  {
   "cell_type": "code",
   "execution_count": 25,
   "metadata": {
    "collapsed": false
   },
   "outputs": [],
   "source": [
    "flatten_injuries(test)"
   ]
  },
  {
   "cell_type": "code",
   "execution_count": 26,
   "metadata": {
    "collapsed": false
   },
   "outputs": [
    {
     "data": {
      "text/html": [
       "<div>\n",
       "<table border=\"1\" class=\"dataframe\">\n",
       "  <thead>\n",
       "    <tr style=\"text-align: right;\">\n",
       "      <th></th>\n",
       "    </tr>\n",
       "  </thead>\n",
       "  <tbody>\n",
       "  </tbody>\n",
       "</table>\n",
       "</div>"
      ],
      "text/plain": [
       "Empty DataFrame\n",
       "Columns: []\n",
       "Index: []"
      ]
     },
     "execution_count": 26,
     "metadata": {},
     "output_type": "execute_result"
    }
   ],
   "source": [
    "data"
   ]
  },
  {
   "cell_type": "code",
   "execution_count": 29,
   "metadata": {
    "collapsed": false
   },
   "outputs": [
    {
     "ename": "KeyError",
     "evalue": "'players'",
     "output_type": "error",
     "traceback": [
      "\u001b[0;31m---------------------------------------------------------------------------\u001b[0m",
      "\u001b[0;31mKeyError\u001b[0m                                  Traceback (most recent call last)",
      "\u001b[0;32m<ipython-input-29-31188d954fab>\u001b[0m in \u001b[0;36m<module>\u001b[0;34m()\u001b[0m\n\u001b[0;32m----> 1\u001b[0;31m \u001b[0mtest\u001b[0m\u001b[0;34m[\u001b[0m\u001b[0;34m'home_team'\u001b[0m\u001b[0;34m]\u001b[0m\u001b[0;34m[\u001b[0m\u001b[0;34m'players'\u001b[0m\u001b[0;34m]\u001b[0m\u001b[0;34m\u001b[0m\u001b[0m\n\u001b[0m",
      "\u001b[0;31mKeyError\u001b[0m: 'players'"
     ]
    }
   ],
   "source": [
    "test['home_team']['players']"
   ]
  },
  {
   "cell_type": "code",
   "execution_count": null,
   "metadata": {
    "collapsed": true
   },
   "outputs": [],
   "source": []
  }
 ],
 "metadata": {
  "kernelspec": {
   "display_name": "Python 2",
   "language": "python",
   "name": "python2"
  },
  "language_info": {
   "codemirror_mode": {
    "name": "ipython",
    "version": 2
   },
   "file_extension": ".py",
   "mimetype": "text/x-python",
   "name": "python",
   "nbconvert_exporter": "python",
   "pygments_lexer": "ipython2",
   "version": "2.7.10"
  }
 },
 "nbformat": 4,
 "nbformat_minor": 0
}
