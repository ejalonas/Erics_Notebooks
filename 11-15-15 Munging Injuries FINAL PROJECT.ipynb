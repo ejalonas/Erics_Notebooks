{
 "cells": [
  {
   "cell_type": "code",
   "execution_count": 34,
   "metadata": {
    "collapsed": true
   },
   "outputs": [],
   "source": [
    "import pandas as pd\n",
    "import numpy as np\n",
    "import matplotlib.pyplot as plt\n",
    "%matplotlib inline\n",
    "import NFL_api\n",
    "import time\n",
    "import pickle"
   ]
  },
  {
   "cell_type": "code",
   "execution_count": 28,
   "metadata": {
    "collapsed": true
   },
   "outputs": [],
   "source": [
    "h=open('injuries_2014_1-17.pickle')\n",
    "injuries_df = pickle.load(h)\n",
    "h.close()"
   ]
  },
  {
   "cell_type": "code",
   "execution_count": 31,
   "metadata": {
    "collapsed": false
   },
   "outputs": [],
   "source": [
    "inj_munged = injuries_df[(injuries_df.description != 'Not Injury Related') \n",
    "            & (injuries_df.description != 'NIR') \n",
    "           & (injuries_df.description != 'Illness')\n",
    "           & (injuries_df.description != 'Non-Injury Related')\n",
    "           & (injuries_df.description != 'Not-Injury Related')\n",
    "           & (injuries_df.description != 'Not injury-related')]"
   ]
  },
  {
   "cell_type": "code",
   "execution_count": 32,
   "metadata": {
    "collapsed": false
   },
   "outputs": [
    {
     "data": {
      "text/plain": [
       "Knee                    752\n",
       "Ankle                   666\n",
       "Hamstring               404\n",
       "Shoulder                332\n",
       "Groin                   232\n",
       "Foot                    208\n",
       "Back                    174\n",
       "Concussion              171\n",
       "Hip                     110\n",
       "Calf                    106\n",
       "Toe                      91\n",
       "Thigh                    82\n",
       "Hand                     75\n",
       "Neck                     64\n",
       "Elbow                    48\n",
       "Ribs                     47\n",
       "Wrist                    45\n",
       "Quad                     45\n",
       "Chest                    38\n",
       "Thumb                    34\n",
       "Finger                   32\n",
       "Quadricep                29\n",
       "Knee/Ankle               25\n",
       "Rest                     21\n",
       "Forearm                  20\n",
       "Ankle/Knee               18\n",
       "Quadriceps               14\n",
       "Rib                      13\n",
       "Abdomen                  11\n",
       "Abdomen/Groin            10\n",
       "                       ... \n",
       "Teeth                     1\n",
       "Calf/Knee                 1\n",
       "Ankle/Right Shoulder      1\n",
       "Knee, Ankle               1\n",
       "Groin/Illness             1\n",
       "Chest/Back                1\n",
       "ankle                     1\n",
       "Undisclosed               1\n",
       "Knee/Achilles             1\n",
       "Thigh/Finger              1\n",
       "Shoulder/Elbow            1\n",
       "Glute/Wrist               1\n",
       "Finger/Ankle              1\n",
       "Back/Shoulder             1\n",
       "Quadricep/Knee            1\n",
       "Foot/Neck                 1\n",
       "Illness/Shoulder          1\n",
       "Achilles, Ankle           1\n",
       "Calf/Personal             1\n",
       "Rest/Shoulder             1\n",
       "Knee/Neck                 1\n",
       "Right Elbow               1\n",
       "Concussion/Stinger        1\n",
       "Ankle/Toe                 1\n",
       "Feet                      1\n",
       "Elbow/Rest                1\n",
       "Should                    1\n",
       "Back/Finger               1\n",
       "Knee/Hip                  1\n",
       "hamstring                 1\n",
       "dtype: int64"
      ]
     },
     "execution_count": 32,
     "metadata": {},
     "output_type": "execute_result"
    }
   ],
   "source": [
    "inj_munged.reset_index(drop=True, inplace=True)\n",
    "inj_munged.description.value_counts()\n",
    "\n"
   ]
  },
  {
   "cell_type": "code",
   "execution_count": 33,
   "metadata": {
    "collapsed": false
   },
   "outputs": [],
   "source": [
    "h = open('injuries_2014_1-17_MUNGED.pickle', 'wb')\n",
    "pickle.dump(inj_munged, h)\n",
    "h.close()"
   ]
  },
  {
   "cell_type": "code",
   "execution_count": null,
   "metadata": {
    "collapsed": true
   },
   "outputs": [],
   "source": []
  }
 ],
 "metadata": {
  "kernelspec": {
   "display_name": "Python 2",
   "language": "python",
   "name": "python2"
  },
  "language_info": {
   "codemirror_mode": {
    "name": "ipython",
    "version": 2
   },
   "file_extension": ".py",
   "mimetype": "text/x-python",
   "name": "python",
   "nbconvert_exporter": "python",
   "pygments_lexer": "ipython2",
   "version": "2.7.10"
  }
 },
 "nbformat": 4,
 "nbformat_minor": 0
}
