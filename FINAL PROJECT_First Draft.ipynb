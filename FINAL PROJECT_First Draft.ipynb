{
 "cells": [
  {
   "cell_type": "markdown",
   "metadata": {},
   "source": [
    "# Summary"
   ]
  },
  {
   "cell_type": "markdown",
   "metadata": {},
   "source": [
    "The goal of this project was to predict the likelihood of injury for a given player in the NFL. The injuries per game, player statistics per game, and team statistics per game data were gathered from the Sportsradar US API. After importing deconding the JSON objects, the data was assembled into dataframes and the dependent variables (outputs) were added to the player stats dataframe. The data was first modeled using a logistics regression."
   ]
  },
  {
   "cell_type": "markdown",
   "metadata": {
    "collapsed": true
   },
   "source": [
    "# Importing the Data"
   ]
  },
  {
   "cell_type": "markdown",
   "metadata": {},
   "source": [
    "A series of functions was written to call the API and unwrap the nested dictionaries from the JSON responses.\n",
    "\n",
    "This code is written for importing only the defense statics only, other statistics will be imported and modeled later (ran out of API calls for given timeperiod)."
   ]
  },
  {
   "cell_type": "code",
   "execution_count": 1,
   "metadata": {
    "collapsed": true
   },
   "outputs": [],
   "source": [
    "import pandas as pd\n",
    "import numpy as np\n",
    "import matplotlib.pyplot as plt\n",
    "%matplotlib inline\n",
    "import NFL_api\n",
    "import time\n",
    "import pickle"
   ]
  },
  {
   "cell_type": "code",
   "execution_count": 3,
   "metadata": {
    "collapsed": true
   },
   "outputs": [],
   "source": [
    "\n",
    "\n",
    "season_type = 'REG'\n",
    "year = 2015\n",
    "weeks = [1, 2, 3, 4, 5, 6, 7, 8]\n",
    "injuries_df = pd.DataFrame()\n",
    "stat_keys = ['defense']\n",
    "player_stat = pd.DataFrame()\n",
    "team_stat = pd.DataFrame()\n",
    "\n",
    "for i in weeks:\n",
    "    sched = NFL_api.api_get_weekly_schedule(year, season_type, i)\n",
    "    sched = NFL_api.flatten_schedule(sched)\n",
    "    time.sleep(1)\n",
    "    \n",
    "    \n",
    "    for n in range(0,len(sched)):\n",
    "        home_team = sched.ix[n]['home']\n",
    "        away_team = sched.ix[n]['away']\n",
    "        injuries = NFL_api.api_get_injuries(year, season_type, i, away_team, home_team)\n",
    "        injuries = NFL_api.flatten_injuries(injuries)\n",
    "        injuries['week_num']=i\n",
    "        injuries['year_num']=year\n",
    "        injuries_df = injuries_df.append(injuries)\n",
    "        time.sleep(1)\n",
    "        \n",
    "        for m in stat_keys:\n",
    "            stat = NFL_api.api_get_stats(year, season_type, i, away_team, home_team)\n",
    "            player, team = NFL_api.flatten_game_stats(stat, m)\n",
    "            time.sleep(1)\n",
    "            player['week_num']=i\n",
    "            team['week_num']=i\n",
    "            player['year_num']=year\n",
    "            team['year_num']=year\n",
    "            player_stat = player_stat.append(player)\n",
    "            team_stat = team_stat.append(team)\n",
    "\n",
    "f = open('player_def_2015_1-8.pickle', 'wb')\n",
    "pickle.dump(player_stat, f)\n",
    "f.close()\n",
    "\n",
    "g = open('team_def_2015_1-8.pickle', 'wb')\n",
    "pickle.dump(team_stat, g)\n",
    "g.close()\n",
    "\n",
    "h = open('injuries_2015_1-8.pickle', 'wb')\n",
    "pickle.dump(injuries_df, h)\n",
    "h.close()"
   ]
  },
  {
   "cell_type": "markdown",
   "metadata": {},
   "source": [
    "# Adding a dependent variable to be modeled"
   ]
  },
  {
   "cell_type": "markdown",
   "metadata": {},
   "source": [
    "This code was written to combine the saved player statistics with the injury data. Initially tried just using True/False declaration of injury as the dependent variable, but working on a more intelligent way to go about this."
   ]
  },
  {
   "cell_type": "code",
   "execution_count": 2,
   "metadata": {
    "collapsed": true
   },
   "outputs": [],
   "source": [
    "f= open('player_def_2015_1-4.pickle')\n",
    "player_stat = pickle.load(f)\n",
    "f.close()\n",
    "\n",
    "g=open('team_def_2015_1-4.pickle')\n",
    "team_stat = pickle.load(g)\n",
    "g.close()\n",
    "\n",
    "h=open('injuries_2015_1-4.pickle')\n",
    "injuries_df = pickle.load(h)\n",
    "h.close()"
   ]
  },
  {
   "cell_type": "markdown",
   "metadata": {},
   "source": [
    "The current player stats consist of 2515 entries for weeks 1-4 of the 2015 season. There are 36 possible features for the defense."
   ]
  },
  {
   "cell_type": "code",
   "execution_count": 3,
   "metadata": {
    "collapsed": false
   },
   "outputs": [
    {
     "data": {
      "text/plain": [
       "Index([       u'game_id',      u'scheduled',            u'ast',\n",
       "                   u'bk',           u'comb',      u'force_fum',\n",
       "              u'fum_rec',         u'fum_td',             u'id',\n",
       "                  u'int',         u'int_lg',         u'int_td',\n",
       "              u'int_yds',         u'jersey',         u'market',\n",
       "             u'misc_ast',      u'misc_comb', u'misc_force_fum',\n",
       "         u'misc_fum_rec',    u'misc_tackle',           u'name',\n",
       "                   u'pd',       u'position',             u'qh',\n",
       "                 u'sack',       u'sack_yds',           u'sfty',\n",
       "             u'sfty_1pt',         u'sp_ast',        u'sp_comb',\n",
       "         u'sp_force_fum',     u'sp_fum_rec',      u'sp_tackle',\n",
       "               u'tackle',      u'team_name',          u'tlost'],\n",
       "      dtype='object')"
      ]
     },
     "execution_count": 3,
     "metadata": {},
     "output_type": "execute_result"
    }
   ],
   "source": [
    "player_stat.keys()"
   ]
  },
  {
   "cell_type": "markdown",
   "metadata": {},
   "source": [
    "To create a simple dependent variable to try to model, the code simply asks the question whether or not a player's name is in the injury dataset."
   ]
  },
  {
   "cell_type": "code",
   "execution_count": 8,
   "metadata": {
    "collapsed": true
   },
   "outputs": [],
   "source": [
    "injured = player_stat['name'].isin(injuries_df['name_full'])"
   ]
  },
  {
   "cell_type": "markdown",
   "metadata": {},
   "source": [
    "# Modeling the data"
   ]
  },
  {
   "cell_type": "markdown",
   "metadata": {},
   "source": [
    "The first attempt to model the data was using a logisitic regression on the number of tackles and sacks by a player"
   ]
  },
  {
   "cell_type": "code",
   "execution_count": 10,
   "metadata": {
    "collapsed": true
   },
   "outputs": [],
   "source": [
    "from sklearn import linear_model\n",
    "from sklearn import cross_validation"
   ]
  },
  {
   "cell_type": "code",
   "execution_count": 14,
   "metadata": {
    "collapsed": false
   },
   "outputs": [
    {
     "name": "stdout",
     "output_type": "stream",
     "text": [
      "The accuracy of the classifier is: 0.675944\n"
     ]
    }
   ],
   "source": [
    "x_train, x_test, y_train, y_test = cross_validation.train_test_split(player_stat[['tackle', 'sack']], injured, train_size = 0.8, random_state=1)\n",
    "\n",
    "rgr = linear_model.LogisticRegression()\n",
    "rgr.fit(x_train, y_train)\n",
    "print \"The accuracy of the classifier is: %f\" %rgr.score(x_test, y_test)"
   ]
  },
  {
   "cell_type": "markdown",
   "metadata": {},
   "source": [
    "# Conclusions"
   ]
  },
  {
   "cell_type": "markdown",
   "metadata": {},
   "source": [
    "* The classifier as it stands is not bad\n",
    "* However, need to consider if I am using the correct dependent variable\n",
    "* Also need to add more data for the offense, previous seasons, etc.\n",
    "* Will also try more sophisticated models, more features, etc."
   ]
  },
  {
   "cell_type": "code",
   "execution_count": null,
   "metadata": {
    "collapsed": true
   },
   "outputs": [],
   "source": []
  }
 ],
 "metadata": {
  "kernelspec": {
   "display_name": "Python 2",
   "language": "python",
   "name": "python2"
  },
  "language_info": {
   "codemirror_mode": {
    "name": "ipython",
    "version": 2
   },
   "file_extension": ".py",
   "mimetype": "text/x-python",
   "name": "python",
   "nbconvert_exporter": "python",
   "pygments_lexer": "ipython2",
   "version": "2.7.10"
  }
 },
 "nbformat": 4,
 "nbformat_minor": 0
}
