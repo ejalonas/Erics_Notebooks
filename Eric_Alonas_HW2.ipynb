{
 "cells": [
  {
   "cell_type": "markdown",
   "metadata": {},
   "source": [
    "# Problem 1"
   ]
  },
  {
   "cell_type": "markdown",
   "metadata": {},
   "source": [
    "A training set is a fraction of the available data used create/train a machine learning model. A test set is a fraction of the available data that is reserved to test the model performance after it has been created, this is necessary to prevent the model from \"memorizing\" the data set."
   ]
  },
  {
   "cell_type": "markdown",
   "metadata": {},
   "source": [
    "# Problem 2"
   ]
  },
  {
   "cell_type": "markdown",
   "metadata": {},
   "source": [
    "It is necessary to reserve data in order to prevent memorizing the data and over fitting."
   ]
  },
  {
   "cell_type": "markdown",
   "metadata": {},
   "source": [
    "# Problem 3"
   ]
  },
  {
   "cell_type": "markdown",
   "metadata": {},
   "source": [
    "Advantages: simple, easy to implement, no assumptions. Disadvantages: features must be on same scale, slow/suffers from large data sets and large number of features (must calculate the distance for all data points/features."
   ]
  },
  {
   "cell_type": "markdown",
   "metadata": {},
   "source": [
    "# Problem 4"
   ]
  },
  {
   "cell_type": "markdown",
   "metadata": {},
   "source": [
    "Bias is the difference between the expected value of the model and the actual data. Variance is the expected difference between the value of the model for a given x and it's expected value, squared. Low complexity models are insensitive, highly biased, giving the similar results despite changes in the underlying data. High complexity models are super-sensitivt, highly variant, giving widely different results for differnt datasets."
   ]
  },
  {
   "cell_type": "markdown",
   "metadata": {},
   "source": [
    "# Problem 5"
   ]
  },
  {
   "cell_type": "markdown",
   "metadata": {},
   "source": [
    "At low k, KNN suffers from high bias. At high K it suffers from high variance."
   ]
  },
  {
   "cell_type": "markdown",
   "metadata": {},
   "source": [
    "# Problem 6"
   ]
  },
  {
   "cell_type": "markdown",
   "metadata": {},
   "source": [
    "When suffering high variance, reduce features or switch to a more biased model."
   ]
  },
  {
   "cell_type": "markdown",
   "metadata": {},
   "source": [
    "# Problem 7"
   ]
  },
  {
   "cell_type": "markdown",
   "metadata": {},
   "source": [
    "When suffering from high bias, add more features or swtich to a less biased model."
   ]
  },
  {
   "cell_type": "markdown",
   "metadata": {},
   "source": [
    "# Problem 8"
   ]
  },
  {
   "cell_type": "markdown",
   "metadata": {},
   "source": [
    "Cross validation"
   ]
  },
  {
   "cell_type": "markdown",
   "metadata": {},
   "source": [
    "# Question 1"
   ]
  },
  {
   "cell_type": "markdown",
   "metadata": {},
   "source": [
    "### Load in data"
   ]
  },
  {
   "cell_type": "code",
   "execution_count": 22,
   "metadata": {
    "collapsed": false
   },
   "outputs": [],
   "source": [
    "import pandas as pd\n",
    "import numpy as np\n",
    "import matplotlib.pyplot as plt\n",
    "%matplotlib inline\n",
    "\n",
    "prostate = pd.read_csv('https://raw.githubusercontent.com/galvin-mj/DAT_ATL_15/master/Datasets/ProstateCancer.csv')\n",
    "prostate.head()\n",
    "del prostate['Unnamed: 0']\n",
    "prostate_train = prostate[prostate['train'] == 'T']\n",
    "prostate_test = prostate[prostate['train'] == 'F'] "
   ]
  },
  {
   "cell_type": "markdown",
   "metadata": {},
   "source": [
    "### Linear regression"
   ]
  },
  {
   "cell_type": "code",
   "execution_count": 202,
   "metadata": {
    "collapsed": false
   },
   "outputs": [
    {
     "data": {
      "text/plain": [
       "LinearRegression(copy_X=True, fit_intercept=True, n_jobs=1, normalize=False)"
      ]
     },
     "execution_count": 202,
     "metadata": {},
     "output_type": "execute_result"
    }
   ],
   "source": [
    "from sklearn import linear_model\n",
    "model = linear_model.LinearRegression()\n",
    "\n",
    "#print type(prostate_train.loc[:,'lcavol'])\n",
    "#print prostate_train.loc[:,'lcavol'].shape\n",
    "\n",
    "#print type(prostate_train.loc[:,'lcavol'].values)\n",
    "#print prostate_train.loc[:,'lcavol'].values\n",
    "\n",
    "\n",
    "\n",
    "x = prostate_train.loc[:,'lcavol'].values.reshape(67,1)\n",
    "x.shape\n",
    "\n",
    "y = prostate_train.loc[:,'lpsa'].values\n",
    "y.shape\n",
    "#x2 = x[:,np.newaxis]\n",
    "\n",
    "#print type(x2)\n",
    "\n",
    "#print x2.shape()\n",
    "\n",
    "#print prostate_train.loc[:,'lcavol'].values[0:100]\n",
    "model.fit(prostate_train.loc[:,'lcavol':'pgg45'].values.reshape(67,8),prostate_train.loc[:,'lpsa'].values.reshape(67,1))\n"
   ]
  },
  {
   "cell_type": "code",
   "execution_count": null,
   "metadata": {
    "collapsed": false
   },
   "outputs": [],
   "source": []
  },
  {
   "cell_type": "code",
   "execution_count": null,
   "metadata": {
    "collapsed": false
   },
   "outputs": [],
   "source": []
  },
  {
   "cell_type": "code",
   "execution_count": null,
   "metadata": {
    "collapsed": true
   },
   "outputs": [],
   "source": []
  }
 ],
 "metadata": {
  "kernelspec": {
   "display_name": "Python 2",
   "language": "python",
   "name": "python2"
  },
  "language_info": {
   "codemirror_mode": {
    "name": "ipython",
    "version": 2
   },
   "file_extension": ".py",
   "mimetype": "text/x-python",
   "name": "python",
   "nbconvert_exporter": "python",
   "pygments_lexer": "ipython2",
   "version": "2.7.10"
  }
 },
 "nbformat": 4,
 "nbformat_minor": 0
}
